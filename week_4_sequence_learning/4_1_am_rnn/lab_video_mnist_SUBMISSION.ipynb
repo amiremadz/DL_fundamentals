{
 "cells": [
  {
   "cell_type": "markdown",
   "metadata": {
    "deletable": true,
    "editable": true
   },
   "source": [
    "# Recurrent Neural Network Video MNIST Lab\n",
    "\n",
    "By the end of this lab you will have\n",
    "\n",
    "- Defined and trained a recurrent neural network with keras to perform video frame prediction with `batch_size=1`\n",
    "- Defined and trained a recurrent neural network with keras to perform video frame prediction with `batch_size=100`\n",
    "- Evaluated hyperparameters with a validation set\n",
    "- Defined and trained a recurrent neural network with keras to perform **accurate** video frame prediction\n",
    "\n",
    "Let's get started!\n",
    "\n",
    "The mnist video dataset is courtesty of github user [despoisj](https://github.com/despoisj) and his/her [LatentSpaceVisualization]( https://github.com/despoisj/LatentSpaceVisualization) project.\n",
    "\n",
    "---\n",
    "\n",
    "# Load Data\n",
    "\n",
    "The following code loads in the mnist video dataset and displays the first ten samples."
   ]
  },
  {
   "cell_type": "code",
   "execution_count": 1,
   "metadata": {
    "collapsed": false,
    "deletable": true,
    "editable": true,
    "scrolled": false
   },
   "outputs": [
    {
     "name": "stdout",
     "output_type": "stream",
     "text": [
      "4\n"
     ]
    },
    {
     "data": {
      "image/png": "[encoded data removed]",
      "text/plain": [
       "<PIL.Image.Image image mode=L size=50x50 at 0x10A43EFD0>"
      ]
     },
     "metadata": {},
     "output_type": "display_data"
    },
    {
     "name": "stdout",
     "output_type": "stream",
     "text": [
      "4\n"
     ]
    },
    {
     "data": {
      "image/png": "[encoded data removed]",
      "text/plain": [
       "<PIL.Image.Image image mode=L size=50x50 at 0x10A4DF198>"
      ]
     },
     "metadata": {},
     "output_type": "display_data"
    },
    {
     "name": "stdout",
     "output_type": "stream",
     "text": [
      "4\n"
     ]
    },
    {
     "data": {
      "image/png": "[encoded data removed]",
      "text/plain": [
       "<PIL.Image.Image image mode=L size=50x50 at 0x10A45A128>"
      ]
     },
     "metadata": {},
     "output_type": "display_data"
    },
    {
     "name": "stdout",
     "output_type": "stream",
     "text": [
      "7\n"
     ]
    },
    {
     "data": {
      "image/png": "[encoded data removed]",
      "text/plain": [
       "<PIL.Image.Image image mode=L size=50x50 at 0x10A45A2B0>"
      ]
     },
     "metadata": {},
     "output_type": "display_data"
    },
    {
     "name": "stdout",
     "output_type": "stream",
     "text": [
      "7\n"
     ]
    },
    {
     "data": {
      "image/png": "[encoded data removed]",
      "text/plain": [
       "<PIL.Image.Image image mode=L size=50x50 at 0x10A45A0F0>"
      ]
     },
     "metadata": {},
     "output_type": "display_data"
    },
    {
     "name": "stdout",
     "output_type": "stream",
     "text": [
      "7\n"
     ]
    },
    {
     "data": {
      "image/png": "[encoded data removed]",
      "text/plain": [
       "<PIL.Image.Image image mode=L size=50x50 at 0x10A45A6A0>"
      ]
     },
     "metadata": {},
     "output_type": "display_data"
    },
    {
     "name": "stdout",
     "output_type": "stream",
     "text": [
      "7\n"
     ]
    },
    {
     "data": {
      "image/png": "[encoded data removed]",
      "text/plain": [
       "<PIL.Image.Image image mode=L size=50x50 at 0x10A45A6D8>"
      ]
     },
     "metadata": {},
     "output_type": "display_data"
    },
    {
     "name": "stdout",
     "output_type": "stream",
     "text": [
      "7\n"
     ]
    },
    {
     "data": {
      "image/png": "[encoded data removed]",
      "text/plain": [
       "<PIL.Image.Image image mode=L size=50x50 at 0x10A4DC5F8>"
      ]
     },
     "metadata": {},
     "output_type": "display_data"
    },
    {
     "name": "stdout",
     "output_type": "stream",
     "text": [
      "7\n"
     ]
    },
    {
     "data": {
      "image/png": "[encoded data removed]",
      "text/plain": [
       "<PIL.Image.Image image mode=L size=50x50 at 0x10A4DC6A0>"
      ]
     },
     "metadata": {},
     "output_type": "display_data"
    },
    {
     "name": "stdout",
     "output_type": "stream",
     "text": [
      "5\n"
     ]
    },
    {
     "data": {
      "image/png": "[encoded data removed]",
      "text/plain": [
       "<PIL.Image.Image image mode=L size=50x50 at 0x10A4E8B00>"
      ]
     },
     "metadata": {},
     "output_type": "display_data"
    }
   ],
   "source": [
    "from IPython.display import display\n",
    "import pickle\n",
    "\n",
    "[imgs, y] = pickle.load(open('LatentSpaceVisualization/Visuals/mnist_transitions.p', 'rb'))\n",
    "for img, y_ in zip(imgs[:10], y[:10]):\n",
    "    print(y_)\n",
    "    display(img)"
   ]
  },
  {
   "cell_type": "markdown",
   "metadata": {
    "deletable": true,
    "editable": true
   },
   "source": [
    "# Flatten Images\n",
    "\n",
    "The following code resizes each image to `(28, 28)` and normalizes the pixel intensities and converts `y` to a categorical representation."
   ]
  },
  {
   "cell_type": "code",
   "execution_count": 2,
   "metadata": {
    "collapsed": false,
    "deletable": true,
    "editable": true
   },
   "outputs": [
    {
     "name": "stderr",
     "output_type": "stream",
     "text": [
      "Using TensorFlow backend.\n"
     ]
    },
    {
     "data": {
      "text/plain": [
       "((6000, 784), (6000, 10))"
      ]
     },
     "execution_count": 2,
     "metadata": {},
     "output_type": "execute_result"
    }
   ],
   "source": [
    "import numpy as np\n",
    "from keras.preprocessing.image import img_to_array\n",
    "from keras.utils.np_utils import to_categorical\n",
    "\n",
    "imgs = [img.resize(size=[28, 28]) for img in imgs]\n",
    "X = np.array([img_to_array(img).flatten() for img in imgs]) / 255.\n",
    "Y = to_categorical(y)\n",
    "\n",
    "X.shape, Y.shape"
   ]
  },
  {
   "cell_type": "markdown",
   "metadata": {
    "deletable": true,
    "editable": true
   },
   "source": [
    "# keras RNNs with `batch_size=1`\n",
    "\n",
    "## Question\n",
    "\n",
    "- What shape do you need to convert `X` to to make it compatible a with `SimpleRNN(..., batch_input_shape=[1, 6000, 784])` layer?\n",
    "\n",
    "## Hints\n",
    "\n",
    "- This is the most quick-and-dirty way to make `X` and `Y` compatible with a keras recurrent layer"
   ]
  },
  {
   "cell_type": "markdown",
   "metadata": {
    "collapsed": true,
    "deletable": true,
    "editable": true
   },
   "source": [
    "**Solution:** X should be reshaped to (1, 6000, 784)"
   ]
  },
  {
   "cell_type": "markdown",
   "metadata": {
    "deletable": true,
    "editable": true
   },
   "source": [
    "## Question\n",
    "\n",
    "- How about `Y`?\n",
    "\n",
    "## Hint\n",
    "\n",
    "- The shape for the transformed `Y` is identical to the shape for the transformed `X` but for one dimension"
   ]
  },
  {
   "cell_type": "markdown",
   "metadata": {
    "collapsed": true,
    "deletable": true,
    "editable": true
   },
   "source": [
    "**Solution:** (1,6000,10)"
   ]
  },
  {
   "cell_type": "markdown",
   "metadata": {
    "deletable": true,
    "editable": true
   },
   "source": [
    "## Task\n",
    "\n",
    "- Reshape `X` and `Y` and save them into new variables call `X1` and `Y1` respectively which satisfy the above requirement"
   ]
  },
  {
   "cell_type": "code",
   "execution_count": 3,
   "metadata": {
    "collapsed": false,
    "deletable": true,
    "editable": true
   },
   "outputs": [
    {
     "data": {
      "text/plain": [
       "(1, 6000, 784)"
      ]
     },
     "execution_count": 3,
     "metadata": {},
     "output_type": "execute_result"
    }
   ],
   "source": [
    "X1 = X.reshape(1, X.shape[0], X.shape[1])\n",
    "X1.shape"
   ]
  },
  {
   "cell_type": "code",
   "execution_count": 4,
   "metadata": {
    "collapsed": false
   },
   "outputs": [
    {
     "data": {
      "text/plain": [
       "(1, 6000, 10)"
      ]
     },
     "execution_count": 4,
     "metadata": {},
     "output_type": "execute_result"
    }
   ],
   "source": [
    "Y1 = Y.reshape(1, Y.shape[0], Y.shape[1])\n",
    "Y1.shape"
   ]
  },
  {
   "cell_type": "markdown",
   "metadata": {
    "deletable": true,
    "editable": true
   },
   "source": [
    "## Task\n",
    "\n",
    "- Define a keras RNN model compatible with `X1` and `Y1`\n",
    "\n",
    "## Requirement\n",
    "\n",
    "- You must specify\n",
    "\n",
    "```python\n",
    "SimpleRNN(..., return_sequences=True, batch_input_shape=[1, 6000, 784])\n",
    "```\n",
    "\n",
    "as the first layer in your architecture."
   ]
  },
  {
   "cell_type": "code",
   "execution_count": 5,
   "metadata": {
    "collapsed": false,
    "deletable": true,
    "editable": true
   },
   "outputs": [
    {
     "name": "stdout",
     "output_type": "stream",
     "text": [
      "_________________________________________________________________\n",
      "Layer (type)                 Output Shape              Param #   \n",
      "=================================================================\n",
      "simple_rnn_1 (SimpleRNN)     (1, 6000, 10)             7950      \n",
      "=================================================================\n",
      "Total params: 7,950.0\n",
      "Trainable params: 7,950\n",
      "Non-trainable params: 0.0\n",
      "_________________________________________________________________\n"
     ]
    }
   ],
   "source": [
    "from keras.models import Sequential\n",
    "from keras.layers import SimpleRNN, TimeDistributed, Dense\n",
    "\n",
    "batch_size = 1\n",
    "\n",
    "model = Sequential()\n",
    "model.add(SimpleRNN(units=10, activation='softmax', return_sequences=True, batch_input_shape=[batch_size, X1.shape[1], X1.shape[2]]))\n",
    "model.compile(loss='categorical_crossentropy', optimizer='adam', metrics=['accuracy'])\n",
    "model.summary()"
   ]
  },
  {
   "cell_type": "markdown",
   "metadata": {
    "deletable": true,
    "editable": true
   },
   "source": [
    "## Task\n",
    "\n",
    "- Fit your RNN model on `X1` and `Y1`\n",
    "\n",
    "## Requirement\n",
    "\n",
    "- Fit your model with `model.fit(..., batch_size=1, shuffle=False, epochs=50)`"
   ]
  },
  {
   "cell_type": "code",
   "execution_count": 6,
   "metadata": {
    "collapsed": false
   },
   "outputs": [
    {
     "data": {
      "text/plain": [
       "((1, 6000, 784), (1, 6000, 10), 1)"
      ]
     },
     "execution_count": 6,
     "metadata": {},
     "output_type": "execute_result"
    }
   ],
   "source": [
    "X1.shape, Y1.shape, batch_size"
   ]
  },
  {
   "cell_type": "code",
   "execution_count": 7,
   "metadata": {
    "collapsed": false,
    "deletable": true,
    "editable": true
   },
   "outputs": [
    {
     "data": {
      "image/png": "[encoded data removed]",
      "text/plain": [
       "<matplotlib.figure.Figure at 0x1245aaba8>"
      ]
     },
     "metadata": {},
     "output_type": "display_data"
    },
    {
     "data": {
      "image/png": "[encoded data removed]",
      "text/plain": [
       "<matplotlib.figure.Figure at 0x1245aaa20>"
      ]
     },
     "metadata": {},
     "output_type": "display_data"
    },
    {
     "name": "stdout",
     "output_type": "stream",
     "text": [
      "1/1 [==============================] - 3s - loss: 1.2619 - acc: 0.6695\n"
     ]
    },
    {
     "data": {
      "text/plain": [
       "<keras.callbacks.History at 0x12016dfd0>"
      ]
     },
     "execution_count": 7,
     "metadata": {},
     "output_type": "execute_result"
    }
   ],
   "source": [
    "import IPython\n",
    "import keras\n",
    "import matplotlib.pyplot as plt\n",
    "import pandas as pd\n",
    "%matplotlib inline\n",
    "\n",
    "class TrainingVisualizer(keras.callbacks.History):\n",
    "    def on_epoch_end(self, epoch, logs={}):\n",
    "        super().on_epoch_end(epoch, logs)\n",
    "        IPython.display.clear_output(wait=True)\n",
    "        pd.DataFrame({key: value for key, value in self.history.items() if key.endswith('loss')}).plot()\n",
    "        axes = pd.DataFrame({key: value for key, value in self.history.items() if key.endswith('acc')}).plot()\n",
    "        axes.set_ylim([0, 1])\n",
    "        plt.show()\n",
    "        \n",
    "model.fit(X1, Y1, batch_size, shuffle=False, epochs=50, callbacks=[TrainingVisualizer()])"
   ]
  },
  {
   "cell_type": "markdown",
   "metadata": {
    "deletable": true,
    "editable": true
   },
   "source": [
    "## Question\n",
    "\n",
    "- List two downsides of using `model.fit(..., batch_size=1)` as opposed to `model.fit(..., batch_size=m)` where $m > 1$."
   ]
  },
  {
   "cell_type": "code",
   "execution_count": null,
   "metadata": {
    "collapsed": true,
    "deletable": true,
    "editable": true
   },
   "outputs": [],
   "source": []
  },
  {
   "cell_type": "markdown",
   "metadata": {
    "deletable": true,
    "editable": true
   },
   "source": [
    "# keras RNNs with `batch_size=100`\n",
    "\n",
    "## Question\n",
    "\n",
    "- What shape do you need to convert `X` to to make it compatible a with `SimpleRNN(..., batch_input_shape=[100, 6000, 784])` layer?\n",
    "\n",
    "## Constraint\n",
    "\n",
    "- One batch must complete an entire epoch\n",
    "\n",
    "## Hints\n",
    "\n",
    "- A batch size of `100` means we effectively have `100` copies of our RNN each of which are being simulaneously unrolled on their respective portions of the original input sequence\n",
    "- The answer will be of shape `(batch_size, timesteps, 784)`"
   ]
  },
  {
   "cell_type": "markdown",
   "metadata": {},
   "source": [
    "## Task\n",
    "\n",
    "- Reshape `X` and `Y` and save them into new variables call `X100` and `Y100` respectively which satisfy the above requirement\n",
    "\n",
    "## Requirements\n",
    "\n",
    "- There must be no overlap between batches (i.e. each image can only appear in a single batch\n",
    "\n",
    "## Hint\n",
    "\n",
    "- The simplest way to achieve this is to split `X` into `100` different chunks with `numpy.split()`"
   ]
  },
  {
   "cell_type": "code",
   "execution_count": 8,
   "metadata": {
    "collapsed": false
   },
   "outputs": [
    {
     "data": {
      "text/plain": [
       "((6000, 784), (6000, 10))"
      ]
     },
     "execution_count": 8,
     "metadata": {},
     "output_type": "execute_result"
    }
   ],
   "source": [
    "X.shape, Y.shape"
   ]
  },
  {
   "cell_type": "code",
   "execution_count": 9,
   "metadata": {
    "collapsed": false
   },
   "outputs": [
    {
     "data": {
      "text/plain": [
       "(100, 10, 784)"
      ]
     },
     "execution_count": 9,
     "metadata": {},
     "output_type": "execute_result"
    }
   ],
   "source": [
    "(100, 10, 784)"
   ]
  },
  {
   "cell_type": "code",
   "execution_count": 10,
   "metadata": {
    "collapsed": true
   },
   "outputs": [],
   "source": [
    "batch_size = 100\n",
    "timesteps = 60"
   ]
  },
  {
   "cell_type": "code",
   "execution_count": 11,
   "metadata": {
    "collapsed": true
   },
   "outputs": [],
   "source": [
    "def make_staggered(X_partition, Y_partition, timesteps):\n",
    "    nb_start = len(Y_partition[0]) // timesteps # number of starts a sequence gets per epoch\n",
    "    nb_sequence = len(Y_partition) # number of independent sequences\n",
    "    print(len(X_partition), len(Y_partition), timesteps)\n",
    "    X = np.zeros([nb_start*nb_sequence, timesteps, 784])\n",
    "    Y = np.zeros([nb_start*nb_sequence, timesteps, 10])\n",
    "    print(\"nb_start:\",nb_start,\"nb_sequence:\",nb_sequence)\n",
    "    for i, (x, y) in enumerate(zip(X_partition, Y_partition)):\n",
    "        X[i::nb_sequence] = x.reshape(nb_start, timesteps, 784)\n",
    "        Y[i::nb_sequence] = y.reshape(nb_start, timesteps, 10)\n",
    "        \n",
    "    return X, Y"
   ]
  },
  {
   "cell_type": "code",
   "execution_count": 12,
   "metadata": {
    "collapsed": false
   },
   "outputs": [
    {
     "name": "stdout",
     "output_type": "stream",
     "text": [
      "100 100 60\n",
      "nb_start: 1 nb_sequence: 100\n"
     ]
    },
    {
     "data": {
      "text/plain": [
       "((100, 60, 784), (100, 60, 10))"
      ]
     },
     "execution_count": 12,
     "metadata": {},
     "output_type": "execute_result"
    }
   ],
   "source": [
    "X_partition, Y_partition = np.split(X, batch_size), np.split(Y, batch_size)\n",
    "X100, Y100 = make_staggered(X_partition, Y_partition, timesteps)\n",
    "X100.shape, Y100.shape"
   ]
  },
  {
   "cell_type": "markdown",
   "metadata": {},
   "source": [
    "## Task\n",
    "\n",
    "- Define a RNN model compatible with `X100` and `Y100`\n",
    "\n",
    "## Requirement\n",
    "\n",
    "- You must specify\n",
    "\n",
    "```python\n",
    "SimpleRNN(..., return_sequences=True, batch_input_shape=[100, 60, 784])\n",
    "```\n",
    "\n",
    "as the first layer in your architecture."
   ]
  },
  {
   "cell_type": "code",
   "execution_count": 13,
   "metadata": {
    "collapsed": false
   },
   "outputs": [
    {
     "name": "stdout",
     "output_type": "stream",
     "text": [
      "_________________________________________________________________\n",
      "Layer (type)                 Output Shape              Param #   \n",
      "=================================================================\n",
      "simple_rnn_2 (SimpleRNN)     (100, 60, 10)             7950      \n",
      "=================================================================\n",
      "Total params: 7,950.0\n",
      "Trainable params: 7,950\n",
      "Non-trainable params: 0.0\n",
      "_________________________________________________________________\n"
     ]
    }
   ],
   "source": [
    "model2 = Sequential()\n",
    "model2.add(SimpleRNN(units=10, activation='softmax', return_sequences=True, batch_input_shape=[batch_size, timesteps, 784]))\n",
    "model2.compile(loss='categorical_crossentropy', optimizer='adam', metrics=['accuracy'])\n",
    "model2.summary()"
   ]
  },
  {
   "cell_type": "code",
   "execution_count": null,
   "metadata": {
    "collapsed": true
   },
   "outputs": [],
   "source": []
  },
  {
   "cell_type": "markdown",
   "metadata": {},
   "source": [
    "## Task\n",
    "\n",
    "- Fit Your RNN Model on `X100` and `Y100`\n",
    "\n",
    "## Requirement\n",
    "\n",
    "- Run your model for `model.fit(..., batch_size=100, epochs=50)`"
   ]
  },
  {
   "cell_type": "code",
   "execution_count": 14,
   "metadata": {
    "collapsed": false
   },
   "outputs": [
    {
     "data": {
      "image/png": "[encoded data removed]",
      "text/plain": [
       "<matplotlib.figure.Figure at 0x1256aca20>"
      ]
     },
     "metadata": {},
     "output_type": "display_data"
    },
    {
     "data": {
      "image/png": "[encoded data removed]",
      "text/plain": [
       "<matplotlib.figure.Figure at 0x12d5c4518>"
      ]
     },
     "metadata": {},
     "output_type": "display_data"
    },
    {
     "name": "stdout",
     "output_type": "stream",
     "text": [
      "100/100 [==============================] - 0s - loss: 1.2884 - acc: 0.6700\n"
     ]
    }
   ],
   "source": [
    "class ResetStates(keras.callbacks.Callback):\n",
    "    def on_epoch_end(self, epoch, logs={}):\n",
    "        self.model.reset_states()\n",
    "\n",
    "class TrainingVisualizer(keras.callbacks.History):\n",
    "    def on_epoch_end(self, epoch, logs={}):\n",
    "        super().on_epoch_end(epoch, logs)\n",
    "        IPython.display.clear_output(wait=True)\n",
    "        pd.DataFrame({key: value for key, value in self.history.items() if key.endswith('loss')}).plot()\n",
    "        axes = pd.DataFrame({key: value for key, value in self.history.items() if key.endswith('acc')}).plot()\n",
    "        axes.set_ylim([0, 1])\n",
    "        plt.show()\n",
    "\n",
    "model2.fit(X100, Y100, batch_size,\n",
    "          shuffle=False,\n",
    "          epochs=50,\n",
    "          callbacks=[ResetStates(), TrainingVisualizer()]);"
   ]
  },
  {
   "cell_type": "code",
   "execution_count": null,
   "metadata": {
    "collapsed": false,
    "deletable": true,
    "editable": true,
    "scrolled": true
   },
   "outputs": [],
   "source": []
  },
  {
   "cell_type": "markdown",
   "metadata": {
    "deletable": true,
    "editable": true
   },
   "source": [
    "## Question\n",
    "\n",
    "- Describe the differences you see when optimizing on `(X100, Y100)` as opposed to `(X1, Y1)`."
   ]
  },
  {
   "cell_type": "code",
   "execution_count": null,
   "metadata": {
    "collapsed": true,
    "deletable": true,
    "editable": true
   },
   "outputs": [],
   "source": []
  },
  {
   "cell_type": "markdown",
   "metadata": {
    "deletable": true,
    "editable": true
   },
   "source": [
    "## Task\n",
    "\n",
    "- Split up `X100` and `Y100` into variables `(X_train50, Y_train50)` and `(X_val50, Y_val50)` and re-fit your model with this validation data\n",
    "\n",
    "## Hints\n",
    "\n",
    "- `X_train50` and `Y_train50` have shape `(50, 60, 784)` and `(50, 60, 10)` respectively. Their validation counterparts follow similarly."
   ]
  },
  {
   "cell_type": "code",
   "execution_count": 15,
   "metadata": {
    "collapsed": false
   },
   "outputs": [
    {
     "data": {
      "text/plain": [
       "((100, 60, 784), (100, 60, 10))"
      ]
     },
     "execution_count": 15,
     "metadata": {},
     "output_type": "execute_result"
    }
   ],
   "source": [
    "X100.shape, Y100.shape"
   ]
  },
  {
   "cell_type": "code",
   "execution_count": 37,
   "metadata": {
    "collapsed": true
   },
   "outputs": [],
   "source": [
    "batch_size = 50\n",
    "timesteps = 60"
   ]
  },
  {
   "cell_type": "code",
   "execution_count": 38,
   "metadata": {
    "collapsed": false
   },
   "outputs": [
    {
     "data": {
      "text/plain": [
       "((50, 60, 784), (50, 60, 10), (50, 60, 784), (50, 60, 10))"
      ]
     },
     "execution_count": 38,
     "metadata": {},
     "output_type": "execute_result"
    }
   ],
   "source": [
    "X_train50 = X100[:50]\n",
    "Y_train50 = Y100[:50]\n",
    "X_val50 = X100[50:]\n",
    "Y_val50 = Y100[50:]\n",
    "X_train50.shape, Y_train50.shape, X_val50.shape, Y_val50.shape"
   ]
  },
  {
   "cell_type": "markdown",
   "metadata": {
    "deletable": true,
    "editable": true
   },
   "source": [
    "## Task\n",
    "\n",
    "- Modify your keras model to make it compatible with `(X_train50, Y_train50)` and `(X_val50, Y_val50)`\n",
    "\n",
    "## Hint\n",
    "\n",
    "- Re-instantiate your model with `SimpleRNN(..., batch_input_shape=[50, 60, 784])`"
   ]
  },
  {
   "cell_type": "code",
   "execution_count": 39,
   "metadata": {
    "collapsed": false,
    "deletable": true,
    "editable": true
   },
   "outputs": [
    {
     "name": "stdout",
     "output_type": "stream",
     "text": [
      "_________________________________________________________________\n",
      "Layer (type)                 Output Shape              Param #   \n",
      "=================================================================\n",
      "simple_rnn_3 (SimpleRNN)     (50, 60, 10)              7950      \n",
      "=================================================================\n",
      "Total params: 7,950.0\n",
      "Trainable params: 7,950\n",
      "Non-trainable params: 0.0\n",
      "_________________________________________________________________\n"
     ]
    }
   ],
   "source": [
    "model3 = Sequential()\n",
    "model3.add(SimpleRNN(units=10, activation='softmax', return_sequences=True, batch_input_shape=[batch_size, timesteps, 784]))\n",
    "model3.compile(loss='categorical_crossentropy', optimizer='adam', metrics=['accuracy'])\n",
    "model3.summary()"
   ]
  },
  {
   "cell_type": "markdown",
   "metadata": {
    "deletable": true,
    "editable": true
   },
   "source": [
    "## Question\n",
    "\n",
    "- Why did we choose `50` for our new batch size?"
   ]
  },
  {
   "cell_type": "markdown",
   "metadata": {},
   "source": [
    "**Solution:** Smaller batches could be "
   ]
  },
  {
   "cell_type": "markdown",
   "metadata": {
    "deletable": true,
    "editable": true
   },
   "source": [
    "## Task\n",
    "\n",
    "- Refit your model with `(X_train50, Y_train50)` and `(X_val50, Y_val50)`\n",
    "\n",
    "## Hint\n",
    "\n",
    "- Make sure to call `model.fit(..., batch_size=50)`"
   ]
  },
  {
   "cell_type": "code",
   "execution_count": 40,
   "metadata": {
    "collapsed": false
   },
   "outputs": [
    {
     "data": {
      "image/png": "[encoded data removed]",
      "text/plain": [
       "<matplotlib.figure.Figure at 0x12db41048>"
      ]
     },
     "metadata": {},
     "output_type": "display_data"
    },
    {
     "data": {
      "image/png": "[encoded data removed]",
      "text/plain": [
       "<matplotlib.figure.Figure at 0x12db414a8>"
      ]
     },
     "metadata": {},
     "output_type": "display_data"
    },
    {
     "name": "stdout",
     "output_type": "stream",
     "text": [
      "50/50 [==============================] - 0s - loss: 1.2779 - acc: 0.6850 - val_loss: 1.3760 - val_acc: 0.6170\n"
     ]
    }
   ],
   "source": [
    "model3.fit(X_train50, Y_train50, batch_size,\n",
    "          validation_data=(X_val50, Y_val50),\n",
    "          shuffle=False,\n",
    "          epochs=50,\n",
    "          callbacks=[ResetStates(), TrainingVisualizer()]);"
   ]
  },
  {
   "cell_type": "code",
   "execution_count": null,
   "metadata": {
    "collapsed": true,
    "deletable": true,
    "editable": true
   },
   "outputs": [],
   "source": []
  },
  {
   "cell_type": "markdown",
   "metadata": {
    "deletable": true,
    "editable": true
   },
   "source": [
    "## Task\n",
    "\n",
    "- Design and optimize a recurrent neural network to maximize validation accuracy on `(X_val50, Y_val50)`\n",
    "\n",
    "## Hints\n",
    "\n",
    "- Stack multiple recurrent layers\n",
    "- Use a convolutional layer between the recurrent layers and the image\n",
    "\n",
    "## Requirement\n",
    "\n",
    "- The only recurrent layer you can use is SimpleRNN"
   ]
  },
  {
   "cell_type": "code",
   "execution_count": 73,
   "metadata": {
    "collapsed": false
   },
   "outputs": [
    {
     "data": {
      "text/plain": [
       "((50, 60, 784), 50, 60)"
      ]
     },
     "execution_count": 73,
     "metadata": {},
     "output_type": "execute_result"
    }
   ],
   "source": [
    "X_train50.shape, batch_size, timesteps"
   ]
  },
  {
   "cell_type": "code",
   "execution_count": 87,
   "metadata": {
    "collapsed": true
   },
   "outputs": [],
   "source": [
    "from keras.layers import Dense, Flatten, Reshape\n",
    "from keras.layers import Conv1D, MaxPooling1D, Conv2D, MaxPooling2D"
   ]
  },
  {
   "cell_type": "code",
   "execution_count": 99,
   "metadata": {
    "collapsed": false,
    "deletable": true,
    "editable": true
   },
   "outputs": [
    {
     "name": "stdout",
     "output_type": "stream",
     "text": [
      "_________________________________________________________________\n",
      "Layer (type)                 Output Shape              Param #   \n",
      "=================================================================\n",
      "simple_rnn_24 (SimpleRNN)    (50, 60, 10)              7950      \n",
      "_________________________________________________________________\n",
      "conv1d_25 (Conv1D)           (50, 60, 10)              110       \n",
      "_________________________________________________________________\n",
      "max_pooling1d_12 (MaxPooling (50, 60, 10)              0         \n",
      "=================================================================\n",
      "Total params: 8,060.0\n",
      "Trainable params: 8,060.0\n",
      "Non-trainable params: 0.0\n",
      "_________________________________________________________________\n"
     ]
    }
   ],
   "source": [
    "model4 = Sequential()\n",
    "model4.add(SimpleRNN(units=10, activation='softmax', return_sequences=True, batch_input_shape=[batch_size, timesteps, 784]))\n",
    "model4.add(Conv1D(10, \n",
    "                 kernel_size=1,\n",
    "                 activation='softmax'))\n",
    "model4.add(MaxPooling1D(pool_size=1))\n",
    "model.add(Dense(10, activation='softmax'))\n",
    "model4.compile(loss='categorical_crossentropy', optimizer='adam', metrics=['accuracy'])\n",
    "model4.summary()"
   ]
  },
  {
   "cell_type": "code",
   "execution_count": 72,
   "metadata": {
    "collapsed": false
   },
   "outputs": [
    {
     "data": {
      "image/png": "[encoded data removed]",
      "text/plain": [
       "<matplotlib.figure.Figure at 0x12ecdd978>"
      ]
     },
     "metadata": {},
     "output_type": "display_data"
    },
    {
     "data": {
      "image/png": "[encoded data removed]",
      "text/plain": [
       "<matplotlib.figure.Figure at 0x12ecddb70>"
      ]
     },
     "metadata": {},
     "output_type": "display_data"
    },
    {
     "name": "stdout",
     "output_type": "stream",
     "text": [
      "50/50 [==============================] - 0s - loss: 2.2187 - acc: 0.2810 - val_loss: 2.2290 - val_acc: 0.2600\n"
     ]
    }
   ],
   "source": [
    "model4.fit(X_train50, Y_train50, batch_size,\n",
    "          validation_data=(X_val50, Y_val50),\n",
    "          shuffle=False,\n",
    "          epochs=50,\n",
    "          callbacks=[ResetStates(), TrainingVisualizer()]);"
   ]
  },
  {
   "cell_type": "markdown",
   "metadata": {
    "deletable": true,
    "editable": true
   },
   "source": [
    "# Bonus Activities\n",
    "\n",
    "- Use more than one batch per epoch with keras stateful RNNs\n",
    "- Use overlapping windows instead of disjoint windows in each batch\n",
    "- Monitor gradients during training with tensorboard"
   ]
  }
 ],
 "metadata": {
  "kernelspec": {
   "display_name": "dl",
   "language": "python",
   "name": "dl"
  },
  "language_info": {
   "codemirror_mode": {
    "name": "ipython",
    "version": 3
   },
   "file_extension": ".py",
   "mimetype": "text/x-python",
   "name": "python",
   "nbconvert_exporter": "python",
   "pygments_lexer": "ipython3",
   "version": "3.6.0"
  }
 },
 "nbformat": 4,
 "nbformat_minor": 2
}
