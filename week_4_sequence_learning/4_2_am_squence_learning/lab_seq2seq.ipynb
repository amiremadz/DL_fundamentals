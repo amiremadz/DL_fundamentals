{
 "cells": [
  {
   "cell_type": "markdown",
   "metadata": {
    "deletable": true,
    "editable": true
   },
   "source": [
    "# Sequence to Sequence Lab\n",
    "\n",
    "Welcome to the sequence to sequence lab! By the end of this lab you will have\n",
    "\n",
    "- Trained a recurrent neural networks to perform arithmetic\n",
    "- Written a keras callback to track your model throughout training\n",
    "\n",
    "Let's get started!\n",
    "\n",
    "---\n",
    "\n",
    "# Synthetic Data Parameters\n",
    "\n",
    "The following code defines a set of hyperparameters describing the synthetic addition dataset."
   ]
  },
  {
   "cell_type": "code",
   "execution_count": 4,
   "metadata": {
    "collapsed": false,
    "deletable": true,
    "editable": true
   },
   "outputs": [
    {
     "data": {
      "text/plain": [
       "{'CHARS': ['0', '1', '2', '3', '4', '5', '6', '7', '8', '9', ' ', '-', '+'],\n",
       " 'DIGITS': [0, 1, 2, 3, 4, 5, 6, 7, 8, 9],\n",
       " 'LEN_MAXNUM': 1,\n",
       " 'MAXLEN_ANS': 3,\n",
       " 'MAXLEN_EXPR': 5,\n",
       " 'MAXNUM': 9,\n",
       " 'MINNUM': -9,\n",
       " 'NB_CHAR': 13,\n",
       " 'NB_DIGIT': 10,\n",
       " 'NB_TRAIN': 10000}"
      ]
     },
     "execution_count": 4,
     "metadata": {},
     "output_type": "execute_result"
    }
   ],
   "source": [
    "H = {}\n",
    "\n",
    "NB_NB = 2\n",
    "\n",
    "H['NB_DIGIT'] = 10\n",
    "H['DIGITS'] = list(range(H['NB_DIGIT']))\n",
    "H['MAXNUM'] = 9\n",
    "H['MINNUM'], H['LEN_MAXNUM'] = -H['MAXNUM'], len(str(H['MAXNUM']))\n",
    "H['CHARS'] = [str(d) for d in H['DIGITS']] + [' ', '-', '+']\n",
    "H['NB_CHAR'] = len(H['CHARS'])\n",
    "H['MAXLEN_EXPR'] = '+'.join([f'-{H[\"MAXNUM\"]}']*NB_NB)\n",
    "H['MAXLEN_EXPR'] = len(H['MAXLEN_EXPR'])\n",
    "H['MAXLEN_ANS'] = len(f'-{str(H[\"MAXNUM\"]*NB_NB)}')\n",
    "H['NB_TRAIN'] = 10_000\n",
    "\n",
    "idx_to_char, char_to_idx = {i: c for i, c in enumerate(H['CHARS'])}, {c: i for i, c in enumerate(H['CHARS'])}\n",
    "\n",
    "H"
   ]
  },
  {
   "cell_type": "markdown",
   "metadata": {
    "deletable": true,
    "editable": true
   },
   "source": [
    "# Generate Equations\n",
    "\n",
    "The following code will create a list of arithmetic expressions paired with their evaluation."
   ]
  },
  {
   "cell_type": "code",
   "execution_count": null,
   "metadata": {
    "collapsed": false,
    "deletable": true,
    "editable": true,
    "scrolled": true
   },
   "outputs": [],
   "source": [
    "import numpy as np\n",
    "import operator\n",
    "import itertools\n",
    "\n",
    "sets = [None]*(NB_NB + NB_NB-1)\n",
    "sets[::2] = [range(H['MINNUM'], H['MAXNUM']+1) for _ in range(NB_NB)]\n",
    "sets[1::2] = [['+', '-'] for _ in range(NB_NB-1)]\n",
    "\n",
    "equations = []\n",
    "for expr in itertools.product(*sets):\n",
    "    expr = ''.join(str(sub_expr) for sub_expr in expr)\n",
    "    expr = '%*s' % (H['MAXLEN_EXPR'], expr)\n",
    "    ans = '%-*d' % (H['MAXLEN_ANS'], eval(expr))\n",
    "    equations.append([expr, ans])\n",
    "    \n",
    "H['NB_TRAIN'] = min(H['NB_TRAIN'], len(equations))\n",
    "equations[:5]"
   ]
  },
  {
   "cell_type": "markdown",
   "metadata": {
    "deletable": true,
    "editable": true
   },
   "source": [
    "# Vectorize Equations\n",
    "\n",
    "The following code converts equations into source and target sequences of one-hot character vectors."
   ]
  },
  {
   "cell_type": "code",
   "execution_count": null,
   "metadata": {
    "collapsed": false,
    "deletable": true,
    "editable": true
   },
   "outputs": [],
   "source": [
    "from IPython.display import display\n",
    "import numpy as np\n",
    "import pandas as pd\n",
    "\n",
    "X = np.zeros([H['NB_TRAIN'], H['MAXLEN_EXPR'], H['NB_CHAR']])\n",
    "y = np.zeros([H['NB_TRAIN'], H['MAXLEN_ANS'], H['NB_DIGIT']+2]) # +2 for ' ' and '-\n",
    "for i, (expr, ans) in enumerate(equations[:H['NB_TRAIN']]):\n",
    "    X[np.full(H['MAXLEN_EXPR'], fill_value=i), np.arange(H['MAXLEN_EXPR']), [char_to_idx[c] for c in expr]] = 1\n",
    "    y[np.full(H['MAXLEN_ANS'], fill_value=i), np.arange(H['MAXLEN_ANS']), [char_to_idx[c] for c in ans]] = 1\n",
    "\n",
    "idxs = np.arange(len(y))\n",
    "np.random.shuffle(idxs)\n",
    "X = X[idxs, :H['NB_TRAIN']]\n",
    "y = y[idxs, :H['NB_TRAIN']]\n",
    "equations = [equations[i] for i in idxs][:H['NB_TRAIN']]\n",
    "\n",
    "print(equations[0])\n",
    "dfx, dfy = pd.DataFrame(X[0], dtype=np.uint, columns=H['CHARS']), pd.DataFrame(y[0], dtype=np.uint, columns=H['CHARS'][:-1])\n",
    "dfx.index.name = dfy.index.name = 'Timestep'\n",
    "display(dfx.style.highlight_max(color='red', axis=1)); display(dfy.style.highlight_max(color='red', axis=1))"
   ]
  },
  {
   "cell_type": "markdown",
   "metadata": {
    "deletable": true,
    "editable": true
   },
   "source": [
    "# Define Sequence to Sequence Model\n",
    "\n",
    "## Tasks\n",
    "\n",
    "- Define a keras sequence to sequence model that maps arithmetic expressions to number values\n",
    "\n",
    "## Requirements\n",
    "\n",
    "- Use the data parameters in `H` to define the dimensions of your architecture\n",
    "- Fit your model to training data with `NB_NB=2` and `MAXNUM=9`\n",
    "- Report accuracy on a `validation_split=.1`\n",
    "\n",
    "## Hints\n",
    "\n",
    "- Refer to the [`keras.examples.addition_rnn.py`](https://github.com/fchollet/keras/blob/master/examples/addition_rnn.py) for an example architecture which performs addition\n",
    "- Start off simple (e.g. one LSTM layer for the encoder and one LSTM layer for the decoder)\n",
    "- Use the following callback to visualize model performance during training\n",
    "- Start simple with the smallest model you can think of to diagnose underfitting/overfitting and go from there"
   ]
  },
  {
   "cell_type": "code",
   "execution_count": null,
   "metadata": {
    "collapsed": false,
    "deletable": true,
    "editable": true,
    "scrolled": false
   },
   "outputs": [],
   "source": []
  },
  {
   "cell_type": "markdown",
   "metadata": {
    "deletable": true,
    "editable": true
   },
   "source": [
    "# Question\n",
    "\n",
    "Is your model underfitting or overfitting the data or can't you quite tell? Justify your answer with appropriate data and visualizations."
   ]
  },
  {
   "cell_type": "code",
   "execution_count": null,
   "metadata": {
    "collapsed": true,
    "deletable": true,
    "editable": true
   },
   "outputs": [],
   "source": []
  },
  {
   "cell_type": "markdown",
   "metadata": {
    "deletable": true,
    "editable": true
   },
   "source": [
    "# Bonus Tasks\n",
    "\n",
    "---\n",
    "\n",
    "# Error Analysis\n",
    "\n",
    "It is time to get some insight into your model.\n",
    "\n",
    "## Task\n",
    "\n",
    "- Create a keras callback which has the model make predictions on a sample of held-out data points and display its guesses\n",
    "- Refit the model on the training data and use this callback during training\n",
    "\n",
    "## Requirements\n",
    "\n",
    "- Have this callback run at the beginning of every epoch so you can see how the model is performing over time"
   ]
  },
  {
   "cell_type": "code",
   "execution_count": null,
   "metadata": {
    "collapsed": false,
    "deletable": true,
    "editable": true
   },
   "outputs": [],
   "source": []
  },
  {
   "cell_type": "markdown",
   "metadata": {
    "deletable": true,
    "editable": true
   },
   "source": [
    "## Question\n",
    "\n",
    "- What types of data points do you think the model is having the most difficult time with?"
   ]
  },
  {
   "cell_type": "code",
   "execution_count": null,
   "metadata": {
    "collapsed": true,
    "deletable": true,
    "editable": true
   },
   "outputs": [],
   "source": []
  },
  {
   "cell_type": "markdown",
   "metadata": {
    "deletable": true,
    "editable": true
   },
   "source": [
    "## Question\n",
    "\n",
    "- What type of expressions is your model struggling the most with predicting correctly?\n",
    "\n",
    "## Requirements\n",
    "\n",
    "- Justify your answer with appropriate plots and reasoning."
   ]
  },
  {
   "cell_type": "code",
   "execution_count": null,
   "metadata": {
    "collapsed": true,
    "deletable": true,
    "editable": true
   },
   "outputs": [],
   "source": []
  },
  {
   "cell_type": "markdown",
   "metadata": {
    "deletable": true,
    "editable": true
   },
   "source": [
    "# Task\n",
    "\n",
    "- Experiment with different numbers of intermediate plus and minus signs. Can you find the relationship between these numbers and the size of an LSTM (e.g. number of layers)?"
   ]
  },
  {
   "cell_type": "code",
   "execution_count": null,
   "metadata": {
    "collapsed": true,
    "deletable": true,
    "editable": true
   },
   "outputs": [],
   "source": []
  }
 ],
 "metadata": {
  "kernelspec": {
   "display_name": "Python 3",
   "language": "python",
   "name": "python3"
  },
  "language_info": {
   "codemirror_mode": {
    "name": "ipython",
    "version": 3
   },
   "file_extension": ".py",
   "mimetype": "text/x-python",
   "name": "python",
   "nbconvert_exporter": "python",
   "pygments_lexer": "ipython3",
   "version": "3.6.1"
  }
 },
 "nbformat": 4,
 "nbformat_minor": 2
}
