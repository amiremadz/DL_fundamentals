{
 "cells": [
  {
   "cell_type": "markdown",
   "metadata": {
    "deletable": true,
    "editable": true
   },
   "source": [
    "# Data Augmentation Lab\n",
    "\n",
    "Welcome to the data augmentation lab! By the end of this lab you will have\n",
    "\n",
    "- Used data augmentation to increase the effective size a training set resulting in increased performance on MNIST\n",
    "\n",
    "Let's get started!\n",
    "\n",
    "# Load MNIST\n",
    "\n",
    "The following code loads MNIST images into memory and normalizes them."
   ]
  },
  {
   "cell_type": "code",
   "execution_count": null,
   "metadata": {
    "collapsed": false,
    "deletable": true,
    "editable": true
   },
   "outputs": [],
   "source": [
    "from IPython.display import display\n",
    "from keras.datasets import mnist\n",
    "\n",
    "[X_mnist, y_mnist], [X_test, y_test] = mnist.load_data()\n",
    "X_mnist, X_test = X_mnist/255., X_test/255.\n",
    "    \n",
    "X_mnist.shape"
   ]
  },
  {
   "cell_type": "markdown",
   "metadata": {
    "deletable": true,
    "editable": true
   },
   "source": [
    "# Create Training Set\n",
    "\n",
    "The following code creates a training set consisting of one image digit per class."
   ]
  },
  {
   "cell_type": "code",
   "execution_count": null,
   "metadata": {
    "collapsed": false,
    "deletable": true,
    "editable": true,
    "scrolled": false
   },
   "outputs": [],
   "source": [
    "from IPython.display import display\n",
    "from keras.preprocessing.image import array_to_img\n",
    "import numpy as np\n",
    "\n",
    "digit_idxs = [np.argwhere(y_mnist == d).flatten()[0] for d in range(10)]\n",
    "X_train = X_mnist[digit_idxs]\n",
    "\n",
    "for x in X_train:\n",
    "    img = array_to_img(np.expand_dims(x, axis=0), data_format='channels_first')\n",
    "    display(img)\n",
    "\n",
    "X_train.shape"
   ]
  },
  {
   "cell_type": "markdown",
   "metadata": {
    "deletable": true,
    "editable": true
   },
   "source": [
    "## Define the CNN Architecture\n",
    "\n",
    "The following code defines and compiles a CNN architecture. You are **not** to modify it!"
   ]
  },
  {
   "cell_type": "code",
   "execution_count": null,
   "metadata": {
    "collapsed": false,
    "deletable": true,
    "editable": true
   },
   "outputs": [],
   "source": [
    "from keras.models import Sequential\n",
    "from keras.layers import Conv2D, MaxPooling2D, Flatten, Dense, Dropout\n",
    "\n",
    "model = Sequential()\n",
    "model.add(Conv2D(32, kernel_size=(3, 3), activation='relu', input_shape=[28, 28, 1]))\n",
    "model.add(Conv2D(64, (3, 3), activation='relu'))\n",
    "model.add(MaxPooling2D(pool_size=(2, 2)))\n",
    "model.add(Dropout(0.25))\n",
    "model.add(Flatten())\n",
    "model.add(Dense(128, activation='relu'))\n",
    "model.add(Dropout(0.5))\n",
    "model.add(Dense(10, activation='softmax'))\n",
    "\n",
    "model.summary()\n",
    "model.compile(loss='categorical_crossentropy', optimizer='adadelta', metrics=['accuracy'])"
   ]
  },
  {
   "cell_type": "markdown",
   "metadata": {
    "deletable": true,
    "editable": true
   },
   "source": [
    "## Prepare Data for TensorFlow\n",
    "\n",
    "The following code converts the training and test images into TensorFlow dimension ordering. Additionally we only take the first 1000 test images to form our test set."
   ]
  },
  {
   "cell_type": "code",
   "execution_count": null,
   "metadata": {
    "collapsed": false,
    "deletable": true,
    "editable": true
   },
   "outputs": [],
   "source": [
    "from keras.utils.np_utils import to_categorical\n",
    "\n",
    "nb_test = 1000\n",
    "\n",
    "X_tf_train = np.expand_dims(X_train, axis=-1)\n",
    "X_tf_test = np.expand_dims(X_test, axis=-1)[:nb_test]\n",
    "\n",
    "y_train, y_test = np.arange(10), y_test[:nb_test]\n",
    "Y_train, Y_test = to_categorical(y_train), to_categorical(y_test)\n",
    "\n",
    "X_tf_train.shape, X_tf_test.shape"
   ]
  },
  {
   "cell_type": "markdown",
   "metadata": {
    "deletable": true,
    "editable": true
   },
   "source": [
    "# Fit the Model\n",
    "\n",
    "The following code fits the model defined above on the training set and validates over the test set. A callback is used which displays training information after every epoch."
   ]
  },
  {
   "cell_type": "code",
   "execution_count": null,
   "metadata": {
    "collapsed": false,
    "deletable": true,
    "editable": true
   },
   "outputs": [],
   "source": [
    "import IPython\n",
    "import keras\n",
    "import matplotlib.pyplot as plt\n",
    "import pandas as pd\n",
    "%matplotlib inline\n",
    "\n",
    "class TrainingVisualizerCallback(keras.callbacks.History):\n",
    "    def on_epoch_end(self, epoch, logs={}):\n",
    "        super().on_epoch_end(epoch, logs)\n",
    "        IPython.display.clear_output(wait=True)\n",
    "        pd.DataFrame(self.history).plot()\n",
    "        plt.show()\n",
    "\n",
    "model.fit(X_tf_train, Y_train, epochs=25, validation_data=(X_tf_test, Y_test), callbacks=[TrainingVisualizerCallback()])"
   ]
  },
  {
   "cell_type": "markdown",
   "metadata": {
    "deletable": true,
    "editable": true
   },
   "source": [
    "## Task\n",
    "\n",
    "- Play around with `keras.preprocessing.image.ImageDataGenerator` to generate some images which look like realistic MNIST images\n",
    "\n",
    "## Hints\n",
    "\n",
    "- Learn what types of augmentations are available by reading the [`keras.preprocessing.image.ImageDataGenerator`](https://keras.io/preprocessing/image/) documentation"
   ]
  },
  {
   "cell_type": "code",
   "execution_count": null,
   "metadata": {
    "collapsed": false,
    "deletable": true,
    "editable": true
   },
   "outputs": [],
   "source": [
    "from IPython.display import display\n",
    "import keras\n",
    "\n",
    "datagen = keras.preprocessing.image.ImageDataGenerator()\n",
    "\n",
    "image = datagen.flow(X_tf_train, y_train, batch_size=1)\n",
    "for _ in range(10):\n",
    "    X, y = next(image)\n",
    "    img = array_to_img(X[0])\n",
    "    display(img)"
   ]
  },
  {
   "cell_type": "markdown",
   "metadata": {
    "deletable": true,
    "editable": true
   },
   "source": [
    "## Task\n",
    "\n",
    "- Use data augmentation to improve over the baseline performance of using just a single training example from each class\n",
    "\n",
    "## Hints\n",
    "\n",
    "- Use [`keras.preprocessing.image.ImageDataGenerator`](https://keras.io/preprocessing/image/) for performing data augmentation to increase the effective size of your training set\n",
    "\n",
    "## Requirements\n",
    "\n",
    "- Use the hyperparameters above and do **not** modify any of them\n",
    "- Execute the code cell above which redefines and recompiles the model to reset the weights!\n",
    "\n",
    "## Concessions\n",
    "\n",
    "- You may use `X_tf_test` for validation `(`e.g. `model.fit(..., validation_data=(X_tf_test, Y_test))` for simplicity and report this number"
   ]
  },
  {
   "cell_type": "code",
   "execution_count": null,
   "metadata": {
    "collapsed": false,
    "deletable": true,
    "editable": true
   },
   "outputs": [],
   "source": []
  },
  {
   "cell_type": "markdown",
   "metadata": {},
   "source": [
    "# Question\n",
    "\n",
    "- Did you find any augmentations which resulted in an increase in prediction accuracy? If so, which augmentation(s)? Be sure to include evidence data to back up your claim."
   ]
  },
  {
   "cell_type": "code",
   "execution_count": null,
   "metadata": {
    "collapsed": true
   },
   "outputs": [],
   "source": []
  }
 ],
 "metadata": {
  "kernelspec": {
   "display_name": "Python 3",
   "language": "python",
   "name": "python3"
  },
  "language_info": {
   "codemirror_mode": {
    "name": "ipython",
    "version": 3
   },
   "file_extension": ".py",
   "mimetype": "text/x-python",
   "name": "python",
   "nbconvert_exporter": "python",
   "pygments_lexer": "ipython3",
   "version": "3.6.1"
  }
 },
 "nbformat": 4,
 "nbformat_minor": 2
}
