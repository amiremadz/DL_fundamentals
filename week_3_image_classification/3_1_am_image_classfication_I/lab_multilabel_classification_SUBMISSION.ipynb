{
 "cells": [
  {
   "cell_type": "markdown",
   "metadata": {
    "deletable": true,
    "editable": true
   },
   "source": [
    "# Multi-Label Classification Lab\n",
    "\n",
    "Welcome to the Multi-Label Image Classification Lab! By the end of this lab, you will have\n",
    "\n",
    "- Implemented a multi-label image classification model\n",
    "- Gained intuition for how a CNN learns to predict multiple classes\n",
    "- Used data augmentation to maximize the effective size of your training set"
   ]
  },
  {
   "cell_type": "markdown",
   "metadata": {
    "deletable": true,
    "editable": true
   },
   "source": [
    "# Load MNIST Images\n",
    "\n",
    "The following code loads MNIST images and normalizes them. It also displays the first five images in the dataset."
   ]
  },
  {
   "cell_type": "code",
   "execution_count": 1,
   "metadata": {
    "collapsed": false,
    "deletable": true,
    "editable": true
   },
   "outputs": [
    {
     "name": "stderr",
     "output_type": "stream",
     "text": [
      "Using TensorFlow backend.\n"
     ]
    },
    {
     "data": {
      "image/png": "[encoded data removed]",
      "text/plain": [
       "<PIL.Image.Image image mode=L size=28x28 at 0x117190FD0>"
      ]
     },
     "metadata": {},
     "output_type": "display_data"
    },
    {
     "data": {
      "image/png": "[encoded data removed]",
      "text/plain": [
       "<PIL.Image.Image image mode=L size=28x28 at 0x11BAB61D0>"
      ]
     },
     "metadata": {},
     "output_type": "display_data"
    },
    {
     "data": {
      "image/png": "[encoded data removed]",
      "text/plain": [
       "<PIL.Image.Image image mode=L size=28x28 at 0x11BAC4128>"
      ]
     },
     "metadata": {},
     "output_type": "display_data"
    },
    {
     "data": {
      "image/png": "[encoded data removed]",
      "text/plain": [
       "<PIL.Image.Image image mode=L size=28x28 at 0x11BAB6E10>"
      ]
     },
     "metadata": {},
     "output_type": "display_data"
    },
    {
     "data": {
      "image/png": "[encoded data removed]",
      "text/plain": [
       "<PIL.Image.Image image mode=L size=28x28 at 0x11BAC4208>"
      ]
     },
     "metadata": {},
     "output_type": "display_data"
    },
    {
     "data": {
      "text/plain": [
       "(60000, 28, 28)"
      ]
     },
     "execution_count": 1,
     "metadata": {},
     "output_type": "execute_result"
    }
   ],
   "source": [
    "from IPython.display import display\n",
    "import numpy as np\n",
    "from keras.datasets import mnist\n",
    "from keras.preprocessing.image import array_to_img, img_to_array\n",
    "\n",
    "[X_mnist, y_mnist], _ = mnist.load_data()\n",
    "X_mnist = X_mnist.astype(np.float) / 255.\n",
    "\n",
    "for x in X_mnist[:5]:\n",
    "    x = np.expand_dims(x, axis=0)\n",
    "    img = array_to_img(x, data_format='channels_first')\n",
    "    display(img)\n",
    "    \n",
    "X_mnist.shape"
   ]
  },
  {
   "cell_type": "markdown",
   "metadata": {
    "deletable": true,
    "editable": true
   },
   "source": [
    "# Concatenate Images\n",
    "\n",
    "The following code creates images of the form\n",
    "\n",
    "| Left | Right |\n",
    "|:----:|:-----:|\n",
    "| $\\mathbb{N}_9$ - $\\{3\\}$ | $\\mathbb{N}_9$ |\n",
    "\n",
    "where $\\mathbb{N}_n$ are the digits $(0, 1, \\ldots, n)$."
   ]
  },
  {
   "cell_type": "code",
   "execution_count": 2,
   "metadata": {
    "collapsed": false,
    "deletable": true,
    "editable": true
   },
   "outputs": [
    {
     "name": "stdout",
     "output_type": "stream",
     "text": [
      "[4 2]\n"
     ]
    },
    {
     "data": {
      "image/png": "[encoded data removed]",
      "text/plain": [
       "<PIL.Image.Image image mode=L size=56x28 at 0x11C333B00>"
      ]
     },
     "metadata": {},
     "output_type": "display_data"
    },
    {
     "name": "stdout",
     "output_type": "stream",
     "text": [
      "[9 6]\n"
     ]
    },
    {
     "data": {
      "image/png": "[encoded data removed]",
      "text/plain": [
       "<PIL.Image.Image image mode=L size=56x28 at 0x11C333E10>"
      ]
     },
     "metadata": {},
     "output_type": "display_data"
    },
    {
     "name": "stdout",
     "output_type": "stream",
     "text": [
      "[6 3]\n"
     ]
    },
    {
     "data": {
      "image/png": "[encoded data removed]",
      "text/plain": [
       "<PIL.Image.Image image mode=L size=56x28 at 0x11C333BE0>"
      ]
     },
     "metadata": {},
     "output_type": "display_data"
    },
    {
     "name": "stdout",
     "output_type": "stream",
     "text": [
      "[1 0]\n"
     ]
    },
    {
     "data": {
      "image/png": "[encoded data removed]",
      "text/plain": [
       "<PIL.Image.Image image mode=L size=56x28 at 0x11C333B00>"
      ]
     },
     "metadata": {},
     "output_type": "display_data"
    },
    {
     "name": "stdout",
     "output_type": "stream",
     "text": [
      "[9 1]\n"
     ]
    },
    {
     "data": {
      "image/png": "[encoded data removed]",
      "text/plain": [
       "<PIL.Image.Image image mode=L size=56x28 at 0x11C333DD8>"
      ]
     },
     "metadata": {},
     "output_type": "display_data"
    }
   ],
   "source": [
    "from keras.preprocessing.image import array_to_img\n",
    "\n",
    "nb_train = 10_000\n",
    "nb_mnist = len(y_mnist)\n",
    "\n",
    "X, y = np.zeros([nb_train, X_mnist.shape[1], X_mnist.shape[2]*2]), np.zeros([nb_train, 2], dtype=np.uint)\n",
    "i = 0\n",
    "while i < nb_train:\n",
    "    j, k = np.random.choice(nb_mnist, size=2)\n",
    "    if y_mnist[j] == 3 or (y_mnist[j] == y_mnist[k]):\n",
    "        continue\n",
    "    \n",
    "    X[i] = np.concatenate([X_mnist[j], X_mnist[k]], axis=1)\n",
    "    y[i] = [y_mnist[j], y_mnist[k]]\n",
    "    i += 1\n",
    "\n",
    "for idx in range(5):\n",
    "    x, y_ = X[idx], y[idx]\n",
    "    img = array_to_img(np.expand_dims(X[idx], axis=0), data_format='channels_first')\n",
    "    print(y_)\n",
    "    display(img)"
   ]
  },
  {
   "cell_type": "code",
   "execution_count": 54,
   "metadata": {
    "collapsed": false
   },
   "outputs": [
    {
     "data": {
      "text/plain": [
       "((10000, 28, 56), (10000, 2))"
      ]
     },
     "execution_count": 54,
     "metadata": {},
     "output_type": "execute_result"
    }
   ],
   "source": [
    "X.shape, y.shape"
   ]
  },
  {
   "cell_type": "markdown",
   "metadata": {
    "deletable": true,
    "editable": true
   },
   "source": [
    "## Task\n",
    "\n",
    "- Transform the list of lists $y \\in \\mathbb{R}^{N \\times 2}$ into a categorical numpy array $Y \\in \\mathbb{R}^{N \\times 10}$ where $Y_{ij} = 1$ if $j \\in y_{[i:]}$ and $0$ otherwise\n",
    "    - $y_{[i:]}$ denotes the $i$th row of $y$\n",
    "\n",
    "## Hints\n",
    "\n",
    "- You are essentially implementing `keras.utils.np_utils.to_categorical()` but for multi-label data instead of one-hot labels"
   ]
  },
  {
   "cell_type": "code",
   "execution_count": 25,
   "metadata": {
    "collapsed": true,
    "deletable": true,
    "editable": true
   },
   "outputs": [],
   "source": [
    "from keras.utils import np_utils"
   ]
  },
  {
   "cell_type": "code",
   "execution_count": 26,
   "metadata": {
    "collapsed": false
   },
   "outputs": [
    {
     "data": {
      "text/plain": [
       "array([[4, 2],\n",
       "       [9, 6],\n",
       "       [6, 3],\n",
       "       ..., \n",
       "       [8, 0],\n",
       "       [7, 8],\n",
       "       [7, 0]], dtype=uint64)"
      ]
     },
     "execution_count": 26,
     "metadata": {},
     "output_type": "execute_result"
    }
   ],
   "source": [
    "y"
   ]
  },
  {
   "cell_type": "code",
   "execution_count": 103,
   "metadata": {
    "collapsed": false
   },
   "outputs": [],
   "source": [
    "Y = np.zeros((y.shape[0], 10))\n",
    "for i, row in enumerate(y):\n",
    "    for value in row:\n",
    "        Y[i, value] = 1"
   ]
  },
  {
   "cell_type": "code",
   "execution_count": 105,
   "metadata": {
    "collapsed": false
   },
   "outputs": [
    {
     "data": {
      "text/plain": [
       "array([[ 0.,  0.,  1., ...,  0.,  0.,  0.],\n",
       "       [ 0.,  0.,  0., ...,  0.,  0.,  1.],\n",
       "       [ 0.,  0.,  0., ...,  0.,  0.,  0.],\n",
       "       ..., \n",
       "       [ 1.,  0.,  0., ...,  0.,  1.,  0.],\n",
       "       [ 0.,  0.,  0., ...,  1.,  1.,  0.],\n",
       "       [ 1.,  0.,  0., ...,  1.,  0.,  0.]])"
      ]
     },
     "execution_count": 105,
     "metadata": {},
     "output_type": "execute_result"
    }
   ],
   "source": [
    "Y"
   ]
  },
  {
   "cell_type": "code",
   "execution_count": 113,
   "metadata": {
    "collapsed": false
   },
   "outputs": [
    {
     "data": {
      "text/plain": [
       "(10000, 10)"
      ]
     },
     "execution_count": 113,
     "metadata": {},
     "output_type": "execute_result"
    }
   ],
   "source": [
    "Y.shape"
   ]
  },
  {
   "cell_type": "markdown",
   "metadata": {
    "deletable": true,
    "editable": true
   },
   "source": [
    "## Multi-Label Logistic Regression Classifier\n",
    "\n",
    "The following code creates a multi-label logistic regression classifier to predict images with multiple MNIST digits."
   ]
  },
  {
   "cell_type": "code",
   "execution_count": 107,
   "metadata": {
    "collapsed": false,
    "deletable": true,
    "editable": true
   },
   "outputs": [
    {
     "name": "stdout",
     "output_type": "stream",
     "text": [
      "_________________________________________________________________\n",
      "Layer (type)                 Output Shape              Param #   \n",
      "=================================================================\n",
      "flatten_4 (Flatten)          (None, 1568)              0         \n",
      "_________________________________________________________________\n",
      "dense_4 (Dense)              (None, 10)                15690     \n",
      "=================================================================\n",
      "Total params: 15,690.0\n",
      "Trainable params: 15,690.0\n",
      "Non-trainable params: 0.0\n",
      "_________________________________________________________________\n"
     ]
    }
   ],
   "source": [
    "from keras.models import Sequential\n",
    "from keras.layers import Flatten, Dense\n",
    "from keras.constraints import nonneg\n",
    "\n",
    "model = Sequential()\n",
    "model.add(Flatten(input_shape=X.shape[1:]))\n",
    "model.add(Dense(units=10, activation='sigmoid'))\n",
    "model.summary()\n",
    "\n",
    "model.compile(optimizer='adam', loss='binary_crossentropy')"
   ]
  },
  {
   "cell_type": "markdown",
   "metadata": {
    "deletable": true,
    "editable": true
   },
   "source": [
    "## Question\n",
    "\n",
    "- Why is `categorical_crossentropy` a poor choice of loss to use over `binary_crossentropy` for multi-label classification?"
   ]
  },
  {
   "cell_type": "markdown",
   "metadata": {
    "collapsed": true,
    "deletable": true,
    "editable": true
   },
   "source": [
    "**Solution:**   \n",
    "Categorical_crossentropy is best for one_hot encoding, where where $Y_{ij} = 1$ if $j \\in y_{[i:]}$ and $0$ otherwise. So its not suitable for multi-label classification where  $Y_{ij} = 1$ for all valid class or label"
   ]
  },
  {
   "cell_type": "markdown",
   "metadata": {
    "deletable": true,
    "editable": true
   },
   "source": [
    "## Question\n",
    "\n",
    "- Why is a sigmoid activation more appropriate than a softmax activation for multi-label classification?"
   ]
  },
  {
   "cell_type": "markdown",
   "metadata": {
    "collapsed": true,
    "deletable": true,
    "editable": true
   },
   "source": [
    "** Solution: **  \n",
    "Sigmoid gives probability value range from 0 to 1 for each class label. But in case of softmax the probability vector all add up to one, with significant label being high probablity value"
   ]
  },
  {
   "cell_type": "markdown",
   "metadata": {
    "deletable": true,
    "editable": true
   },
   "source": [
    "## Question\n",
    "\n",
    "- What piece of training information do we lose when we convert $y$ to $Y$?"
   ]
  },
  {
   "cell_type": "markdown",
   "metadata": {
    "collapsed": true,
    "deletable": true,
    "editable": true
   },
   "source": [
    "**Solution:**\n",
    "We loose the spatial information of what's on left and right side of the image"
   ]
  },
  {
   "cell_type": "markdown",
   "metadata": {
    "deletable": true,
    "editable": true
   },
   "source": [
    "## Callback to Measure Accuracy on Threes\n",
    "\n",
    "The following callback takes a set of images and filters them down to only those of the form\n",
    "\n",
    "| Left | Right |\n",
    "|:----:|:-----:|\n",
    "| $\\mathbb{N}_9$ - $\\{3\\}$ | $3$ |\n",
    "\n",
    "It then flips all of these images to make another set of images of the form\n",
    "\n",
    "| Left | Right |\n",
    "|:----:|:-----:|\n",
    "| $3$ | $\\mathbb{N}_9$ - $\\{3\\}$ |\n",
    "\n",
    "The model is evaluated on how well it predicts the presence of a 3. Concretely it computes multiclass accuracy on the digit 3 where a prediction of class scores is deemed \"correct\" if the class score for 3 is either the highest or second-highest."
   ]
  },
  {
   "cell_type": "code",
   "execution_count": 108,
   "metadata": {
    "collapsed": false,
    "deletable": true,
    "editable": true
   },
   "outputs": [],
   "source": [
    "import IPython\n",
    "import copy\n",
    "import keras\n",
    "import pandas as pd\n",
    "%matplotlib inline\n",
    "import matplotlib.pyplot as plt\n",
    "\n",
    "class ThreeAccuracyCallback(keras.callbacks.Callback):\n",
    "    def __init__(self, X, y, plot=True):\n",
    "        three_idxs = np.argwhere(y[:, 1] == 3).flatten()\n",
    "        self.X3 = X[three_idxs]\n",
    "        self.X3_flipped = np.array([self._reverse(x) for x in self.X3])\n",
    "        self.nb_3 = len(self.X3)\n",
    "        self.plot = plot\n",
    "        \n",
    "    def _reverse(self, x):\n",
    "        x = copy.deepcopy(x)\n",
    "        left, right = copy.deepcopy(x[:, :28]), copy.deepcopy(x[:, 28:])\n",
    "        x[:, :28], x[:, 28:] = right, left\n",
    "        return x\n",
    "        \n",
    "    def on_epoch_end(self, epoch, logs={}):\n",
    "        Y3_pred, Y3_flipped_pred = self.model.predict(self.X3), self.model.predict(self.X3_flipped)\n",
    "        y3_pred, y3_flipped_pred = np.argsort(-Y3_pred)[:, :2], np.argsort(-Y3_flipped_pred)[:, :2]\n",
    "        \n",
    "        logs['3 accuracy'] = np.sum(np.argsort(-Y3_pred)[:, :2] == 3, axis=1).mean()\n",
    "        logs['flipped 3 accuracy'] = np.sum(np.argsort(-Y3_flipped_pred)[:, :2] == 3, axis=1).mean()\n",
    "        \n",
    "        # Display sample image\n",
    "        if not self.plot:\n",
    "            return\n",
    "            \n",
    "        IPython.display.clear_output()\n",
    "        idx = np.random.choice(self.nb_3)\n",
    "        x3, x3_flipped = self.X3[idx], self.X3_flipped[idx]\n",
    "        x3 = np.expand_dims(x3, axis=-1) if x3.ndim == 2 else x3\n",
    "        x3_flipped = np.expand_dims(x3_flipped, axis=-1) if x3_flipped.ndim == 2 else x3_flipped\n",
    "        y3_pred, y3_flipped_pred = Y3_pred[idx], Y3_flipped_pred[idx]\n",
    "        display(array_to_img(x3, data_format='channels_last'))\n",
    "        pd.Series(y3_pred).plot(kind='bar')\n",
    "        plt.show()\n",
    "        display(array_to_img(x3_flipped, data_format='channels_last'))\n",
    "        pd.Series(y3_flipped_pred).plot(kind='bar')\n",
    "        plt.show()"
   ]
  },
  {
   "cell_type": "markdown",
   "metadata": {
    "deletable": true,
    "editable": true
   },
   "source": [
    "## Fit the Model\n",
    "\n",
    "The following code fits a multi-label logistic regression model to the multi-digit MNIST images and uses an `AccuracyCallback` for evaluation."
   ]
  },
  {
   "cell_type": "code",
   "execution_count": 109,
   "metadata": {
    "collapsed": false
   },
   "outputs": [
    {
     "data": {
      "text/plain": [
       "((9000, 28, 56), (19000, 10), (10000, 2))"
      ]
     },
     "execution_count": 109,
     "metadata": {},
     "output_type": "execute_result"
    }
   ],
   "source": [
    "X_train.shape, Y_train.shape, y.shape"
   ]
  },
  {
   "cell_type": "code",
   "execution_count": 110,
   "metadata": {
    "collapsed": false,
    "deletable": true,
    "editable": true,
    "scrolled": false
   },
   "outputs": [
    {
     "data": {
      "image/png": "[encoded data removed]",
      "text/plain": [
       "<PIL.Image.Image image mode=L size=56x28 at 0x127E7F7F0>"
      ]
     },
     "metadata": {},
     "output_type": "display_data"
    },
    {
     "data": {
      "image/png": "[encoded data removed]",
      "text/plain": [
       "<matplotlib.figure.Figure at 0x127e7f390>"
      ]
     },
     "metadata": {},
     "output_type": "display_data"
    },
    {
     "data": {
      "image/png": "[encoded data removed]",
      "text/plain": [
       "<PIL.Image.Image image mode=L size=56x28 at 0x12A58BE48>"
      ]
     },
     "metadata": {},
     "output_type": "display_data"
    },
    {
     "data": {
      "image/png": "[encoded data removed]",
      "text/plain": [
       "<matplotlib.figure.Figure at 0x12a58be10>"
      ]
     },
     "metadata": {},
     "output_type": "display_data"
    },
    {
     "name": "stdout",
     "output_type": "stream",
     "text": [
      "9000/9000 [==============================] - 1s - loss: 0.1727     \n"
     ]
    },
    {
     "data": {
      "image/png": "[encoded data removed]",
      "text/plain": [
       "<matplotlib.figure.Figure at 0x127d87080>"
      ]
     },
     "metadata": {},
     "output_type": "display_data"
    }
   ],
   "source": [
    "import pandas as pd\n",
    "%matplotlib inline\n",
    "\n",
    "X_train, Y_train = X[:-nb_train//10], Y[:-nb_train//10]\n",
    "X_val, y_val = X[-nb_train//10:], y[-nb_train//10:]\n",
    "\n",
    "history = model.fit(X_train, Y_train, callbacks=[ThreeAccuracyCallback(X_val, y_val)])\n",
    "pd.DataFrame(history.history).plot();"
   ]
  },
  {
   "cell_type": "markdown",
   "metadata": {
    "deletable": true,
    "editable": true
   },
   "source": [
    "# Display Learned Weights\n",
    "\n",
    "The following code displays the learned multi-label logistic regression weights for each digit class."
   ]
  },
  {
   "cell_type": "code",
   "execution_count": 111,
   "metadata": {
    "collapsed": false,
    "deletable": true,
    "editable": true,
    "scrolled": false
   },
   "outputs": [
    {
     "name": "stdout",
     "output_type": "stream",
     "text": [
      "0\n"
     ]
    },
    {
     "data": {
      "image/png": "[encoded data removed]",
      "text/plain": [
       "<PIL.Image.Image image mode=L size=56x28 at 0x12680A5C0>"
      ]
     },
     "metadata": {},
     "output_type": "display_data"
    },
    {
     "name": "stdout",
     "output_type": "stream",
     "text": [
      "1\n"
     ]
    },
    {
     "data": {
      "image/png": "[encoded data removed]",
      "text/plain": [
       "<PIL.Image.Image image mode=L size=56x28 at 0x12A2A5CC0>"
      ]
     },
     "metadata": {},
     "output_type": "display_data"
    },
    {
     "name": "stdout",
     "output_type": "stream",
     "text": [
      "2\n"
     ]
    },
    {
     "data": {
      "image/png": "[encoded data removed]",
      "text/plain": [
       "<PIL.Image.Image image mode=L size=56x28 at 0x1267D0C88>"
      ]
     },
     "metadata": {},
     "output_type": "display_data"
    },
    {
     "name": "stdout",
     "output_type": "stream",
     "text": [
      "3\n"
     ]
    },
    {
     "data": {
      "image/png": "[encoded data removed]",
      "text/plain": [
       "<PIL.Image.Image image mode=L size=56x28 at 0x12A2A5A58>"
      ]
     },
     "metadata": {},
     "output_type": "display_data"
    },
    {
     "name": "stdout",
     "output_type": "stream",
     "text": [
      "4\n"
     ]
    },
    {
     "data": {
      "image/png": "[encoded data removed]",
      "text/plain": [
       "<PIL.Image.Image image mode=L size=56x28 at 0x11C333DD8>"
      ]
     },
     "metadata": {},
     "output_type": "display_data"
    },
    {
     "name": "stdout",
     "output_type": "stream",
     "text": [
      "5\n"
     ]
    },
    {
     "data": {
      "image/png": "[encoded data removed]",
      "text/plain": [
       "<PIL.Image.Image image mode=L size=56x28 at 0x12A2A5DA0>"
      ]
     },
     "metadata": {},
     "output_type": "display_data"
    },
    {
     "name": "stdout",
     "output_type": "stream",
     "text": [
      "6\n"
     ]
    },
    {
     "data": {
      "image/png": "[encoded data removed]",
      "text/plain": [
       "<PIL.Image.Image image mode=L size=56x28 at 0x1267F27B8>"
      ]
     },
     "metadata": {},
     "output_type": "display_data"
    },
    {
     "name": "stdout",
     "output_type": "stream",
     "text": [
      "7\n"
     ]
    },
    {
     "data": {
      "image/png": "[encoded data removed]",
      "text/plain": [
       "<PIL.Image.Image image mode=L size=56x28 at 0x12A2A5470>"
      ]
     },
     "metadata": {},
     "output_type": "display_data"
    },
    {
     "name": "stdout",
     "output_type": "stream",
     "text": [
      "8\n"
     ]
    },
    {
     "data": {
      "image/png": "[encoded data removed]",
      "text/plain": [
       "<PIL.Image.Image image mode=L size=56x28 at 0x11C333DD8>"
      ]
     },
     "metadata": {},
     "output_type": "display_data"
    },
    {
     "name": "stdout",
     "output_type": "stream",
     "text": [
      "9\n"
     ]
    },
    {
     "data": {
      "image/png": "[encoded data removed]",
      "text/plain": [
       "<PIL.Image.Image image mode=L size=56x28 at 0x12A2A5BA8>"
      ]
     },
     "metadata": {},
     "output_type": "display_data"
    }
   ],
   "source": [
    "from IPython.display import display\n",
    "\n",
    "W, b = model.layers[-1].get_weights()\n",
    "for d in range(10):\n",
    "    w0 = W[:, d].reshape(*X.shape[1:])\n",
    "    img = array_to_img(np.expand_dims(w0, axis=0), data_format='channels_first')\n",
    "    print(d)\n",
    "    display(img)"
   ]
  },
  {
   "cell_type": "markdown",
   "metadata": {
    "deletable": true,
    "editable": true
   },
   "source": [
    "# Convert `X` to TensorFlow Format\n",
    "\n",
    "The following code converts `X` which has shape `(10000, 28, 56)` data into a variable `X_tf` which is suitable for use with TensorFlow and has shape `(10000, 28, 56, 1)`."
   ]
  },
  {
   "cell_type": "code",
   "execution_count": 112,
   "metadata": {
    "collapsed": false,
    "deletable": true,
    "editable": true
   },
   "outputs": [
    {
     "data": {
      "text/plain": [
       "(10000, 28, 56, 1)"
      ]
     },
     "execution_count": 112,
     "metadata": {},
     "output_type": "execute_result"
    }
   ],
   "source": [
    "from keras.preprocessing.image import img_to_array\n",
    "\n",
    "imgs = [array_to_img(x, data_format='channels_first') for x in np.expand_dims(X, axis=1)]\n",
    "\n",
    "X_tf = np.array([img_to_array(img) for img in imgs])\n",
    "X_tf = X_tf.astype(np.float) / 255.\n",
    "X_tf_train, X_tf_val = X_tf[:-nb_train//10], X_tf[-nb_train//10:]\n",
    "\n",
    "X_tf.shape"
   ]
  },
  {
   "cell_type": "markdown",
   "metadata": {
    "deletable": true,
    "editable": true
   },
   "source": [
    "## Task\n",
    "\n",
    "- Define a CNN model to maximize the accuracy of both images with the number 3 and when these numbers have been swapped\n",
    "\n",
    "## Requirements\n",
    "\n",
    "- You may only use `Conv2D`, `MaxPool2D`, `ReLU`, `Flatten`, `Dense`, and `Sigmoid` layers\n",
    "- Use the `ThreeAccuracyCallback` for evaluation\n",
    "- Use the `adam` optimizer by specifying `keras.models.Model.compile(..., optimizer='adam')` and do not adjust the default learning rate\n",
    "- You are limited to `X_tf_train` and `X_tf_val` and may *not* use any kind of data augmentation\n",
    "\n",
    "## Hints\n",
    "\n",
    "- Use your intuitions of max-pooling and convolution for narrowing down your architecture search"
   ]
  },
  {
   "cell_type": "code",
   "execution_count": 116,
   "metadata": {
    "collapsed": false
   },
   "outputs": [
    {
     "data": {
      "text/plain": [
       "(28, 56, 1)"
      ]
     },
     "execution_count": 116,
     "metadata": {},
     "output_type": "execute_result"
    }
   ],
   "source": [
    "X_tf[0].shape"
   ]
  },
  {
   "cell_type": "markdown",
   "metadata": {},
   "source": [
    "#### Inspired by Mike's solution"
   ]
  },
  {
   "cell_type": "code",
   "execution_count": 147,
   "metadata": {
    "collapsed": false,
    "deletable": true,
    "editable": true
   },
   "outputs": [
    {
     "name": "stdout",
     "output_type": "stream",
     "text": [
      "_________________________________________________________________\n",
      "Layer (type)                 Output Shape              Param #   \n",
      "=================================================================\n",
      "conv (Conv2D)                (None, 1, 2, 10)          7850      \n",
      "_________________________________________________________________\n",
      "sigmoid (Activation)         (None, 1, 2, 10)          0         \n",
      "_________________________________________________________________\n",
      "max_pooling2d_18 (MaxPooling (None, 1, 1, 10)          0         \n",
      "_________________________________________________________________\n",
      "flatten (Flatten)            (None, 10)                0         \n",
      "=================================================================\n",
      "Total params: 7,850.0\n",
      "Trainable params: 7,850.0\n",
      "Non-trainable params: 0.0\n",
      "_________________________________________________________________\n"
     ]
    }
   ],
   "source": [
    "from keras.regularizers import l2\n",
    "from keras.models import Sequential\n",
    "from keras.layers import Convolution2D, Dense, Flatten, Activation, MaxPooling2D, Permute, Dropout\n",
    "from keras.constraints import nonneg\n",
    "\n",
    "model = Sequential()\n",
    "# keep filter,stides as size of one side image (left/right)\n",
    "# add activation as part of conv2D\n",
    "model.add(Convolution2D(10, (28, 28), strides=(28, 28), \n",
    "#                         kernel_constraint=nonneg(), \n",
    "#                         kernel_regularizer=l2(1e-3), \n",
    "                        name='conv',\n",
    "                        input_shape=X_tf[0].shape))\n",
    "model.add(Activation('sigmoid', name='sigmoid'))\n",
    "model.add(MaxPooling2D(pool_size=(1, 2)))\n",
    "model.add(Flatten(name='flatten'))\n",
    "#model.add(Dense(units=10, kernel_regularizer=l2(1e-3), name='sigmoid_weights'))\n",
    "\n",
    "model.summary()"
   ]
  },
  {
   "cell_type": "code",
   "execution_count": 148,
   "metadata": {
    "collapsed": false
   },
   "outputs": [
    {
     "data": {
      "image/png": "[encoded data removed]",
      "text/plain": [
       "<PIL.Image.Image image mode=L size=56x28 at 0x12AB6C630>"
      ]
     },
     "metadata": {},
     "output_type": "display_data"
    },
    {
     "data": {
      "image/png": "[encoded data removed]",
      "text/plain": [
       "<matplotlib.figure.Figure at 0x12ab6c668>"
      ]
     },
     "metadata": {},
     "output_type": "display_data"
    },
    {
     "data": {
      "image/png": "[encoded data removed]",
      "text/plain": [
       "<PIL.Image.Image image mode=L size=56x28 at 0x11C091B38>"
      ]
     },
     "metadata": {},
     "output_type": "display_data"
    },
    {
     "data": {
      "image/png": "[encoded data removed]",
      "text/plain": [
       "<matplotlib.figure.Figure at 0x11a621b38>"
      ]
     },
     "metadata": {},
     "output_type": "display_data"
    },
    {
     "name": "stdout",
     "output_type": "stream",
     "text": [
      "9000/9000 [==============================] - 1s - loss: 0.1227 - acc: 0.9597     \n"
     ]
    },
    {
     "data": {
      "image/png": "[encoded data removed]",
      "text/plain": [
       "<matplotlib.figure.Figure at 0x12abc2ef0>"
      ]
     },
     "metadata": {},
     "output_type": "display_data"
    }
   ],
   "source": [
    "model.compile(optimizer='adam', loss='binary_crossentropy', metrics=['accuracy'])\n",
    "history = model.fit(X_tf_train, Y_train, callbacks=[ThreeAccuracyCallback(X_tf_val, y_val)])\n",
    "pd.DataFrame(history.history).plot();"
   ]
  },
  {
   "cell_type": "markdown",
   "metadata": {
    "deletable": true,
    "editable": true
   },
   "source": [
    "# Question\n",
    "\n",
    "- What architectural choice was necessary to include to increase prediction on the test set? Concretely, list the hyperparameter values that worked. Justify why inclusion of this architectural property is necessary for the model to make accurate predictions on the test set."
   ]
  },
  {
   "cell_type": "code",
   "execution_count": null,
   "metadata": {
    "collapsed": true,
    "deletable": true,
    "editable": true
   },
   "outputs": [],
   "source": [
    "- Stide"
   ]
  }
 ],
 "metadata": {
  "kernelspec": {
   "display_name": "Python 3",
   "language": "python",
   "name": "python3"
  },
  "language_info": {
   "codemirror_mode": {
    "name": "ipython",
    "version": 3
   },
   "file_extension": ".py",
   "mimetype": "text/x-python",
   "name": "python",
   "nbconvert_exporter": "python",
   "pygments_lexer": "ipython3",
   "version": "3.6.0"
  }
 },
 "nbformat": 4,
 "nbformat_minor": 2
}
