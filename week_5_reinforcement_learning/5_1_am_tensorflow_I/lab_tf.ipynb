{
 "cells": [
  {
   "cell_type": "markdown",
   "metadata": {
    "deletable": true,
    "editable": true
   },
   "source": [
    "# TensorFlow SGD Lab\n",
    "\n",
    "Welcome to the TensorFlow SGD Lab! By the end of this lab you will have\n",
    "\n",
    "- Defined and optimized a TensorFlow computational graph to perform classification\n",
    "- Used TensorBoard summary operations to visualize performance during training\n",
    "- Used TensorBoard to visualize your computational graph\n",
    "\n",
    "Let's get started!\n",
    "\n",
    "---\n",
    "\n",
    "# Load Data\n",
    "\n",
    "The following code loads the [Boston housing price regression dataset](http://neupy.com/2015/07/04/boston_house_prices_dataset.html) via [keras](https://keras.io/datasets/) and discretizes the output space into four classes."
   ]
  },
  {
   "cell_type": "code",
   "execution_count": 1,
   "metadata": {
    "collapsed": false,
    "deletable": true,
    "editable": true
   },
   "outputs": [
    {
     "name": "stderr",
     "output_type": "stream",
     "text": [
      "Using TensorFlow backend.\n"
     ]
    },
    {
     "data": {
      "text/plain": [
       "(400, 13)"
      ]
     },
     "execution_count": 1,
     "metadata": {},
     "output_type": "execute_result"
    }
   ],
   "source": [
    "import numpy as np\n",
    "from keras.datasets import boston_housing\n",
    "\n",
    "nb_train = 400\n",
    "np.random.seed(42)\n",
    "\n",
    "[X_boston, y_boston], _ = boston_housing.load_data()\n",
    "X_boston, y_boston = X_boston[:nb_train], y_boston[:nb_train]\n",
    "sorted_idxs = np.argsort(y_boston)\n",
    "X_boston, y_boston = X_boston[sorted_idxs], y_boston[sorted_idxs]\n",
    "y_boston = np.hstack([np.full(shape=100, fill_value=i) for i in range(4)])\n",
    "idxs = np.arange(nb_train)\n",
    "np.random.shuffle(idxs)\n",
    "X_boston, y_boston = X_boston[idxs], y_boston[idxs]\n",
    "\n",
    "X_boston.shape"
   ]
  },
  {
   "cell_type": "markdown",
   "metadata": {
    "deletable": true,
    "editable": true
   },
   "source": [
    "## Task\n",
    "\n",
    "- Define and optimize a multiclass logistic regression classifier with TensorFlow\n",
    "\n",
    "## Requirements\n",
    "\n",
    "- Use TensorBoard to visualize your loss over time as well as your computational graph\n",
    "- Perform optimization with stochastic gradient descent\n",
    "\n",
    "## Deliverables\n",
    "\n",
    "- Take a screenshot of your computational graph and loss in TensorBoard\n",
    "- Remark on your optimized model on whether it fits the data well (e.g. underfits or overfits)\n",
    "    - If your final model still does not fit the data well describe what you would try if you had more time and why\n",
    "\n",
    "## Hints\n",
    "\n",
    "- Attach a `tf.summary.scalar()` node to your loss node so TensorBoard can log its values over time"
   ]
  },
  {
   "cell_type": "code",
   "execution_count": null,
   "metadata": {
    "collapsed": true,
    "deletable": true,
    "editable": true
   },
   "outputs": [],
   "source": []
  },
  {
   "cell_type": "markdown",
   "metadata": {
    "deletable": true,
    "editable": true
   },
   "source": [
    "# Bonus Tasks\n",
    "\n",
    "- Add hidden layers to your multiclass logistic regression classifier\n",
    "- Use another optimizer such as adam or adagrad instead of stochastic gradient descent\n",
    "- Monitor the accuracy"
   ]
  },
  {
   "cell_type": "code",
   "execution_count": null,
   "metadata": {
    "collapsed": true,
    "deletable": true,
    "editable": true
   },
   "outputs": [],
   "source": []
  }
 ],
 "metadata": {
  "kernelspec": {
   "display_name": "Python 3",
   "language": "python",
   "name": "python3"
  },
  "language_info": {
   "codemirror_mode": {
    "name": "ipython",
    "version": 3
   },
   "file_extension": ".py",
   "mimetype": "text/x-python",
   "name": "python",
   "nbconvert_exporter": "python",
   "pygments_lexer": "ipython3",
   "version": "3.6.1"
  }
 },
 "nbformat": 4,
 "nbformat_minor": 2
}
