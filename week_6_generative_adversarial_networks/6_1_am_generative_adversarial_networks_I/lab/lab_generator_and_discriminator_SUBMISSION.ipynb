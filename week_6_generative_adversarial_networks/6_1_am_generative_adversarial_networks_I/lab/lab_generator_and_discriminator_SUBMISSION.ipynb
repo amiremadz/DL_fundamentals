{
 "cells": [
  {
   "cell_type": "markdown",
   "metadata": {
    "deletable": true,
    "editable": true
   },
   "source": [
    "Before you turn this lab in, make sure everything runs as expected. First, **restart the kernel** (in the menubar, select Kernel$\\rightarrow$Restart) and then **run all cells** (in the menubar, select Cell$\\rightarrow$Run All).\n",
    "\n",
    "Make sure you fill in any place that says `YOUR CODE HERE` or \"YOUR ANSWER HERE\", as well as your name and collaborators below:"
   ]
  },
  {
   "cell_type": "code",
   "execution_count": 1,
   "metadata": {
    "collapsed": false,
    "deletable": true,
    "editable": true
   },
   "outputs": [],
   "source": [
    "DRIVER = \"Srini\"\n",
    "NAVIGATOR = \"Daniel\""
   ]
  },
  {
   "cell_type": "markdown",
   "metadata": {
    "deletable": false,
    "editable": false,
    "nbgrader": {
     "checksum": "b3c35a7ba3b614e5726838e6c4f2bf0e",
     "grade": false,
     "grade_id": "intro",
     "locked": true,
     "schema_version": 1,
     "solution": false
    }
   },
   "source": [
    "# Generator and Discriminator Lab\n",
    "\n",
    "Welcome to the generator and discriminator lab! By the end of this lab, you will have\n",
    "\n",
    "- Built a generator $\\mathcal{G}$ model in keras\n",
    "- Built a discriminator $\\mathcal{D}$ model in keras\n",
    "- Sampled from $\\mathcal{G}$\n",
    "- Pretrained $\\mathcal{D}$\n",
    "\n",
    "Let's get started!"
   ]
  },
  {
   "cell_type": "markdown",
   "metadata": {
    "deletable": false,
    "editable": false,
    "nbgrader": {
     "checksum": "073c294006fb186b880bc09eb2f08877",
     "grade": false,
     "grade_id": "unit_test_blurb",
     "locked": true,
     "schema_version": 1,
     "solution": false
    }
   },
   "source": [
    "# Unit Test Variables\n",
    "\n",
    "The following code defines variables that will be used in subsequent unit tests. Do not attempt to redefine any of these variables throughout the notebook!"
   ]
  },
  {
   "cell_type": "code",
   "execution_count": 2,
   "metadata": {
    "collapsed": true,
    "deletable": false,
    "editable": false,
    "nbgrader": {
     "checksum": "c628e9eea3fb6ea0e24b831cd019b3c1",
     "grade": false,
     "grade_id": "unit_test_variables",
     "locked": true,
     "schema_version": 1,
     "solution": false
    }
   },
   "outputs": [],
   "source": [
    "from IPython.display import HTML\n",
    "import numpy as np\n",
    "np.random.seed(42)\n",
    "\n",
    "NB_SAMPLE_ = 100\n",
    "IDXS_ = np.arange(NB_SAMPLE_*2)\n",
    "np.random.shuffle(IDXS_)\n",
    "BS_ = 16\n",
    "Z_ = np.random.uniform(low=-1, high=1, size=BS_)\n",
    "\n",
    "def passed(): print('✅')"
   ]
  },
  {
   "cell_type": "markdown",
   "metadata": {
    "deletable": false,
    "editable": false,
    "nbgrader": {
     "checksum": "901a18b690f1131c4d9555ee3f0ac966",
     "grade": false,
     "grade_id": "synthetic_data_description",
     "locked": true,
     "schema_version": 1,
     "solution": false
    }
   },
   "source": [
    "# Synthetic Data\n",
    "\n",
    "The following code defines a python generator which yields samples from a normal distribution and plots 1,000 samples."
   ]
  },
  {
   "cell_type": "code",
   "execution_count": 3,
   "metadata": {
    "collapsed": false,
    "deletable": false,
    "editable": false,
    "nbgrader": {
     "checksum": "570bb73052bffda179e7ae0f9a5b4f07",
     "grade": false,
     "grade_id": "synthetic_data_definition",
     "locked": true,
     "schema_version": 1,
     "solution": false
    }
   },
   "outputs": [
    {
     "data": {
      "image/png": "[encoded data removed]",
      "text/plain": [
       "<matplotlib.figure.Figure at 0x1194f4048>"
      ]
     },
     "metadata": {},
     "output_type": "display_data"
    }
   ],
   "source": [
    "import pandas as pd\n",
    "%matplotlib inline\n",
    "\n",
    "def data_distribution(mu, sigma):\n",
    "    while True:\n",
    "        z = sigma*np.random.randn() + mu\n",
    "        yield z\n",
    "        \n",
    "data_point = data_distribution(mu=4, sigma=1)\n",
    "pd.Series(next(data_point) for _ in range(1_000)).plot(kind='kde');"
   ]
  },
  {
   "cell_type": "markdown",
   "metadata": {
    "deletable": false,
    "editable": false,
    "nbgrader": {
     "checksum": "6514888f24de18d0aaf788c2872d9a30",
     "grade": false,
     "grade_id": "g-ro",
     "locked": true,
     "schema_version": 1,
     "solution": false
    }
   },
   "source": [
    "## Task\n",
    "\n",
    "- Create a generator $\\mathcal{G}$ with keras\n",
    "\n",
    "## Hints\n",
    "\n",
    "- Recall the interface for a generator\n",
    "\n",
    "<img src=\"images/Fancy G.svg\" alt=\"Drawing\" style=\"width: 300px;\"/>\n",
    "\n",
    "- Keep it simple"
   ]
  },
  {
   "cell_type": "code",
   "execution_count": 4,
   "metadata": {
    "collapsed": false,
    "deletable": false,
    "editable": true,
    "nbgrader": {
     "checksum": "1c76644fc691a84458d03904f214a13a",
     "grade": false,
     "grade_id": "g-aa",
     "locked": false,
     "schema_version": 1,
     "solution": true
    },
    "scrolled": false
   },
   "outputs": [
    {
     "name": "stderr",
     "output_type": "stream",
     "text": [
      "Using TensorFlow backend.\n"
     ]
    },
    {
     "name": "stdout",
     "output_type": "stream",
     "text": [
      "_________________________________________________________________\n",
      "Layer (type)                 Output Shape              Param #   \n",
      "=================================================================\n",
      "dense_1 (Dense)              (None, 200)               400       \n",
      "_________________________________________________________________\n",
      "dense_2 (Dense)              (None, 1)                 201       \n",
      "=================================================================\n",
      "Total params: 601.0\n",
      "Trainable params: 601\n",
      "Non-trainable params: 0.0\n",
      "_________________________________________________________________\n"
     ]
    }
   ],
   "source": [
    "from keras.models import Sequential\n",
    "from keras.layers import Dense, Activation\n",
    "\n",
    "G = Sequential()\n",
    "G.add(Dense(200, input_shape=(1,)))\n",
    "G.add(Dense(1))\n",
    "G.summary()\n",
    "#raise NotImplementedError()"
   ]
  },
  {
   "cell_type": "code",
   "execution_count": 5,
   "metadata": {
    "collapsed": false,
    "deletable": true,
    "editable": true
   },
   "outputs": [
    {
     "data": {
      "text/plain": [
       "((None, 1), (None, 1), [])"
      ]
     },
     "execution_count": 5,
     "metadata": {},
     "output_type": "execute_result"
    }
   ],
   "source": [
    "G.input_shape, G.output_shape, G.losses"
   ]
  },
  {
   "cell_type": "markdown",
   "metadata": {
    "deletable": false,
    "editable": false,
    "nbgrader": {
     "checksum": "7e5f741fd3be739c3b8796be13032f8c",
     "grade": false,
     "grade_id": "g-nb",
     "locked": true,
     "schema_version": 1,
     "solution": false
    }
   },
   "source": [
    "# Generator Tests"
   ]
  },
  {
   "cell_type": "code",
   "execution_count": 6,
   "metadata": {
    "collapsed": false,
    "deletable": false,
    "editable": false,
    "nbgrader": {
     "checksum": "9e84bb66b80ffa6a8e1d66f294ae6b3b",
     "grade": true,
     "grade_id": "g-at",
     "locked": true,
     "points": 1,
     "schema_version": 1,
     "solution": false
    }
   },
   "outputs": [
    {
     "name": "stdout",
     "output_type": "stream",
     "text": [
      "✅\n"
     ]
    }
   ],
   "source": [
    "import numpy as np\n",
    "import keras\n",
    "\n",
    "def test_generator(G):\n",
    "    assert type(G) == keras.models.Sequential\n",
    "    assert G.input_shape == (None, 1)\n",
    "    assert G.output_shape == (None, 1)\n",
    "    assert G.losses == []\n",
    "    X_fake = G.predict(Z_)\n",
    "    assert X_fake.shape == (BS_, 1)\n",
    "    return X_fake\n",
    "    \n",
    "X_FAKE_ = test_generator(G)\n",
    "passed()"
   ]
  },
  {
   "cell_type": "markdown",
   "metadata": {
    "deletable": false,
    "editable": false,
    "nbgrader": {
     "checksum": "bd6483b5ec4ad12fbdefcfc10a36fc7c",
     "grade": false,
     "grade_id": "d-ro",
     "locked": true,
     "schema_version": 1,
     "solution": false
    }
   },
   "source": [
    "## Task\n",
    "\n",
    "- Define a discriminator $\\mathcal{D}$ in keras\n",
    "\n",
    "## Hint\n",
    "\n",
    "- Recall the interface for a discriminator\n",
    "\n",
    "<img src=\"images/Fancy D.svg\" alt=\"Discriminator\" style=\"width: 300px;\"/>\n",
    "\n",
    "- Keep it simple"
   ]
  },
  {
   "cell_type": "code",
   "execution_count": 7,
   "metadata": {
    "collapsed": false,
    "deletable": false,
    "editable": true,
    "nbgrader": {
     "checksum": "779eb1702bdd23e891c6685740cbe307",
     "grade": false,
     "grade_id": "d-aa",
     "locked": false,
     "schema_version": 1,
     "solution": true
    }
   },
   "outputs": [
    {
     "name": "stdout",
     "output_type": "stream",
     "text": [
      "_________________________________________________________________\n",
      "Layer (type)                 Output Shape              Param #   \n",
      "=================================================================\n",
      "dense_3 (Dense)              (None, 200)               400       \n",
      "_________________________________________________________________\n",
      "dense_4 (Dense)              (None, 1)                 201       \n",
      "=================================================================\n",
      "Total params: 601.0\n",
      "Trainable params: 601\n",
      "Non-trainable params: 0.0\n",
      "_________________________________________________________________\n"
     ]
    }
   ],
   "source": [
    "from keras.models import Sequential\n",
    "from keras.layers import Dense\n",
    "\n",
    "D = Sequential()\n",
    "D.add(Dense(200, input_shape=(1,)))\n",
    "D.add(Dense(1, activation='sigmoid'))\n",
    "D.compile(optimizer='adam', loss='binary_crossentropy', metrics=['accuracy'])\n",
    "D.summary()\n",
    "#raise NotImplementedError()"
   ]
  },
  {
   "cell_type": "markdown",
   "metadata": {
    "deletable": false,
    "editable": false,
    "nbgrader": {
     "checksum": "d1cdec5fa915edeff7a0d6abe77b971c",
     "grade": false,
     "grade_id": "d-nb",
     "locked": true,
     "schema_version": 1,
     "solution": false
    }
   },
   "source": [
    "# Discriminator Tests"
   ]
  },
  {
   "cell_type": "code",
   "execution_count": 8,
   "metadata": {
    "collapsed": false,
    "deletable": false,
    "editable": false,
    "nbgrader": {
     "checksum": "e1f4d3119bcb095749bf0cde92e53252",
     "grade": true,
     "grade_id": "d-at",
     "locked": true,
     "points": 1,
     "schema_version": 1,
     "solution": false
    }
   },
   "outputs": [
    {
     "name": "stdout",
     "output_type": "stream",
     "text": [
      "✅\n"
     ]
    }
   ],
   "source": [
    "import numpy as np\n",
    "\n",
    "def test_discriminator(D):\n",
    "    assert type(D) == keras.models.Sequential\n",
    "    assert D.input_shape == (None, 1)\n",
    "    assert D.output_shape == (None, 1)\n",
    "    assert D.loss == 'binary_crossentropy'\n",
    "    assert D.metrics == ['accuracy']\n",
    "    assert type(D.optimizer) == keras.optimizers.Adam\n",
    "\n",
    "    p_ = D.predict(X_FAKE_)\n",
    "    assert np.all((0 <= p_) & (p_ <= 1))\n",
    "    \n",
    "test_discriminator(D)\n",
    "passed()"
   ]
  },
  {
   "cell_type": "markdown",
   "metadata": {
    "deletable": false,
    "editable": false,
    "nbgrader": {
     "checksum": "aff20cca19f56a0ad5fb830e1e72ad74",
     "grade": false,
     "grade_id": "sample_g-ro",
     "locked": true,
     "schema_version": 1,
     "solution": false
    }
   },
   "source": [
    "## Task\n",
    "\n",
    "- Sample 100 data points from $\\mathcal{G}$ and plot them\n",
    "\n",
    "## Requirements\n",
    "\n",
    "- Save the resulting data points into a python variable called `X_fake`\n",
    "- Use $\\text{Uniform}(-1, +1)$ for the generator's noise distribution throughout\n",
    "- Use a *kernel density estimation* plot"
   ]
  },
  {
   "cell_type": "code",
   "execution_count": 9,
   "metadata": {
    "collapsed": false,
    "deletable": false,
    "editable": true,
    "nbgrader": {
     "checksum": "311cf33baad0dd59a4af4f97ff2ca28e",
     "grade": false,
     "grade_id": "sample_g-aa",
     "locked": false,
     "schema_version": 1,
     "solution": true
    }
   },
   "outputs": [
    {
     "data": {
      "image/png": "[encoded data removed]",
      "text/plain": [
       "<matplotlib.figure.Figure at 0x1250b7898>"
      ]
     },
     "metadata": {},
     "output_type": "display_data"
    }
   ],
   "source": [
    "X_fake = G.predict(np.random.uniform(low=-1, high=1, size=100))\n",
    "pd.Series(X_fake.ravel()).plot(kind='kde');\n",
    "#raise NotImplementedError()"
   ]
  },
  {
   "cell_type": "code",
   "execution_count": 10,
   "metadata": {
    "collapsed": false,
    "deletable": true,
    "editable": true
   },
   "outputs": [
    {
     "name": "stdout",
     "output_type": "stream",
     "text": [
      "100\n"
     ]
    },
    {
     "data": {
      "text/plain": [
       "array([[-0.0013419 ],\n",
       "       [-0.00686447],\n",
       "       [-0.00331506],\n",
       "       [-0.00713317],\n",
       "       [-0.01116296]], dtype=float32)"
      ]
     },
     "execution_count": 10,
     "metadata": {},
     "output_type": "execute_result"
    }
   ],
   "source": [
    "print(len(X_fake))\n",
    "X_fake[:5]"
   ]
  },
  {
   "cell_type": "markdown",
   "metadata": {
    "deletable": false,
    "editable": false,
    "nbgrader": {
     "checksum": "9ad8eccbc9aad900ba785669aa2a1fc9",
     "grade": false,
     "grade_id": "sample_g-nb",
     "locked": true,
     "schema_version": 1,
     "solution": false
    }
   },
   "source": [
    "# Generator Sampling Tests"
   ]
  },
  {
   "cell_type": "code",
   "execution_count": 11,
   "metadata": {
    "collapsed": false,
    "deletable": false,
    "editable": false,
    "nbgrader": {
     "checksum": "2e9423a1114cd0f731a36246e79ee318",
     "grade": true,
     "grade_id": "sample_g-at",
     "locked": true,
     "points": 1,
     "schema_version": 1,
     "solution": false
    }
   },
   "outputs": [
    {
     "name": "stdout",
     "output_type": "stream",
     "text": [
      "✅\n"
     ]
    }
   ],
   "source": [
    "import PIL\n",
    "\n",
    "assert type(np.array(X_fake)) == np.ndarray\n",
    "X_fake_ = X_fake.flatten()\n",
    "assert len(X_fake_) == 100\n",
    "\n",
    "passed()"
   ]
  },
  {
   "cell_type": "markdown",
   "metadata": {
    "deletable": false,
    "editable": false,
    "nbgrader": {
     "checksum": "ad6ba8dc9a184d20cd0bc3f46fe6595b",
     "grade": false,
     "grade_id": "pretrain_d1-ro",
     "locked": true,
     "schema_version": 1,
     "solution": false
    }
   },
   "source": [
    "# Pretraining $\\mathcal{D}$\n",
    "\n",
    "## Task\n",
    "\n",
    "- Generate the training data\n",
    "\n",
    "## Requirements\n",
    "\n",
    "- Sample 100 data points from the `data_point` python generator and save them into a python variable `X_real`\n",
    "- Concatenate them into one variable $\\mathbf{X} = [\\mathbf{X\\_fake} \\ \\mathbf{;} \\ \\mathbf{X\\_real}]$ and create a corresponding set of labels $\\mathbf{y} = [\\mathbf{0} \\ {\\bf ;} \\ \\mathbf{1}]$ (where `;` implies concatenation)\n",
    "- Save the data points into a python variable called `X` and the labels into a python variable called `y`"
   ]
  },
  {
   "cell_type": "code",
   "execution_count": 12,
   "metadata": {
    "collapsed": false,
    "deletable": false,
    "editable": true,
    "nbgrader": {
     "checksum": "83dd949036f45acfd26e0c614d89e509",
     "grade": false,
     "grade_id": "pretrain_d1-aa",
     "locked": false,
     "schema_version": 1,
     "solution": true
    }
   },
   "outputs": [],
   "source": [
    "X_real = np.asarray([next(data_point) for _ in range(100)]).reshape((100, 1))\n",
    "X = np.concatenate((X_fake, X_real))\n",
    "y = np.asarray([1]*100 + [0]*100)"
   ]
  },
  {
   "cell_type": "markdown",
   "metadata": {
    "deletable": false,
    "editable": false,
    "nbgrader": {
     "checksum": "de8e13b4f95c123518f44f039d171fb0",
     "grade": false,
     "grade_id": "pretrain_d1-nb",
     "locked": true,
     "schema_version": 1,
     "solution": false
    }
   },
   "source": [
    "# Data Generation Tests"
   ]
  },
  {
   "cell_type": "code",
   "execution_count": 13,
   "metadata": {
    "collapsed": false,
    "deletable": false,
    "editable": false,
    "nbgrader": {
     "checksum": "0d5e7663854c198080bbc2212c390325",
     "grade": true,
     "grade_id": "pretrain_d1-at",
     "locked": true,
     "points": 1,
     "schema_version": 1,
     "solution": false
    }
   },
   "outputs": [
    {
     "name": "stdout",
     "output_type": "stream",
     "text": [
      "✅\n"
     ]
    }
   ],
   "source": [
    "assert len(X) == NB_SAMPLE_*2\n",
    "assert len(y) == NB_SAMPLE_*2\n",
    "assert np.all(y[NB_SAMPLE_:] == 0)\n",
    "assert np.all(y[:NB_SAMPLE_] == 1)\n",
    "assert X.shape[1:] == D.input_shape[1:]\n",
    "assert y.ndim == len(D.output_shape[1:])\n",
    "\n",
    "X_, y_ = X[IDXS_][:BS_], y[IDXS_][:BS_]\n",
    "loss_, accuracy_ = D.evaluate(X_, y_, verbose=0)\n",
    "\n",
    "passed()"
   ]
  },
  {
   "cell_type": "markdown",
   "metadata": {
    "deletable": false,
    "editable": false,
    "nbgrader": {
     "checksum": "5e52ce9a3de25ed01174bd585d9e64da",
     "grade": false,
     "grade_id": "pretrain_d2-ro",
     "locked": true,
     "schema_version": 1,
     "solution": false
    }
   },
   "source": [
    "## Task\n",
    "\n",
    "- Fit $\\mathcal{D}$ on the training data `(X, y)`"
   ]
  },
  {
   "cell_type": "code",
   "execution_count": 14,
   "metadata": {
    "collapsed": false,
    "deletable": false,
    "editable": true,
    "nbgrader": {
     "checksum": "b72f294018dccf9e08efd6a181627479",
     "grade": false,
     "grade_id": "pretrain_d2-aa",
     "locked": false,
     "schema_version": 1,
     "solution": true
    }
   },
   "outputs": [],
   "source": [
    "loss, acc = D.train_on_batch(X, y)"
   ]
  },
  {
   "cell_type": "markdown",
   "metadata": {
    "deletable": false,
    "editable": false,
    "nbgrader": {
     "checksum": "0e719a45c7898f79f02465238f318d8c",
     "grade": false,
     "grade_id": "pretrain_d2-nb",
     "locked": true,
     "schema_version": 1,
     "solution": false
    }
   },
   "source": [
    "# Fitting $\\mathcal{D}$ Tests"
   ]
  },
  {
   "cell_type": "code",
   "execution_count": 15,
   "metadata": {
    "collapsed": false,
    "deletable": false,
    "editable": false,
    "nbgrader": {
     "checksum": "667e561d341e315c98487840bd703d8a",
     "grade": true,
     "grade_id": "pretrain_d2-at",
     "locked": true,
     "points": 1,
     "schema_version": 1,
     "solution": false
    }
   },
   "outputs": [
    {
     "name": "stdout",
     "output_type": "stream",
     "text": [
      "✅\n"
     ]
    }
   ],
   "source": [
    "new_loss_, new_accuracy_ = D.evaluate(X_, y_, verbose=0)\n",
    "assert new_loss_ <= loss_\n",
    "assert new_accuracy_ >= accuracy_\n",
    "\n",
    "passed()"
   ]
  },
  {
   "cell_type": "markdown",
   "metadata": {
    "deletable": false,
    "editable": false,
    "nbgrader": {
     "checksum": "4dedb936bea796c68821206fe06b5efc",
     "grade": false,
     "grade_id": "save-ro",
     "locked": true,
     "schema_version": 1,
     "solution": false
    }
   },
   "source": [
    "## Task\n",
    "\n",
    "- Save your models\n",
    "\n",
    "## Requirements\n",
    "\n",
    "- Save $\\mathcal{G}$ to a file `G.h5` and save $\\mathcal{D}$ to a file `D.h5`"
   ]
  },
  {
   "cell_type": "code",
   "execution_count": 16,
   "metadata": {
    "collapsed": false,
    "deletable": false,
    "editable": true,
    "nbgrader": {
     "checksum": "d5a10cfe429dc60cafc5462640547c48",
     "grade": false,
     "grade_id": "save-aa",
     "locked": false,
     "schema_version": 1,
     "solution": true
    }
   },
   "outputs": [],
   "source": [
    "G.save(\"G.h5\", overwrite=True)\n",
    "D.save(\"D.h5\", overwrite=True)"
   ]
  },
  {
   "cell_type": "markdown",
   "metadata": {
    "deletable": false,
    "editable": false,
    "nbgrader": {
     "checksum": "c5f60f8e6c14284822cd7db2080aa908",
     "grade": false,
     "grade_id": "save-nb",
     "locked": true,
     "schema_version": 1,
     "solution": false
    }
   },
   "source": [
    "# Model Save Tests"
   ]
  },
  {
   "cell_type": "code",
   "execution_count": 17,
   "metadata": {
    "collapsed": false,
    "deletable": false,
    "editable": false,
    "nbgrader": {
     "checksum": "b83e8e868169eeccc8e99c154e10cdd3",
     "grade": true,
     "grade_id": "save-at",
     "locked": true,
     "points": 1,
     "schema_version": 1,
     "solution": false
    }
   },
   "outputs": [
    {
     "name": "stderr",
     "output_type": "stream",
     "text": [
      "/Users/srianant/anaconda/envs/dl/lib/python3.6/site-packages/keras/models.py:240: UserWarning: No training configuration found in save file: the model was *not* compiled. Compile it manually.\n",
      "  warnings.warn('No training configuration found in save file: '\n"
     ]
    },
    {
     "name": "stdout",
     "output_type": "stream",
     "text": [
      "✅\n"
     ]
    }
   ],
   "source": [
    "import os\n",
    "from keras.models import load_model\n",
    "\n",
    "assert os.path.isfile('G.h5')\n",
    "assert os.path.isfile('D.h5')\n",
    "\n",
    "for fname_, f in zip(['G.h5', 'D.h5'], [test_generator, test_discriminator]):\n",
    "    model_ = load_model(fname_)\n",
    "    f(model_)\n",
    "    \n",
    "passed()"
   ]
  },
  {
   "cell_type": "code",
   "execution_count": null,
   "metadata": {
    "collapsed": true,
    "deletable": true,
    "editable": true
   },
   "outputs": [],
   "source": []
  }
 ],
 "metadata": {
  "hide_input": false,
  "kernelspec": {
   "display_name": "Python 3",
   "language": "python",
   "name": "python3"
  },
  "language_info": {
   "codemirror_mode": {
    "name": "ipython",
    "version": 3
   },
   "file_extension": ".py",
   "mimetype": "text/x-python",
   "name": "python",
   "nbconvert_exporter": "python",
   "pygments_lexer": "ipython3",
   "version": "3.6.0"
  }
 },
 "nbformat": 4,
 "nbformat_minor": 2
}
