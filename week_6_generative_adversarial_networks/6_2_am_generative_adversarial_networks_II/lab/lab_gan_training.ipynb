{
 "cells": [
  {
   "cell_type": "markdown",
   "metadata": {
    "deletable": true,
    "editable": true
   },
   "source": [
    "Before you turn this lab in, make sure everything runs as expected. First, **restart the kernel** (in the menubar, select Kernel$\\rightarrow$Restart) and then **run all cells** (in the menubar, select Cell$\\rightarrow$Run All).\n",
    "\n",
    "Make sure you fill in any place that says `YOUR CODE HERE` or \"YOUR ANSWER HERE\", as well as your name and collaborators below:"
   ]
  },
  {
   "cell_type": "code",
   "execution_count": null,
   "metadata": {
    "collapsed": false,
    "deletable": true,
    "editable": true
   },
   "outputs": [],
   "source": [
    "DRIVER = \"\"\n",
    "NAVIGATOR = \"\""
   ]
  },
  {
   "cell_type": "markdown",
   "metadata": {
    "deletable": false,
    "editable": false,
    "nbgrader": {
     "checksum": "1362580d7144d507b536e15d5ebda333",
     "grade": false,
     "grade_id": "intro",
     "locked": true,
     "schema_version": 1,
     "solution": false
    }
   },
   "source": [
    "# Generative Adversarial Networks Training Lab\n",
    "\n",
    "Welcome to the generative adversarial networks lab! By the end of this lab, you will have\n",
    "\n",
    "- Hooked together a generator $\\mathcal{G}$ and discriminator $\\mathcal{D}$ to build a generative adversarial model $\\mathcal{A}$\n",
    "- Optimized $\\mathcal{G}$ to produce realistic data points via adversarial training\n",
    "\n",
    "Let's get started!"
   ]
  },
  {
   "cell_type": "markdown",
   "metadata": {
    "deletable": false,
    "editable": false,
    "nbgrader": {
     "checksum": "0409cec3e84d63d3e268f127f08b72b9",
     "grade": false,
     "grade_id": "variables_blurb",
     "locked": true,
     "schema_version": 1,
     "solution": false
    }
   },
   "source": [
    "# Unit Test Variables\n",
    "\n",
    "The following code defines variables that will be used in subsequent unit tests. Do not attempt to redefine any of these variables throughout the notebook!"
   ]
  },
  {
   "cell_type": "code",
   "execution_count": null,
   "metadata": {
    "collapsed": true,
    "deletable": false,
    "editable": false,
    "nbgrader": {
     "checksum": "f6eeac8d21bef41e6b5920ca4f8c79da",
     "grade": false,
     "grade_id": "variables_definition",
     "locked": true,
     "schema_version": 1,
     "solution": false
    }
   },
   "outputs": [],
   "source": [
    "import numpy as np\n",
    "np.random.seed(42)\n",
    "\n",
    "BS_ = 128\n",
    "Z_ = np.random.uniform(low=-1, high=1, size=BS_)\n",
    "\n",
    "def passed(): print('✅')"
   ]
  },
  {
   "cell_type": "markdown",
   "metadata": {
    "deletable": false,
    "editable": false,
    "nbgrader": {
     "checksum": "901a18b690f1131c4d9555ee3f0ac966",
     "grade": false,
     "grade_id": "synthetic_data_description",
     "locked": true,
     "schema_version": 1,
     "solution": false
    }
   },
   "source": [
    "# Synthetic Data\n",
    "\n",
    "The following code defines a python generator which yields samples from a normal distribution and plots 1,000 samples."
   ]
  },
  {
   "cell_type": "code",
   "execution_count": null,
   "metadata": {
    "collapsed": false,
    "deletable": false,
    "editable": false,
    "nbgrader": {
     "checksum": "5de80ccab71df643b649188de23c9064",
     "grade": false,
     "grade_id": "synthetic_data_code",
     "locked": true,
     "schema_version": 1,
     "solution": false
    }
   },
   "outputs": [],
   "source": [
    "import numpy as np\n",
    "import pandas as pd\n",
    "%matplotlib inline\n",
    "\n",
    "def data_distribution(mu, sigma):\n",
    "    while True:\n",
    "        z = sigma*np.random.randn() + mu\n",
    "        yield z\n",
    "        \n",
    "data_point = data_distribution(mu=4, sigma=0.5)\n",
    "pd.Series(next(data_point) for _ in range(1_000)).plot(kind='kde');"
   ]
  },
  {
   "cell_type": "markdown",
   "metadata": {
    "deletable": false,
    "editable": false,
    "nbgrader": {
     "checksum": "39f22fa9477bf216342d0b34b2cac448",
     "grade": false,
     "grade_id": "load_models_instructions",
     "locked": true,
     "schema_version": 1,
     "solution": false
    }
   },
   "source": [
    "## Task\n",
    "\n",
    "- Load $\\mathcal{G}$ and $\\mathcal{D}$ into memory\n",
    "\n",
    "## Requirement\n",
    "\n",
    "- Save them into python variables named `G` and `D` respectively"
   ]
  },
  {
   "cell_type": "code",
   "execution_count": null,
   "metadata": {
    "collapsed": false,
    "deletable": false,
    "editable": true,
    "nbgrader": {
     "checksum": "bc63e480c6ca33f8695b621dd2b089e1",
     "grade": false,
     "grade_id": "load_models_solution",
     "locked": false,
     "schema_version": 1,
     "solution": true
    }
   },
   "outputs": [],
   "source": [
    "from keras.models import load_model\n",
    "\n",
    "# YOUR CODE HERE\n",
    "raise NotImplementedError()"
   ]
  },
  {
   "cell_type": "markdown",
   "metadata": {
    "deletable": false,
    "editable": false,
    "nbgrader": {
     "checksum": "66d40ea6100ae413809fa3a4b9a5812a",
     "grade": false,
     "grade_id": "load_models_blurb",
     "locked": true,
     "schema_version": 1,
     "solution": false
    }
   },
   "source": [
    "# Load Models Tests"
   ]
  },
  {
   "cell_type": "code",
   "execution_count": null,
   "metadata": {
    "collapsed": false,
    "deletable": false,
    "editable": false,
    "nbgrader": {
     "checksum": "508a592a84c3f853efe7c21cf9e3f41a",
     "grade": true,
     "grade_id": "load_models_test",
     "locked": true,
     "points": 1,
     "schema_version": 1,
     "solution": false
    }
   },
   "outputs": [],
   "source": [
    "import keras\n",
    "\n",
    "assert type(G) == keras.models.Sequential\n",
    "assert G.input_shape == (None, 1)\n",
    "assert G.output_shape == (None, 1)\n",
    "assert G.predict(Z_).shape == (128, 1)\n",
    "assert type(D) == keras.models.Sequential\n",
    "assert D.output_shape == (None, 1)\n",
    "assert D.input_shape == (None, 1)\n",
    "\n",
    "passed()"
   ]
  },
  {
   "cell_type": "markdown",
   "metadata": {
    "deletable": false,
    "editable": false,
    "nbgrader": {
     "checksum": "0b5caf78dd11cafacf2b9db6703c9570",
     "grade": false,
     "grade_id": "make_gan_instructions",
     "locked": true,
     "schema_version": 1,
     "solution": false
    }
   },
   "source": [
    "## Task\n",
    "\n",
    "- Hook together $\\mathcal{G}$ and $\\mathcal{D}$ to create $\\mathcal{A}$\n",
    "\n",
    "## Hints\n",
    "\n",
    "- Use the keras functional api to connect together $\\mathcal{G}$ and $\\mathcal{D}$\n",
    "- Recall the interface for $\\mathcal{A}$\n",
    "\n",
    "<img src=\"images/Fancy GAN.svg\" alt=\"GAN\" style=\"width: 300px;\"/>\n",
    "\n",
    "## Requirements\n",
    "\n",
    "- Save $\\mathcal{A}$ into a python variable named `GAN`\n",
    "\n",
    "## Hint\n",
    "\n",
    "- Use `keras.layers.Input` as the first layer in your model to specify the input size"
   ]
  },
  {
   "cell_type": "code",
   "execution_count": null,
   "metadata": {
    "collapsed": false,
    "deletable": false,
    "editable": true,
    "nbgrader": {
     "checksum": "7136eb695a8ff7ca0e5fb8bd10b2de26",
     "grade": false,
     "grade_id": "make_gan_solution",
     "locked": false,
     "schema_version": 1,
     "solution": true
    }
   },
   "outputs": [],
   "source": [
    "# YOUR CODE HERE\n",
    "raise NotImplementedError()"
   ]
  },
  {
   "cell_type": "markdown",
   "metadata": {
    "deletable": false,
    "editable": false,
    "nbgrader": {
     "checksum": "60399220d9c6fd13662ddb2442a39dd0",
     "grade": false,
     "grade_id": "make_gan_tests_blurb",
     "locked": true,
     "schema_version": 1,
     "solution": false
    }
   },
   "source": [
    "# Generative Adversarial Network Tests"
   ]
  },
  {
   "cell_type": "code",
   "execution_count": null,
   "metadata": {
    "collapsed": false,
    "deletable": false,
    "editable": false,
    "nbgrader": {
     "checksum": "69637cdbfa962025258b65b5b0d43bf7",
     "grade": true,
     "grade_id": "make_gan_tests",
     "locked": true,
     "points": 1,
     "schema_version": 1,
     "solution": false
    }
   },
   "outputs": [],
   "source": [
    "import numpy as np\n",
    "\n",
    "def test_gan(G, D, GAN):\n",
    "    assert type(GAN) == keras.engine.training.Model\n",
    "    assert GAN.input_shape == G.input_shape\n",
    "    assert GAN.output_shape == D.output_shape\n",
    "    assert GAN.loss == D.loss\n",
    "    assert GAN.metrics == D.metrics\n",
    "    assert type(GAN.optimizer) == type(D.optimizer)\n",
    "    bs_ = 16\n",
    "    z_ = np.random.uniform(low=-1, high=1, size=[bs_, 1])\n",
    "    X_fake_ = G.predict(z_)\n",
    "    assert np.all(GAN.predict(z_) == D.predict(X_fake_))\n",
    "    \n",
    "    for l1, l2 in zip(GAN.layers[1].layers, G.layers):\n",
    "        W1 = [ww for w in l1.get_weights() for ww in w]\n",
    "        W2 = [ww for w in l2.get_weights() for ww in w]\n",
    "        for w1, w2 in zip(W1, W2):\n",
    "            assert np.all(w1 == w2)\n",
    "        \n",
    "    for l1, l2 in zip(GAN.layers[2].layers, D.layers):\n",
    "        W1 = [ww for w in l1.get_weights() for ww in w]\n",
    "        W2 = [ww for w in l2.get_weights() for ww in w]\n",
    "        for w1, w2 in zip(W1, W2):\n",
    "            assert np.all(w1 == w2)\n",
    "    \n",
    "test_gan(G, D, GAN)\n",
    "passed()"
   ]
  },
  {
   "cell_type": "markdown",
   "metadata": {
    "deletable": false,
    "editable": false,
    "nbgrader": {
     "checksum": "4b8ab9716732ecd016f9e896ca9b3d0a",
     "grade": false,
     "grade_id": "train_d_instructions",
     "locked": true,
     "schema_version": 1,
     "solution": false
    }
   },
   "source": [
    "# Building Up to the Full Training Loop Solution\n",
    "\n",
    "## Task\n",
    "\n",
    "- Train $\\mathcal{D}$ on a batch of two data points ${\\tt X = [\\widetilde{x} \\ ; x]}$ and ${\\tt y = [0, 1]}$\n",
    "\n",
    "## Requirements\n",
    "\n",
    "- Save your sample from the noise distribution into a python variable named `z`\n",
    "- Save your batch of two training examples into python variables named `X` and `y`\n",
    "- Save the accuracy and loss into python variables named `accuracy` and `loss`"
   ]
  },
  {
   "cell_type": "code",
   "execution_count": null,
   "metadata": {
    "collapsed": false,
    "deletable": false,
    "editable": true,
    "nbgrader": {
     "checksum": "9660c700c556a140aa5300efcab863b4",
     "grade": false,
     "grade_id": "train_d_solution",
     "locked": false,
     "schema_version": 1,
     "solution": true
    }
   },
   "outputs": [],
   "source": [
    "# YOUR CODE HERE\n",
    "raise NotImplementedError()"
   ]
  },
  {
   "cell_type": "markdown",
   "metadata": {
    "deletable": false,
    "editable": false,
    "nbgrader": {
     "checksum": "fe826a2cfa189352ffe4a89ed265a5d0",
     "grade": false,
     "grade_id": "train_d_blurb",
     "locked": true,
     "schema_version": 1,
     "solution": false
    }
   },
   "source": [
    "# Discriminator Training Tests"
   ]
  },
  {
   "cell_type": "code",
   "execution_count": null,
   "metadata": {
    "collapsed": false,
    "deletable": false,
    "editable": false,
    "nbgrader": {
     "checksum": "3c71492ebd08fd1bbc01305564064019",
     "grade": true,
     "grade_id": "train_d_tests",
     "locked": true,
     "points": 1,
     "schema_version": 1,
     "solution": false
    }
   },
   "outputs": [],
   "source": [
    "assert z.shape == (1, 1)\n",
    "assert len(X) == 2\n",
    "assert np.all(y == [0, 1])\n",
    "l_, a_ = D.train_on_batch(X, y)\n",
    "assert l_ <= loss\n",
    "assert a_ >= accuracy\n",
    "\n",
    "W_d_ = [w for layer in D.layers for w in layer.get_weights()]\n",
    "W_g_ = [w for layer in G.layers for w in layer.get_weights()]\n",
    "\n",
    "passed()"
   ]
  },
  {
   "cell_type": "markdown",
   "metadata": {
    "deletable": false,
    "editable": false,
    "nbgrader": {
     "checksum": "cc5ba4ed6351f65c1c512ccfaeb4b2a2",
     "grade": false,
     "grade_id": "train_g_instructions",
     "locked": true,
     "schema_version": 1,
     "solution": false
    }
   },
   "source": [
    "## Task\n",
    "\n",
    "- Train $\\mathcal{G}$ on a single adversarial training example `(z, 1)`\n",
    "\n",
    "## Hints\n",
    "\n",
    "- Make sure you freeze the weights of the discriminator so you don't step $\\theta_\\mathcal{D}$ in the wrong direction!\n",
    "- You can use the `lib.keras_utils.freeze()` context manager to freeze $\\mathcal{D}$'s weights. Here is an example illustrating usage and semantics.\n",
    "\n",
    "#### Without `lib.keras_utils.freeze()`\n",
    "\n",
    "```python\n",
    "p = D.predict(X)\n",
    "GAN.train_on_batch(z, y)\n",
    "assert D.predict(X) != p # different weights, different prediction\n",
    "```\n",
    "\n",
    "#### With `lib.keras_utils.freeze()`\n",
    "\n",
    "```python\n",
    "from lib.keras_utils import freeze\n",
    "with freeze(GAN, D):\n",
    "    X_fake = G.predict(z)\n",
    "    p = D.predict(X_fake)\n",
    "    GAN.train_on_batch(z, y)\n",
    "    assert D.predict(X_fake) == p # same weights, same prediction for D\n",
    "    assert G.predict(z) != X_fake # different weights, different prediction for G\n",
    "```\n",
    "\n",
    "## Reminder\n",
    "\n",
    "- Make sure you do **not** update $\\theta_\\mathcal{D}$!"
   ]
  },
  {
   "cell_type": "code",
   "execution_count": null,
   "metadata": {
    "collapsed": false,
    "deletable": false,
    "editable": true,
    "nbgrader": {
     "checksum": "99049eb36abf67c64e35fad63221fafb",
     "grade": false,
     "grade_id": "train_g_solution",
     "locked": false,
     "schema_version": 1,
     "solution": true
    }
   },
   "outputs": [],
   "source": [
    "# YOUR CODE HERE\n",
    "raise NotImplementedError()"
   ]
  },
  {
   "cell_type": "markdown",
   "metadata": {
    "deletable": false,
    "editable": false,
    "nbgrader": {
     "checksum": "796ece2000c923c8b4e57bf805826097",
     "grade": false,
     "grade_id": "train_g_blurb",
     "locked": true,
     "schema_version": 1,
     "solution": false
    }
   },
   "source": [
    "# Generator Training Tests"
   ]
  },
  {
   "cell_type": "code",
   "execution_count": null,
   "metadata": {
    "collapsed": false,
    "deletable": false,
    "editable": false,
    "nbgrader": {
     "checksum": "dd215dfee74b066bc7b67d182cd30f61",
     "grade": true,
     "grade_id": "train_g_tests",
     "locked": true,
     "points": 1,
     "schema_version": 1,
     "solution": false
    }
   },
   "outputs": [],
   "source": [
    "for w_d_old_, w_d_new_ in zip(W_d_, [w for layer in D.layers for w in layer.get_weights()]):\n",
    "    assert np.all(w_d_old_ == w_d_new_)\n",
    "    \n",
    "test_gan(G, D, GAN)\n",
    "passed()"
   ]
  },
  {
   "cell_type": "markdown",
   "metadata": {
    "deletable": false,
    "editable": false,
    "nbgrader": {
     "checksum": "b509110244859bb1dc70fda8b1f8bb33",
     "grade": false,
     "grade_id": "train_gan_instructions",
     "locked": true,
     "schema_version": 1,
     "solution": false
    }
   },
   "source": [
    "## Task\n",
    "\n",
    "- Generalize your code to train $\\mathcal{G}$ to produce realistic synthetic images with generative adversarial training\n",
    "\n",
    "## Suggestions\n",
    "\n",
    "- Track the loss for $\\mathcal{G}$ and $\\mathcal{D}$ over time as well as accuracy for $\\mathcal{A}$ to see who is winning\n",
    "- Have $\\mathcal{G}$ generate some images every few epochs to visualize what it is learning\n",
    "\n",
    "## Goal\n",
    "\n",
    "- Optimize $\\mathcal{G}$ so that it maps the 128 data points `Z_` (defined in the first code cell in this lab) from the noise distribution to data points close to the data points from the data distribution\n",
    "\n",
    "## Constraints\n",
    "\n",
    "- Do not run for more than 250 epochs"
   ]
  },
  {
   "cell_type": "code",
   "execution_count": null,
   "metadata": {
    "collapsed": false,
    "deletable": false,
    "editable": true,
    "nbgrader": {
     "checksum": "e9274e8192bd62e989e86ea650b4ad57",
     "grade": false,
     "grade_id": "train_gan_solution",
     "locked": false,
     "schema_version": 1,
     "solution": true
    },
    "scrolled": false
   },
   "outputs": [],
   "source": [
    "from IPython import display\n",
    "import matplotlib.pyplot as plt\n",
    "from collections import defaultdict\n",
    "from lib.keras_utils import freeze\n",
    "\n",
    "batch_size = 64\n",
    "nb_epoch = 100\n",
    "plot_every = 1\n",
    "y_fake, y_real = np.zeros(batch_size), np.ones(batch_size)\n",
    "\n",
    "# YOUR CODE HERE\n",
    "raise NotImplementedError()"
   ]
  },
  {
   "cell_type": "markdown",
   "metadata": {
    "deletable": false,
    "editable": false,
    "nbgrader": {
     "checksum": "05d7db6ac6072c6992ccc53599dd2777",
     "grade": false,
     "grade_id": "plot_g_instructions",
     "locked": true,
     "schema_version": 1,
     "solution": false
    }
   },
   "source": [
    "## Task\n",
    "\n",
    "- Plot samples from your trained generator and samples from the real data distribution on the same plot\n",
    "\n",
    "## Requirements\n",
    "\n",
    "- Use a *kernel density estimation* plot for both types of samples"
   ]
  },
  {
   "cell_type": "code",
   "execution_count": null,
   "metadata": {
    "collapsed": false,
    "deletable": false,
    "editable": true,
    "nbgrader": {
     "checksum": "507ac40890573fe806d99587b94b10af",
     "grade": false,
     "grade_id": "plot_g_solution",
     "locked": false,
     "schema_version": 1,
     "solution": true
    }
   },
   "outputs": [],
   "source": [
    "# YOUR CODE HERE\n",
    "raise NotImplementedError()"
   ]
  },
  {
   "cell_type": "markdown",
   "metadata": {
    "deletable": false,
    "editable": false,
    "nbgrader": {
     "checksum": "6fb50e340fb5588e5953ab654fb1023e",
     "grade": false,
     "grade_id": "evaluate_d_instructions",
     "locked": true,
     "schema_version": 1,
     "solution": false
    }
   },
   "source": [
    "## Task\n",
    "\n",
    "- Evaluate $\\mathcal{D}$'s accuracy on the fake images $\\mathcal{G}$ produces from `Z_`\n",
    "\n",
    "## Requirements\n",
    "\n",
    "- Save them into two python variables `loss` and `acc`"
   ]
  },
  {
   "cell_type": "code",
   "execution_count": null,
   "metadata": {
    "collapsed": false,
    "deletable": false,
    "editable": true,
    "nbgrader": {
     "checksum": "c5c520fc8de36272bf9ee96caa3f3be7",
     "grade": false,
     "grade_id": "evaluate_d_solution",
     "locked": false,
     "schema_version": 1,
     "solution": true
    }
   },
   "outputs": [],
   "source": [
    "# YOUR CODE HERE\n",
    "raise NotImplementedError()"
   ]
  },
  {
   "cell_type": "markdown",
   "metadata": {
    "deletable": false,
    "editable": false,
    "nbgrader": {
     "checksum": "8fb0051ec801275e0a880665ba193e0e",
     "grade": false,
     "grade_id": "evaluate_d_blurb",
     "locked": true,
     "schema_version": 1,
     "solution": false
    }
   },
   "source": [
    "# Evaluate $\\mathcal{D}$ Tests"
   ]
  },
  {
   "cell_type": "code",
   "execution_count": null,
   "metadata": {
    "collapsed": false,
    "deletable": false,
    "editable": false,
    "nbgrader": {
     "checksum": "f8e0865129656721ef41b459dd0767a5",
     "grade": true,
     "grade_id": "evaluate_d_tests",
     "locked": true,
     "points": 1,
     "schema_version": 1,
     "solution": false
    }
   },
   "outputs": [],
   "source": [
    "assert type(loss) == np.float64\n",
    "assert type(acc) == np.float64\n",
    "assert 0 <= acc <= 1\n",
    "\n",
    "passed()"
   ]
  },
  {
   "cell_type": "markdown",
   "metadata": {
    "deletable": false,
    "editable": false,
    "nbgrader": {
     "checksum": "58e6a3950b29c2f0d30e906ff9732c7b",
     "grade": false,
     "grade_id": "train_gan_blurb",
     "locked": true,
     "schema_version": 1,
     "solution": false
    }
   },
   "source": [
    "# Evaluate $\\mathcal{G}$ Tests"
   ]
  },
  {
   "cell_type": "code",
   "execution_count": null,
   "metadata": {
    "collapsed": false,
    "deletable": false,
    "editable": false,
    "nbgrader": {
     "checksum": "d2f4a8a011436b8c0108d643958ecf5a",
     "grade": true,
     "grade_id": "test_gan_gt_05",
     "locked": true,
     "points": 1,
     "schema_version": 1,
     "solution": false
    }
   },
   "outputs": [],
   "source": [
    "X_fake_ = G.predict(Z_)\n",
    "assert X_fake_.mean() > 0.5\n",
    "passed()"
   ]
  },
  {
   "cell_type": "code",
   "execution_count": null,
   "metadata": {
    "collapsed": false,
    "deletable": false,
    "editable": false,
    "nbgrader": {
     "checksum": "889222bddffb79312da87969a1a9448a",
     "grade": true,
     "grade_id": "test_gan_gt_10",
     "locked": true,
     "points": 1,
     "schema_version": 1,
     "solution": false
    }
   },
   "outputs": [],
   "source": [
    "X_fake_ = G.predict(Z_)\n",
    "assert X_fake_.mean() > 1.0\n",
    "passed()"
   ]
  },
  {
   "cell_type": "code",
   "execution_count": null,
   "metadata": {
    "collapsed": false,
    "deletable": false,
    "editable": false,
    "nbgrader": {
     "checksum": "aa2ecc8a3d220f5cf84c6d46ea7aed37",
     "grade": true,
     "grade_id": "test_gan_gt_15",
     "locked": true,
     "points": 1,
     "schema_version": 1,
     "solution": false
    }
   },
   "outputs": [],
   "source": [
    "X_fake_ = G.predict(Z_)\n",
    "assert X_fake_.mean() > 1.5\n",
    "passed()"
   ]
  }
 ],
 "metadata": {
  "hide_input": false,
  "kernelspec": {
   "display_name": "Python 3",
   "language": "python",
   "name": "python3"
  },
  "language_info": {
   "codemirror_mode": {
    "name": "ipython",
    "version": 3
   },
   "file_extension": ".py",
   "mimetype": "text/x-python",
   "name": "python",
   "nbconvert_exporter": "python",
   "pygments_lexer": "ipython3",
   "version": "3.6.1"
  }
 },
 "nbformat": 4,
 "nbformat_minor": 2
}
