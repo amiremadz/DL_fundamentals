{
 "cells": [
  {
   "cell_type": "markdown",
   "metadata": {
    "deletable": true,
    "editable": true
   },
   "source": [
    "Before you turn this lab in, make sure everything runs as expected. First, **restart the kernel** (in the menubar, select Kernel$\\rightarrow$Restart) and then **run all cells** (in the menubar, select Cell$\\rightarrow$Run All).\n",
    "\n",
    "Make sure you fill in any place that says `YOUR CODE HERE` or \"YOUR ANSWER HERE\", as well as your name and collaborators below:"
   ]
  },
  {
   "cell_type": "code",
   "execution_count": null,
   "metadata": {
    "collapsed": false,
    "deletable": true,
    "editable": true
   },
   "outputs": [],
   "source": [
    "DRIVER = \"\"\n",
    "NAVIGATOR = \"\""
   ]
  },
  {
   "cell_type": "markdown",
   "metadata": {
    "deletable": false,
    "editable": false,
    "nbgrader": {
     "checksum": "d1dcb584386bcaf3058e042c834445e2",
     "grade": false,
     "grade_id": "intro",
     "locked": true,
     "schema_version": 1,
     "solution": false
    }
   },
   "source": [
    "# Optimization II Lab\n",
    "\n",
    "Welcome to the optimization II lab! By the end of this lab you will have\n",
    "\n",
    "- Performed optimization on a deep learning model with several different optimizers\n",
    "- Visualized optimizer dynamics via TensorBoard\n",
    "- Visualized optimizer performance via SacredBoard\n",
    "\n",
    "Let's get started!"
   ]
  },
  {
   "cell_type": "markdown",
   "metadata": {
    "deletable": false,
    "editable": false,
    "nbgrader": {
     "checksum": "073c294006fb186b880bc09eb2f08877",
     "grade": false,
     "grade_id": "unit_test_blurb",
     "locked": true,
     "schema_version": 1,
     "solution": false
    }
   },
   "source": [
    "# Unit Test Variables\n",
    "\n",
    "The following code defines variables that will be used in subsequent unit tests. Do not attempt to redefine any of these variables throughout the notebook!"
   ]
  },
  {
   "cell_type": "code",
   "execution_count": null,
   "metadata": {
    "collapsed": false,
    "deletable": false,
    "editable": false,
    "nbgrader": {
     "checksum": "463463b1efe1934fe88edc50e383c36b",
     "grade": false,
     "grade_id": "unit_test_definitions",
     "locked": true,
     "schema_version": 1,
     "solution": false
    }
   },
   "outputs": [],
   "source": [
    "from IPython.display import HTML\n",
    "\n",
    "def passed():\n",
    "    print('✅')"
   ]
  },
  {
   "cell_type": "markdown",
   "metadata": {
    "deletable": false,
    "editable": false,
    "nbgrader": {
     "checksum": "9472a6f816dcf506012b6e0e2282c846",
     "grade": false,
     "grade_id": "cnn_description",
     "locked": true,
     "schema_version": 1,
     "solution": false
    }
   },
   "source": [
    "## Task\n",
    "\n",
    "- Define a convolutional neural network trainer `CNNTrainer` in `trainers.py`\n",
    "\n",
    "## Remarks\n",
    "\n",
    "- You can either fill in the code below or directly edit `trainers.py`"
   ]
  },
  {
   "cell_type": "code",
   "execution_count": null,
   "metadata": {
    "collapsed": false,
    "deletable": false,
    "editable": true,
    "nbgrader": {
     "checksum": "54d0346a737b0f9d46aa1d66100431b7",
     "grade": false,
     "grade_id": "cnn_solution",
     "locked": false,
     "schema_version": 1,
     "solution": true
    }
   },
   "outputs": [],
   "source": [
    "from trainer import Trainer\n",
    "\n",
    "class CNNTrainer(Trainer):\n",
    "    \"\"\"Convolutional Neural Network Classifier\"\"\"\n",
    "\n",
    "    def build_model(self):\n",
    "        from keras.models import Sequential\n",
    "        from keras.layers import Conv2D, Dense, MaxPooling2D, Dropout, Flatten\n",
    "\n",
    "        model = Sequential()\n",
    "        \n",
    "        # YOUR CODE HERE\n",
    "        raise NotImplementedError()\n",
    "        \n",
    "        self.model = model\n",
    "        \n",
    "import trainers\n",
    "trainers.CNNTrainer = CNNTrainer"
   ]
  },
  {
   "cell_type": "markdown",
   "metadata": {
    "deletable": false,
    "editable": false,
    "nbgrader": {
     "checksum": "6266b6f453816af035570d0406d0eda1",
     "grade": false,
     "grade_id": "cnn_blurb",
     "locked": true,
     "schema_version": 1,
     "solution": false
    }
   },
   "source": [
    "# `CNNTrainer` Tests"
   ]
  },
  {
   "cell_type": "code",
   "execution_count": null,
   "metadata": {
    "collapsed": false,
    "deletable": false,
    "editable": false,
    "nbgrader": {
     "checksum": "bd4bcff0c95a25b25c7b62d0e04ddf04",
     "grade": true,
     "grade_id": "cnn_tests",
     "locked": true,
     "points": 1,
     "schema_version": 1,
     "solution": false
    }
   },
   "outputs": [],
   "source": [
    "import numpy as np\n",
    "from trainers import CNNTrainer\n",
    "\n",
    "cnn = CNNTrainer(config={})\n",
    "cnn.load_data()\n",
    "cnn.build_model()\n",
    "\n",
    "nb_conv = len([layer for layer in cnn.model.layers if layer.name.startswith('conv')])\n",
    "assert nb_conv >= 1\n",
    "assert cnn.model.input_shape == (None, 28, 28, 1)\n",
    "assert cnn.model.output_shape == (None, 10)\n",
    "X_ = np.random.randn(16, 28, 28, 1)\n",
    "y_pred = cnn.model.predict_classes(X_, verbose=0)\n",
    "assert np.all(0 <= y_pred) and np.all(y_pred < 10)\n",
    "\n",
    "passed()"
   ]
  },
  {
   "cell_type": "markdown",
   "metadata": {
    "deletable": false,
    "editable": false,
    "nbgrader": {
     "checksum": "8d7594e0fdb789c4863ff3c96e566002",
     "grade": false,
     "grade_id": "runs_description",
     "locked": true,
     "schema_version": 1,
     "solution": false
    }
   },
   "source": [
    "## Task\n",
    "\n",
    "- Optimize your `CNNTrainer` model with every optimizer in keras with the exception of `TFOptimizer`\n",
    "\n",
    "## Suggestion\n",
    "\n",
    "- Start with a simple model like `MLRTrainer` and only consider a small number of training examples so you can debug quickly until you're sure everything is working correctly and them experiment with larger slower `CNNTrainer`\n",
    "\n",
    "## Requirement\n",
    "\n",
    "- Keep the sacred [Mongo Observer](http://sacred.readthedocs.io/en/latest/observers.html#mongo-observer) so you can view the results afterward in [sacredboard](https://github.com/chovanecm/sacredboard)"
   ]
  },
  {
   "cell_type": "code",
   "execution_count": null,
   "metadata": {
    "collapsed": false,
    "deletable": false,
    "editable": true,
    "nbgrader": {
     "checksum": "0d67e0053e236e659b44ea9a919f87ed",
     "grade": false,
     "grade_id": "runs_solution",
     "locked": false,
     "schema_version": 1,
     "solution": true
    },
    "scrolled": false
   },
   "outputs": [],
   "source": [
    "from train import ex\n",
    "import keras\n",
    "import keras.backend as K\n",
    "from sacred.observers import MongoObserver\n",
    "mongo_observer = MongoObserver.create()\n",
    "ex.observers.append(mongo_observer)\n",
    "\n",
    "# YOUR CODE HERE\n",
    "raise NotImplementedError()"
   ]
  },
  {
   "cell_type": "markdown",
   "metadata": {
    "deletable": false,
    "editable": false,
    "nbgrader": {
     "checksum": "ad640252452d75961123c41403f13844",
     "grade": false,
     "grade_id": "screenshot_description",
     "locked": true,
     "schema_version": 1,
     "solution": false
    }
   },
   "source": [
    "## Task\n",
    "\n",
    "- Visualize optimizer dynamics with TensorBoard\n",
    "\n",
    "## Requirements\n",
    "\n",
    "- Select out plots which track only training loss during your experiment runs in TensorBoard with an appropriate regex (e.g. `loss`)\n",
    "- Take a screenshot\n",
    "- Load it into a `IPython.display.Image` object called `tensorboard_screenshot`\n",
    "- Display it"
   ]
  },
  {
   "cell_type": "code",
   "execution_count": null,
   "metadata": {
    "collapsed": false,
    "deletable": false,
    "editable": true,
    "nbgrader": {
     "checksum": "d759d3c8862e4554a24658b8e078981b",
     "grade": false,
     "grade_id": "screenshot_solution",
     "locked": false,
     "schema_version": 1,
     "solution": true
    }
   },
   "outputs": [],
   "source": [
    "# YOUR CODE HERE\n",
    "raise NotImplementedError()"
   ]
  },
  {
   "cell_type": "markdown",
   "metadata": {
    "deletable": false,
    "editable": false,
    "nbgrader": {
     "checksum": "a868597be174e1449a11b1a465d1677a",
     "grade": false,
     "grade_id": "tensorboard_screenshot_blurb",
     "locked": true,
     "schema_version": 1,
     "solution": false
    }
   },
   "source": [
    "# TensorBoard Screenshot Test"
   ]
  },
  {
   "cell_type": "code",
   "execution_count": null,
   "metadata": {
    "collapsed": false,
    "deletable": false,
    "editable": false,
    "nbgrader": {
     "checksum": "d1d9ff6ddc951918c1f35a9dafbe7b7a",
     "grade": true,
     "grade_id": "tensorboard_screenshot_test",
     "locked": true,
     "points": 1,
     "schema_version": 1,
     "solution": false
    }
   },
   "outputs": [],
   "source": [
    "import IPython\n",
    "\n",
    "assert type(tensorboard_screenshot) == IPython.core.display.Image\n",
    "assert 'PNG' in str(tensorboard_screenshot.data) or 'JPG' in str(tensorboard_screenshot.data)\n",
    "\n",
    "passed()"
   ]
  },
  {
   "cell_type": "markdown",
   "metadata": {
    "deletable": true,
    "editable": true
   },
   "source": [
    "## Task\n",
    "\n",
    "- Visualize optimizer performance with sacredboard\n",
    "\n",
    "## Requirements\n",
    "\n",
    "- Sort the optimizer runs in sacredboard by loss\n",
    "- Take a screenshot\n",
    "- Load it into a `IPython.display.Image` object called `sacredboard_screenshot`\n",
    "- Display it"
   ]
  },
  {
   "cell_type": "code",
   "execution_count": null,
   "metadata": {
    "collapsed": false,
    "deletable": false,
    "editable": true,
    "nbgrader": {
     "checksum": "d8384307e9de76a52c23e1ff1fd4b6b3",
     "grade": false,
     "grade_id": "sacredboard_screenshot_solution",
     "locked": false,
     "schema_version": 1,
     "solution": true
    }
   },
   "outputs": [],
   "source": [
    "# YOUR CODE HERE\n",
    "raise NotImplementedError()"
   ]
  },
  {
   "cell_type": "markdown",
   "metadata": {
    "deletable": false,
    "editable": false,
    "nbgrader": {
     "checksum": "bddce1518be2e67bad1e6dc6ea95dbf7",
     "grade": false,
     "grade_id": "sacredboard_screenshot_blurb",
     "locked": true,
     "schema_version": 1,
     "solution": false
    }
   },
   "source": [
    "# SacredBoard Screenshot Test"
   ]
  },
  {
   "cell_type": "code",
   "execution_count": null,
   "metadata": {
    "collapsed": false,
    "deletable": false,
    "editable": false,
    "nbgrader": {
     "checksum": "3aa7cc30fcda7e416dc3997015382f4e",
     "grade": true,
     "grade_id": "sacredboard_screenshot_test",
     "locked": true,
     "points": 1,
     "schema_version": 1,
     "solution": false
    }
   },
   "outputs": [],
   "source": [
    "import IPython\n",
    "\n",
    "assert type(sacredboard_screenshot) == IPython.core.display.Image\n",
    "assert 'PNG' in str(sacredboard_screenshot.data) or 'JPG' in str(sacredboard_screenshot.data)\n",
    "\n",
    "passed()"
   ]
  },
  {
   "cell_type": "markdown",
   "metadata": {
    "deletable": false,
    "editable": false,
    "nbgrader": {
     "checksum": "04b9c505be4e339a7e064223f086736c",
     "grade": false,
     "grade_id": "best_question",
     "locked": true,
     "schema_version": 1,
     "solution": false
    }
   },
   "source": [
    "## Question\n",
    "\n",
    "- Which optimizer did you find worked best? Does that surprise you? If so, why?"
   ]
  },
  {
   "cell_type": "markdown",
   "metadata": {
    "deletable": false,
    "editable": true,
    "nbgrader": {
     "checksum": "4417bfb54b63d0b3fed953bfa88a2ec8",
     "grade": true,
     "grade_id": "best_answer",
     "locked": false,
     "points": 1,
     "schema_version": 1,
     "solution": true
    }
   },
   "source": [
    "YOUR ANSWER HERE"
   ]
  },
  {
   "cell_type": "markdown",
   "metadata": {
    "deletable": false,
    "editable": false,
    "nbgrader": {
     "checksum": "b5492680d32abdc7cae0983cddb01505",
     "grade": false,
     "grade_id": "intuition_question",
     "locked": true,
     "schema_version": 1,
     "solution": false
    }
   },
   "source": [
    "## Question\n",
    "\n",
    "- What is the intution behind that optimitzer?"
   ]
  },
  {
   "cell_type": "markdown",
   "metadata": {
    "deletable": false,
    "editable": true,
    "nbgrader": {
     "checksum": "83ae75124e5dd4f502da7dc5facc983d",
     "grade": true,
     "grade_id": "intuition_answer",
     "locked": false,
     "points": 1,
     "schema_version": 1,
     "solution": true
    }
   },
   "source": [
    "YOUR ANSWER HERE"
   ]
  },
  {
   "cell_type": "markdown",
   "metadata": {
    "deletable": false,
    "editable": false,
    "nbgrader": {
     "checksum": "07c4b400ee35b98a045750ce1cb4bb37",
     "grade": false,
     "grade_id": "challenges",
     "locked": true,
     "schema_version": 1,
     "solution": false
    }
   },
   "source": [
    "# Challenge Activities\n",
    "\n",
    "- Tune the hyperparameters of the best optimizer\n",
    "- Do the same thing in TensorFlow"
   ]
  }
 ],
 "metadata": {
  "kernelspec": {
   "display_name": "Python 3",
   "language": "python",
   "name": "python3"
  },
  "language_info": {
   "codemirror_mode": {
    "name": "ipython",
    "version": 3
   },
   "file_extension": ".py",
   "mimetype": "text/x-python",
   "name": "python",
   "nbconvert_exporter": "python",
   "pygments_lexer": "ipython3",
   "version": "3.6.1"
  }
 },
 "nbformat": 4,
 "nbformat_minor": 2
}
