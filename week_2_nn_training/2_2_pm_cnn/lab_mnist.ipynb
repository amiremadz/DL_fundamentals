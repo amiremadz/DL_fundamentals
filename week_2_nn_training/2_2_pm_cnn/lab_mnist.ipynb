{
 "cells": [
  {
   "cell_type": "markdown",
   "metadata": {
    "deletable": true,
    "editable": true
   },
   "source": [
    "# Convolutional Neural Networks Lab\n",
    "\n",
    "Welcome to the Convolutional Neural Networks lab! By the end of this lab, you will have\n",
    "\n",
    "- Defined a convolutional neural network architecture in keras\n",
    "- Trained it on MNIST to recognize handwritten digits\n",
    "- Visualized the learned filters\n",
    "\n",
    "Let's get started!"
   ]
  },
  {
   "cell_type": "markdown",
   "metadata": {
    "deletable": true,
    "editable": true
   },
   "source": [
    "## Load the Data\n",
    "\n",
    "Since tensorflow expects images with shape `(height, width, channels)` we need to convert the dimensions of the MNIST images."
   ]
  },
  {
   "cell_type": "code",
   "execution_count": null,
   "metadata": {
    "collapsed": false,
    "deletable": true,
    "editable": true
   },
   "outputs": [],
   "source": [
    "import numpy as np\n",
    "from keras.datasets import mnist\n",
    "from keras.preprocessing.image import array_to_img, img_to_array\n",
    "\n",
    "[X, y], _ = mnist.load_data()\n",
    "X = np.expand_dims(X, axis=1).astype(np.float)\n",
    "imgs = [array_to_img(x, data_format='channels_first') for x in X]\n",
    "X = np.array([img_to_array(img, data_format='channels_last') for img in imgs]) / 255."
   ]
  },
  {
   "cell_type": "markdown",
   "metadata": {
    "deletable": true,
    "editable": true
   },
   "source": [
    "## Define the Architecture\n",
    "\n",
    "We will now define the following CNN architecture\n",
    "\n",
    "$$\n",
    "\\mathbf{X} \\in \\mathbb{R}^{28 \\times 28 \\times 1}\n",
    "\\longrightarrow\n",
    "\\text{Conv}\n",
    "\\longrightarrow\n",
    "\\text{ReLU}\n",
    "\\longrightarrow\n",
    "\\text{Max Pool}\n",
    "\\longrightarrow\n",
    "\\text{Flatten}\n",
    "\\longrightarrow\n",
    "\\text{Dense}\n",
    "\\longrightarrow\n",
    "\\text{Softmax}\n",
    "\\longrightarrow\n",
    "\\mathbf{p} \\in \\mathbb{R}^{10}\n",
    "$$\n",
    "\n",
    "for classifying MNIST digits.\n",
    "\n",
    "### Tasks\n",
    "\n",
    "- Define this architecture\n",
    "\n",
    "### Hints\n",
    "\n",
    "- Check out the keras [core layers](https://keras.io/layers/core/), [convolutional](https://keras.io/layers/convolutional/), and [pooling](https://keras.io/layers/pooling/) documentation\n",
    "- Use whatever hyperparameters you think are most appropriate"
   ]
  },
  {
   "cell_type": "code",
   "execution_count": null,
   "metadata": {
    "collapsed": false,
    "deletable": true,
    "editable": true
   },
   "outputs": [],
   "source": []
  },
  {
   "cell_type": "markdown",
   "metadata": {
    "deletable": true,
    "editable": true
   },
   "source": [
    "## Fit on MNIST\n",
    "\n",
    "It's time to compile your model and fit it on MNSIT.\n",
    "\n",
    "### Tasks\n",
    "\n",
    "- Compile your model\n",
    "- Fit it on MNIST"
   ]
  },
  {
   "cell_type": "code",
   "execution_count": null,
   "metadata": {
    "collapsed": false,
    "deletable": true,
    "editable": true
   },
   "outputs": [],
   "source": []
  },
  {
   "cell_type": "markdown",
   "metadata": {
    "deletable": true,
    "editable": true
   },
   "source": [
    "## Display Learned Filters\n",
    "\n",
    "We can visualize what the CNN learned by displaying some of the filters in the convolutional layer.\n",
    "\n",
    "### Tasks\n",
    "\n",
    "- Display some filters from the convolutional layer\n",
    "\n",
    "### Hints\n",
    "\n",
    "- Examine `models.layers` and get a reference to the conv layer\n",
    "- Use `keras.layers.Layer.get_weights()` to get the filter weights\n",
    "- The filters `W` will be a `4darray` with shape `(F, F, 1, nb_filter)`. Use `W[..., i]` to get a reference to filter number `i`\n",
    "- Use `keras.preprocessing.image.array_to_img()` to display it\n",
    "- Try using `kernel_constraint=keras.constraints.non_neg()` to get cleaner filters in your convolution layer"
   ]
  },
  {
   "cell_type": "code",
   "execution_count": null,
   "metadata": {
    "collapsed": false,
    "deletable": true,
    "editable": true
   },
   "outputs": [],
   "source": []
  },
  {
   "cell_type": "markdown",
   "metadata": {
    "deletable": true,
    "editable": true
   },
   "source": [
    "## Go Crazy\n",
    "\n",
    "- Try beating your top score from yesterday\n",
    "\n",
    "### Tasks\n",
    "\n",
    "- Perform hyperparameter searches to improve your MNIST score\n",
    "\n",
    "### Hints\n",
    "\n",
    "Try tweaking\n",
    "\n",
    "- The number of convolutional blocks\n",
    "- Stride\n",
    "- Number of filters\n",
    "- Max pooling size\n",
    "- The number of Dense layers\n",
    "\n",
    "### Requirements\n",
    "\n",
    "- Only use sgd\n",
    "- Train for a maximum of five epochs"
   ]
  },
  {
   "cell_type": "code",
   "execution_count": null,
   "metadata": {
    "collapsed": true,
    "deletable": true,
    "editable": true
   },
   "outputs": [],
   "source": []
  },
  {
   "cell_type": "markdown",
   "metadata": {
    "deletable": true,
    "editable": true
   },
   "source": [
    "## Bonus Activities\n",
    "\n",
    "- Wrap your code to display filters in a keras callback and call it after every every epoch to see the filters update during training\n",
    "- Associate each digit class with the filters whose strong activations provide the most evidence for the class (this would be cool!)"
   ]
  }
 ],
 "metadata": {
  "kernelspec": {
   "display_name": "Python 3",
   "language": "python",
   "name": "python3"
  },
  "language_info": {
   "codemirror_mode": {
    "name": "ipython",
    "version": 3
   },
   "file_extension": ".py",
   "mimetype": "text/x-python",
   "name": "python",
   "nbconvert_exporter": "python",
   "pygments_lexer": "ipython3",
   "version": "3.6.1"
  }
 },
 "nbformat": 4,
 "nbformat_minor": 2
}
