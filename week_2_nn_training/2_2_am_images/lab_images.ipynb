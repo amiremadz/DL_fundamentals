{
 "cells": [
  {
   "cell_type": "markdown",
   "metadata": {
    "deletable": true,
    "editable": true
   },
   "source": [
    "# Images as Data Lab\n",
    "\n",
    "Welcome to the images as data lab! By the end of this lecture, you will have\n",
    "\n",
    "1. Combined images to make new images\n",
    "2. Gained intuition for image template matching\n",
    "3. Used convolution for feature detection\n",
    "4. Used max-pooling to downsample images\n",
    "\n",
    "Let's get started!"
   ]
  },
  {
   "cell_type": "markdown",
   "metadata": {
    "deletable": true,
    "editable": true
   },
   "source": [
    "## Load Images"
   ]
  },
  {
   "cell_type": "code",
   "execution_count": 1,
   "metadata": {
    "collapsed": false,
    "deletable": true,
    "editable": true
   },
   "outputs": [
    {
     "name": "stderr",
     "output_type": "stream",
     "text": [
      "Using TensorFlow backend.\n"
     ]
    }
   ],
   "source": [
    "from IPython.display import display\n",
    "import numpy as np\n",
    "from keras.datasets import mnist\n",
    "from keras.preprocessing.image import array_to_img, img_to_array\n",
    "\n",
    "[X_mnist, y_mnist], _ = mnist.load_data()\n",
    "X_mnist = np.expand_dims(X_mnist, axis=1).astype(np.float)\n",
    "imgs = [array_to_img(x).resize(size=[128, 128]) for x in X_mnist]\n",
    "X = np.array([img_to_array(img) for img in imgs])"
   ]
  },
  {
   "cell_type": "markdown",
   "metadata": {
    "deletable": true,
    "editable": true
   },
   "source": [
    "#### Consider the Following Two Images..."
   ]
  },
  {
   "cell_type": "code",
   "execution_count": 2,
   "metadata": {
    "collapsed": false,
    "deletable": true,
    "editable": true,
    "scrolled": false
   },
   "outputs": [
    {
     "data": {
      "image/png": "[encoded data removed]",
      "text/plain": [
       "<PIL.Image.Image image mode=L size=128x128 at 0x117CA1D68>"
      ]
     },
     "metadata": {},
     "output_type": "display_data"
    },
    {
     "data": {
      "image/png": "[encoded data removed]",
      "text/plain": [
       "<PIL.Image.Image image mode=L size=128x128 at 0x10873D7F0>"
      ]
     },
     "metadata": {},
     "output_type": "display_data"
    }
   ],
   "source": [
    "img0, img6 = imgs[1], imgs[6]\n",
    "\n",
    "display(img0)\n",
    "display(img6)"
   ]
  },
  {
   "cell_type": "markdown",
   "metadata": {
    "deletable": true,
    "editable": true
   },
   "source": [
    "### Questions\n",
    "\n",
    "Before doing anything, what will the resulting image will look like when we...\n",
    "\n",
    "1. Add them?\n",
    "2. Subtract them?\n",
    "    1. Does the order of the subtraction matter? That is, will the resulting image look different depending on the order of the subtraction?\n",
    "3. Multiply them?"
   ]
  },
  {
   "cell_type": "code",
   "execution_count": null,
   "metadata": {
    "collapsed": true,
    "deletable": true,
    "editable": true
   },
   "outputs": [],
   "source": []
  },
  {
   "cell_type": "markdown",
   "metadata": {
    "deletable": true,
    "editable": true
   },
   "source": [
    "### Tasks\n",
    "\n",
    "- Compute these images to verify your answer\n",
    "\n",
    "### Requirements\n",
    "\n",
    "- Threshold each resulting image so that their minimum value is `0`\n",
    "\n",
    "### Hints\n",
    "\n",
    "- Recall how to convert back and forth between numpy arrays and PIL images. You will be doing this often during this lab.\n",
    "\n",
    "![Converting Images](images/Converting%20Images.png)"
   ]
  },
  {
   "cell_type": "code",
   "execution_count": null,
   "metadata": {
    "collapsed": false,
    "deletable": true,
    "editable": true
   },
   "outputs": [],
   "source": []
  },
  {
   "cell_type": "markdown",
   "metadata": {
    "deletable": true,
    "editable": true
   },
   "source": [
    "#### Consider the following three images..."
   ]
  },
  {
   "cell_type": "code",
   "execution_count": 3,
   "metadata": {
    "collapsed": false,
    "deletable": true,
    "editable": true
   },
   "outputs": [
    {
     "data": {
      "image/png": "[encoded data removed]",
      "text/plain": [
       "<PIL.Image.Image image mode=L size=128x128 at 0x117CA1D68>"
      ]
     },
     "metadata": {},
     "output_type": "display_data"
    },
    {
     "data": {
      "image/png": "[encoded data removed]",
      "text/plain": [
       "<PIL.Image.Image image mode=L size=128x128 at 0x1197BD5C0>"
      ]
     },
     "metadata": {},
     "output_type": "display_data"
    },
    {
     "data": {
      "image/png": "[encoded data removed]",
      "text/plain": [
       "<PIL.Image.Image image mode=L size=128x128 at 0x10873D7F0>"
      ]
     },
     "metadata": {},
     "output_type": "display_data"
    }
   ],
   "source": [
    "img0, img0_, img1 = imgs[1], imgs[21], imgs[6]\n",
    "\n",
    "display(img0)\n",
    "display(img0_)\n",
    "display(img1)"
   ]
  },
  {
   "cell_type": "markdown",
   "metadata": {
    "deletable": true,
    "editable": true
   },
   "source": [
    "### Questions\n",
    "\n",
    "- Will `np.sum(x0*x0_) > np.sum(x0*x1)` or `np.sum(x0*x0_) < np.sum(x0*x1)`? Justify your answer with intuition."
   ]
  },
  {
   "cell_type": "code",
   "execution_count": null,
   "metadata": {
    "collapsed": true,
    "deletable": true,
    "editable": true
   },
   "outputs": [],
   "source": []
  },
  {
   "cell_type": "markdown",
   "metadata": {
    "deletable": true,
    "editable": true
   },
   "source": [
    "### Tasks\n",
    "\n",
    "- Compute these quantities to verify your answer"
   ]
  },
  {
   "cell_type": "code",
   "execution_count": null,
   "metadata": {
    "collapsed": false,
    "deletable": true,
    "editable": true
   },
   "outputs": [],
   "source": []
  },
  {
   "cell_type": "markdown",
   "metadata": {
    "deletable": true,
    "editable": true
   },
   "source": [
    "### Questions\n",
    "\n",
    "- Consider the following keras architecture for classifying MNIST digits\n",
    "\n",
    "![MNIST Keras](images/MNIST%20Keras.png)\n",
    "and that we have optimized $\\mathbf{W}$ to produce high scores for the correct digit class.\n",
    "\n",
    "If we take $w_i$ and *reshape it back into a $28 \\times 28$ image* and display it, what might it look like? Why might this be the case?"
   ]
  },
  {
   "cell_type": "code",
   "execution_count": null,
   "metadata": {
    "collapsed": true,
    "deletable": true,
    "editable": true
   },
   "outputs": [],
   "source": []
  },
  {
   "cell_type": "markdown",
   "metadata": {
    "deletable": true,
    "editable": true
   },
   "source": [
    "### Tasks\n",
    "\n",
    "- Define this architecture and train this model for 5 epochs in keras\n",
    "- Reshape each $w_i$ back to a $28 \\times 28$ image and display it\n",
    "\n",
    "### Hints\n",
    "\n",
    "- Use a softmax layer + categorical cross entropy loss\n",
    "- Transform `y` from a `1darray` to a categorical `2darray` with `keras.utils.np_utils.to_categorical()`\n",
    "    - Use the `28x28` `X_minst` variable as opposed to the `128x128` `X` variable in scope\n",
    "- Use `keras.layers.Layer.get_weights()` to get the weights of a layer"
   ]
  },
  {
   "cell_type": "code",
   "execution_count": null,
   "metadata": {
    "collapsed": false,
    "deletable": true,
    "editable": true
   },
   "outputs": [],
   "source": []
  },
  {
   "cell_type": "markdown",
   "metadata": {
    "deletable": true,
    "editable": true
   },
   "source": [
    "### Questions\n",
    "\n",
    "- List two advantages of using a linear classifier for images. List two disadvantages."
   ]
  },
  {
   "cell_type": "code",
   "execution_count": null,
   "metadata": {
    "collapsed": true,
    "deletable": true,
    "editable": true
   },
   "outputs": [],
   "source": []
  },
  {
   "cell_type": "markdown",
   "metadata": {
    "deletable": true,
    "editable": true
   },
   "source": [
    "- Compare and contrast a logistic regression MNIST classifier and a KNN classifier. When might a KNN classifier outperform linear regression?"
   ]
  },
  {
   "cell_type": "code",
   "execution_count": null,
   "metadata": {
    "collapsed": true,
    "deletable": true,
    "editable": true
   },
   "outputs": [],
   "source": []
  },
  {
   "cell_type": "markdown",
   "metadata": {
    "deletable": true,
    "editable": true
   },
   "source": [
    "## Averaging Images\n",
    "\n",
    "### Questions\n",
    "\n",
    "- What do you think the resulting image of averaging all images of `0` would look like? What about the average image for other numbers?"
   ]
  },
  {
   "cell_type": "code",
   "execution_count": null,
   "metadata": {
    "collapsed": true,
    "deletable": true,
    "editable": true
   },
   "outputs": [],
   "source": []
  },
  {
   "cell_type": "markdown",
   "metadata": {
    "deletable": true,
    "editable": true
   },
   "source": [
    "### Tasks\n",
    "\n",
    "- Compute the average image for every number and display it to verify your answer\n",
    "\n",
    "### Hints\n",
    "\n",
    "- Start by just handling `0` and then wrap this logic in a `for` loop to handle the remaining numbers"
   ]
  },
  {
   "cell_type": "code",
   "execution_count": null,
   "metadata": {
    "collapsed": false,
    "deletable": true,
    "editable": true
   },
   "outputs": [],
   "source": []
  },
  {
   "cell_type": "markdown",
   "metadata": {
    "deletable": true,
    "editable": true
   },
   "source": [
    "### Questions\n",
    "\n",
    "- How do these images compare with the columns of $W$ from the previous section? Do they look similar? Why might this be the case?"
   ]
  },
  {
   "cell_type": "code",
   "execution_count": null,
   "metadata": {
    "collapsed": true,
    "deletable": true,
    "editable": true
   },
   "outputs": [],
   "source": []
  },
  {
   "cell_type": "markdown",
   "metadata": {
    "deletable": true,
    "editable": true
   },
   "source": [
    "# Convolution\n",
    "\n",
    "Consider the filter $\n",
    "F =\n",
    "\\begin{bmatrix}\n",
    "-1 & 0 & 1 \\\\\n",
    "-1 & 0 & 1 \\\\\n",
    "-1 & 0 & 1\n",
    "\\end{bmatrix}\n",
    "$\n",
    "and the image $x =$"
   ]
  },
  {
   "cell_type": "code",
   "execution_count": 4,
   "metadata": {
    "collapsed": false,
    "deletable": true,
    "editable": true
   },
   "outputs": [
    {
     "data": {
      "image/png": "[encoded data removed]",
      "text/plain": [
       "<PIL.Image.Image image mode=L size=128x128 at 0x10873D7F0>"
      ]
     },
     "execution_count": 4,
     "metadata": {},
     "output_type": "execute_result"
    }
   ],
   "source": [
    "img1"
   ]
  },
  {
   "cell_type": "markdown",
   "metadata": {
    "deletable": true,
    "editable": true
   },
   "source": [
    "- What will the resuling activation map $x \\star F$ look like? What types of patches does $F$ produce the strongest activations for?"
   ]
  },
  {
   "cell_type": "code",
   "execution_count": null,
   "metadata": {
    "collapsed": true,
    "deletable": true,
    "editable": true
   },
   "outputs": [],
   "source": []
  },
  {
   "cell_type": "markdown",
   "metadata": {
    "deletable": true,
    "editable": true
   },
   "source": [
    "### Tasks\n",
    "\n",
    "- Convolve $w$ with $x$ and display the result\n",
    "\n",
    "### Hints\n",
    "\n",
    "- Use `scipy.signal.correlate2d()` with `mode='valid'`\n",
    "- Since `scipy.signal.correlate2d()` expects a `2darray`, you will have to remove the color dimension from `x` with indexing and then tack it back on to the activation map returned by `scipy.signal.correlate2d()` with `np.expand_dims(axis=0)`"
   ]
  },
  {
   "cell_type": "code",
   "execution_count": null,
   "metadata": {
    "collapsed": false,
    "deletable": true,
    "editable": true
   },
   "outputs": [],
   "source": []
  },
  {
   "cell_type": "markdown",
   "metadata": {
    "deletable": true,
    "editable": true
   },
   "source": [
    "### Questions\n",
    "\n",
    "- What about the filters\n",
    "$\n",
    "\\begin{bmatrix}\n",
    "-1 & 0 & 1 \\\\\n",
    "-1 & 0 & 1 \\\\\n",
    "-1 & 0 & 1\n",
    "\\end{bmatrix},\n",
    "\\\n",
    "\\begin{bmatrix}\n",
    "1 & 0 & -1 \\\\\n",
    "1 & 0 & -1 \\\\\n",
    "1 & 0 & -1\n",
    "\\end{bmatrix},\n",
    "\\\n",
    "\\begin{bmatrix}\n",
    "-1 & -1 & -1 \\\\\n",
    "0 & 0 & 0 \\\\\n",
    "1 & 1 & 1\n",
    "\\end{bmatrix},\n",
    "\\\n",
    "\\begin{bmatrix}\n",
    "1 & 1 & 1 \\\\\n",
    "0 & 0 & 0 \\\\\n",
    "-1 & -1 & -1\n",
    "\\end{bmatrix},\n",
    "\\\n",
    "\\begin{bmatrix}\n",
    "0 & 0 & 1 \\\\\n",
    "0 & 1 & -1.5 \\\\\n",
    "1 & -1.5 & 0\n",
    "\\end{bmatrix},\n",
    "\\\n",
    "\\begin{bmatrix}\n",
    "1 & -1.5 & 0 \\\\\n",
    "0 & 1 & -1.5 \\\\\n",
    "0 & 0 & 1\n",
    "\\end{bmatrix}?\n",
    "$\n",
    "\n",
    "### Tasks\n",
    "\n",
    "- Convolve these filters with $x$ and display the resulting activation maps to verify your answer\n",
    "\n",
    "### Hints\n",
    "\n",
    "- Write a function that convolves a filter with an image and displays the resulting activation map"
   ]
  },
  {
   "cell_type": "code",
   "execution_count": null,
   "metadata": {
    "collapsed": false,
    "deletable": true,
    "editable": true
   },
   "outputs": [],
   "source": []
  },
  {
   "cell_type": "markdown",
   "metadata": {
    "deletable": true,
    "editable": true
   },
   "source": [
    "## Pooling\n",
    "\n",
    "We can think of a single convolutional image as a feature detector. For example, in the previous section we considered convolutional filters which produced strong activations for vertical edges. Instead of retaining the entire activation map (i.e. all the features that a single filter produces), we can downsample these activations by performing *max-pooling*.\n",
    "\n",
    "### Questions\n",
    "\n",
    "- List two reasons why max-pooling is useful and list two downsides."
   ]
  },
  {
   "cell_type": "code",
   "execution_count": null,
   "metadata": {
    "collapsed": true,
    "deletable": true,
    "editable": true
   },
   "outputs": [],
   "source": []
  },
  {
   "cell_type": "markdown",
   "metadata": {
    "deletable": true,
    "editable": true
   },
   "source": [
    "### Tasks\n",
    "\n",
    "- Perform max-pooling on one of the activation maps from the previous section. Try different values `block_size` (e.g. in the range `1-20`)\n",
    "\n",
    "### Hints\n",
    "\n",
    "- Use `skimage.measure.block_reduce(..., func=np.max)` for **max**-pooling"
   ]
  },
  {
   "cell_type": "code",
   "execution_count": null,
   "metadata": {
    "collapsed": false,
    "deletable": true,
    "editable": true,
    "scrolled": false
   },
   "outputs": [],
   "source": []
  }
 ],
 "metadata": {
  "anaconda-cloud": {},
  "kernelspec": {
   "display_name": "Python 3",
   "language": "python",
   "name": "python3"
  },
  "language_info": {
   "codemirror_mode": {
    "name": "ipython",
    "version": 3
   },
   "file_extension": ".py",
   "mimetype": "text/x-python",
   "name": "python",
   "nbconvert_exporter": "python",
   "pygments_lexer": "ipython3",
   "version": "3.6.1"
  }
 },
 "nbformat": 4,
 "nbformat_minor": 1
}
