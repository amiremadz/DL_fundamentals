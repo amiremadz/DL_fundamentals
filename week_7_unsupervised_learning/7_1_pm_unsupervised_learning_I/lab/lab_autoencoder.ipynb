{
 "cells": [
  {
   "cell_type": "markdown",
   "metadata": {
    "deletable": true,
    "editable": true
   },
   "source": [
    "Before you turn this lab in, make sure everything runs as expected. First, **restart the kernel** (in the menubar, select Kernel$\\rightarrow$Restart) and then **run all cells** (in the menubar, select Cell$\\rightarrow$Run All).\n",
    "\n",
    "Make sure you fill in any place that says `YOUR CODE HERE` or \"YOUR ANSWER HERE\", as well as your name and collaborators below:"
   ]
  },
  {
   "cell_type": "code",
   "execution_count": null,
   "metadata": {
    "collapsed": false,
    "deletable": true,
    "editable": true
   },
   "outputs": [],
   "source": [
    "DRIVER = \"\"\n",
    "NAVIGATOR = \"\""
   ]
  },
  {
   "cell_type": "markdown",
   "metadata": {
    "deletable": false,
    "editable": false,
    "nbgrader": {
     "checksum": "4345149156834b7319cd4acb31e2c3ec",
     "grade": false,
     "grade_id": "intro_description",
     "locked": true,
     "schema_version": 1,
     "solution": false
    }
   },
   "source": [
    "# Autoencoder Lab\n",
    "\n",
    "Welcome to the autoencoder lab! By the end of this lab you will have\n",
    "\n",
    "- Created and tuned an autoencoder in Keras\n",
    "\n",
    "*The code in the lab was based on [this blogpost](https://blog.keras.io/building-autoencoders-in-keras.html)*."
   ]
  },
  {
   "cell_type": "markdown",
   "metadata": {
    "deletable": false,
    "editable": false,
    "nbgrader": {
     "checksum": "84e91c7fbbbfd0ac9614c925d5299dca",
     "grade": false,
     "grade_id": "variables_blurb",
     "locked": true,
     "schema_version": 1,
     "solution": false
    }
   },
   "source": [
    "# Auto-Grader Variables"
   ]
  },
  {
   "cell_type": "code",
   "execution_count": null,
   "metadata": {
    "collapsed": true,
    "deletable": false,
    "editable": false,
    "nbgrader": {
     "checksum": "a0b83192463ae9d263e9bd94b5861c93",
     "grade": false,
     "grade_id": "variables_definition",
     "locked": true,
     "schema_version": 1,
     "solution": false
    }
   },
   "outputs": [],
   "source": [
    "ENCODING_DIM = 32\n",
    "\n",
    "def passed(): print('✅')"
   ]
  },
  {
   "cell_type": "markdown",
   "metadata": {
    "deletable": false,
    "editable": false,
    "nbgrader": {
     "checksum": "8f6b227b3b6ebb4d16c4fd7753e19478",
     "grade": false,
     "grade_id": "load_mnist_description",
     "locked": true,
     "schema_version": 1,
     "solution": false
    }
   },
   "source": [
    "# Load MNIST\n",
    "\n",
    "The following code loads MNIST and normalizes it and flattens it."
   ]
  },
  {
   "cell_type": "code",
   "execution_count": null,
   "metadata": {
    "collapsed": false,
    "deletable": false,
    "editable": false,
    "nbgrader": {
     "checksum": "e457e74a6a23e710968dc034d4060f78",
     "grade": false,
     "grade_id": "load_mnist_code",
     "locked": true,
     "schema_version": 1,
     "solution": false
    }
   },
   "outputs": [],
   "source": [
    "from IPython.display import display\n",
    "from keras.datasets import mnist\n",
    "from keras.preprocessing.image import array_to_img\n",
    "import numpy as np\n",
    "\n",
    "[X_train, _], [X_test, _] = mnist.load_data()\n",
    "X_train = np.array([x.flatten() for x in X_train.astype('float32')/255.])\n",
    "X_test = np.array([x.flatten() for x in X_test.astype('float32')/255.])\n",
    "\n",
    "for x in X_train[:5]:\n",
    "    img = array_to_img(x.reshape(28, 28, 1))\n",
    "    display(img)"
   ]
  },
  {
   "cell_type": "markdown",
   "metadata": {
    "deletable": false,
    "editable": false,
    "nbgrader": {
     "checksum": "4f986aeaaa339a1b26275f1d26a904d5",
     "grade": false,
     "grade_id": "encoder_description",
     "locked": true,
     "schema_version": 1,
     "solution": false
    }
   },
   "source": [
    "# Task\n",
    "\n",
    "- Define an encoder which maps a flattened MNIST image to a vector of size `ENCODING_DIM`\n",
    "\n",
    "# Requirements\n",
    "\n",
    "- Use a keras sequential model\n",
    "- Do not compile your model!"
   ]
  },
  {
   "cell_type": "code",
   "execution_count": null,
   "metadata": {
    "collapsed": false,
    "deletable": false,
    "editable": true,
    "nbgrader": {
     "checksum": "70f5068fecfc3582a84799ec399a7f27",
     "grade": false,
     "grade_id": "encoder_soution",
     "locked": false,
     "schema_version": 1,
     "solution": true
    },
    "scrolled": true
   },
   "outputs": [],
   "source": [
    "# YOUR CODE HERE\n",
    "raise NotImplementedError()"
   ]
  },
  {
   "cell_type": "markdown",
   "metadata": {
    "deletable": false,
    "editable": false,
    "nbgrader": {
     "checksum": "bc6b71553147f903d70e2c91473ad0bc",
     "grade": false,
     "grade_id": "encoder_blurb",
     "locked": true,
     "schema_version": 1,
     "solution": false
    }
   },
   "source": [
    "# Encoder Tests"
   ]
  },
  {
   "cell_type": "code",
   "execution_count": null,
   "metadata": {
    "collapsed": false,
    "deletable": false,
    "editable": false,
    "nbgrader": {
     "checksum": "b6cc7ad3a1cbf863797f694ccc61d981",
     "grade": true,
     "grade_id": "encoder_tests",
     "locked": true,
     "points": 1,
     "schema_version": 1,
     "solution": false
    }
   },
   "outputs": [],
   "source": [
    "import keras\n",
    "\n",
    "assert type(encoder) == keras.models.Sequential\n",
    "assert encoder.input_shape == (None, 784)\n",
    "assert encoder.output_shape == (None, ENCODING_DIM)\n",
    "assert not hasattr(encoder, 'optimizer')\n",
    "encoder.predict(X_train[:1])\n",
    "\n",
    "passed()"
   ]
  },
  {
   "cell_type": "markdown",
   "metadata": {
    "deletable": false,
    "editable": false,
    "nbgrader": {
     "checksum": "be46a8829d65749833843dae3fb5edb5",
     "grade": false,
     "grade_id": "decoder_description",
     "locked": true,
     "schema_version": 1,
     "solution": false
    }
   },
   "source": [
    "# Task\n",
    "\n",
    "- Define a decoder which maps a compressed version of an image back to a flattened image\n",
    "\n",
    "# Requirements\n",
    "\n",
    "- Use a keras sequential model\n",
    "- Do not compile your model!"
   ]
  },
  {
   "cell_type": "code",
   "execution_count": null,
   "metadata": {
    "collapsed": false,
    "deletable": false,
    "editable": true,
    "nbgrader": {
     "checksum": "76bd839c06ead47e246b123ac0203163",
     "grade": false,
     "grade_id": "decoder_solution",
     "locked": false,
     "schema_version": 1,
     "solution": true
    }
   },
   "outputs": [],
   "source": [
    "# YOUR CODE HERE\n",
    "raise NotImplementedError()"
   ]
  },
  {
   "cell_type": "markdown",
   "metadata": {
    "deletable": false,
    "editable": false,
    "nbgrader": {
     "checksum": "2790f4a6c8734f22aca5d26e34f80b9b",
     "grade": false,
     "grade_id": "decoder_blurb",
     "locked": true,
     "schema_version": 1,
     "solution": false
    }
   },
   "source": [
    "# Decoder Tests"
   ]
  },
  {
   "cell_type": "code",
   "execution_count": null,
   "metadata": {
    "collapsed": false,
    "deletable": false,
    "editable": false,
    "nbgrader": {
     "checksum": "7a3b1cdc303fb0fea20004dc18bed019",
     "grade": true,
     "grade_id": "decoder_tests",
     "locked": true,
     "points": 1,
     "schema_version": 1,
     "solution": false
    }
   },
   "outputs": [],
   "source": [
    "import keras\n",
    "\n",
    "assert type(decoder) == keras.models.Sequential\n",
    "assert decoder.input_shape == (None, ENCODING_DIM)\n",
    "assert decoder.output_shape == (None, 784)\n",
    "assert not hasattr(encoder, 'optimizer')\n",
    "decoder.predict(encoder.predict(X_train[:1]))\n",
    "\n",
    "passed()"
   ]
  },
  {
   "cell_type": "markdown",
   "metadata": {
    "deletable": false,
    "editable": false,
    "nbgrader": {
     "checksum": "a977178fc8689264540485df8962fa8a",
     "grade": false,
     "grade_id": "autoencoder_description",
     "locked": true,
     "schema_version": 1,
     "solution": false
    }
   },
   "source": [
    "# Task\n",
    "\n",
    "- Define an autoencoder by hooking together `encoder` and `decoder` via the keras functional API\n",
    "\n",
    "# Requirements\n",
    "\n",
    "- Compile the model with a binary crossentropy loss on a per-pixel basis"
   ]
  },
  {
   "cell_type": "code",
   "execution_count": null,
   "metadata": {
    "collapsed": false,
    "deletable": false,
    "editable": true,
    "nbgrader": {
     "checksum": "444e3c12667eba476330fe2aae4a1728",
     "grade": false,
     "grade_id": "autoencoder_solution",
     "locked": false,
     "schema_version": 1,
     "solution": true
    }
   },
   "outputs": [],
   "source": [
    "# YOUR CODE HERE\n",
    "raise NotImplementedError()"
   ]
  },
  {
   "cell_type": "markdown",
   "metadata": {
    "deletable": false,
    "editable": false,
    "nbgrader": {
     "checksum": "95be8447cc5f27619eb578f4204e6df1",
     "grade": false,
     "grade_id": "autoencoders_blurb",
     "locked": true,
     "schema_version": 1,
     "solution": false
    }
   },
   "source": [
    "# Autoencoder Tests"
   ]
  },
  {
   "cell_type": "code",
   "execution_count": null,
   "metadata": {
    "collapsed": false,
    "deletable": false,
    "editable": false,
    "nbgrader": {
     "checksum": "e7e76fd84cfe019d9d55521209117fed",
     "grade": true,
     "grade_id": "autoencoders_tests",
     "locked": true,
     "points": 1,
     "schema_version": 1,
     "solution": false
    }
   },
   "outputs": [],
   "source": [
    "import numpy as np\n",
    "\n",
    "assert type(autoencoder) == keras.engine.training.Model\n",
    "assert autoencoder.input_shape == encoder.input_shape\n",
    "assert autoencoder.output_shape == decoder.output_shape\n",
    "assert hasattr(autoencoder, 'optimizer')\n",
    "X = X_train[:1]\n",
    "X_encoded = encoder.predict(X)\n",
    "assert np.all(decoder.predict(X_encoded) == autoencoder.predict(X))\n",
    "assert len(autoencoder.layers) == 3\n",
    "assert type(autoencoder.layers[1]) == keras.models.Sequential\n",
    "assert type(autoencoder.layers[2]) == keras.models.Sequential\n",
    "assert type(autoencoder.layers[0]) == keras.engine.topology.InputLayer\n",
    "\n",
    "passed()"
   ]
  },
  {
   "cell_type": "markdown",
   "metadata": {
    "deletable": false,
    "editable": false,
    "nbgrader": {
     "checksum": "dc1dcdaa798e2bdcb199fc5b428b960a",
     "grade": false,
     "grade_id": "autoencoder_blurb",
     "locked": true,
     "schema_version": 1,
     "solution": false
    }
   },
   "source": [
    "# Task\n",
    "\n",
    "- Optimize your autoencoder on the training data"
   ]
  },
  {
   "cell_type": "code",
   "execution_count": null,
   "metadata": {
    "collapsed": false,
    "deletable": false,
    "editable": true,
    "nbgrader": {
     "checksum": "347e30e2ec7264ea3579a796ba1f5fec",
     "grade": false,
     "grade_id": "autograder_solution",
     "locked": false,
     "schema_version": 1,
     "solution": true
    }
   },
   "outputs": [],
   "source": [
    "# YOUR CODE HERE\n",
    "raise NotImplementedError()"
   ]
  },
  {
   "cell_type": "markdown",
   "metadata": {
    "deletable": false,
    "editable": false,
    "nbgrader": {
     "checksum": "cc2946b05fab9b3e4062be14eaf65216",
     "grade": false,
     "grade_id": "autoencoder_visualization_description",
     "locked": true,
     "schema_version": 1,
     "solution": false
    }
   },
   "source": [
    "# Task\n",
    "\n",
    "- Visualize the performance of your autoencoder\n",
    "\n",
    "# Requirements\n",
    "\n",
    "- Convert each image in `X_test` to a `PIL` image and save it into a python list called `test_imgs`\n",
    "- Run each image in `X_test` through your autoencoder then convert it back into a `PIL` image and save it into a python list called `reconstructed_imgs`"
   ]
  },
  {
   "cell_type": "code",
   "execution_count": null,
   "metadata": {
    "collapsed": false,
    "deletable": false,
    "editable": true,
    "nbgrader": {
     "checksum": "e75ebf96fbf2555713288ae709be992c",
     "grade": false,
     "grade_id": "autoencoder_visualization_solution",
     "locked": false,
     "schema_version": 1,
     "solution": true
    }
   },
   "outputs": [],
   "source": [
    "# YOUR CODE HERE\n",
    "raise NotImplementedError()"
   ]
  },
  {
   "cell_type": "markdown",
   "metadata": {
    "deletable": false,
    "editable": false,
    "nbgrader": {
     "checksum": "9242e700426c43158f94bd5a8e508a60",
     "grade": false,
     "grade_id": "autoencoder_visualization_blurb",
     "locked": true,
     "schema_version": 1,
     "solution": false
    }
   },
   "source": [
    "# Autoencoder Visualization Tests"
   ]
  },
  {
   "cell_type": "code",
   "execution_count": null,
   "metadata": {
    "collapsed": false,
    "deletable": false,
    "editable": false,
    "nbgrader": {
     "checksum": "364ade49be774b0afb03a2af4dc34943",
     "grade": true,
     "grade_id": "autoencoder_visualization_tests",
     "locked": true,
     "points": 1,
     "schema_version": 1,
     "solution": false
    }
   },
   "outputs": [],
   "source": [
    "import PIL\n",
    "\n",
    "assert len(test_imgs) == len(X_test)\n",
    "for test_img, reconstructed_img in zip(test_imgs, reconstructed_imgs):\n",
    "    assert type(test_img) == PIL.Image.Image\n",
    "    assert type(reconstructed_img) == PIL.Image.Image\n",
    "    assert test_img.size == (28, 28)\n",
    "    assert reconstructed_img.size == (28, 28)\n",
    "    \n",
    "passed()"
   ]
  },
  {
   "cell_type": "markdown",
   "metadata": {
    "deletable": false,
    "editable": false,
    "nbgrader": {
     "checksum": "22f76669dab7284db5fb9e104430749c",
     "grade": false,
     "grade_id": "challenges_description",
     "locked": true,
     "schema_version": 1,
     "solution": false
    }
   },
   "source": [
    "# Challenge Activities\n",
    "\n",
    "- Add a sparsity constraint to the encoder\n",
    "- Make the encoder deeper\n",
    "- Make the decoder deeper\n",
    "- Add noise to your data samples"
   ]
  }
 ],
 "metadata": {
  "anaconda-cloud": {},
  "kernelspec": {
   "display_name": "Python 3",
   "language": "python",
   "name": "python3"
  },
  "language_info": {
   "codemirror_mode": {
    "name": "ipython",
    "version": 3
   },
   "file_extension": ".py",
   "mimetype": "text/x-python",
   "name": "python",
   "nbconvert_exporter": "python",
   "pygments_lexer": "ipython3",
   "version": "3.6.1"
  }
 },
 "nbformat": 4,
 "nbformat_minor": 1
}
