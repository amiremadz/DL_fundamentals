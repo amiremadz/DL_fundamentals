{
 "cells": [
  {
   "cell_type": "markdown",
   "metadata": {
    "deletable": true,
    "editable": true
   },
   "source": [
    "Before you turn this lab in, make sure everything runs as expected. First, **restart the kernel** (in the menubar, select Kernel$\\rightarrow$Restart) and then **run all cells** (in the menubar, select Cell$\\rightarrow$Run All).\n",
    "\n",
    "Make sure you fill in any place that says `YOUR CODE HERE` or \"YOUR ANSWER HERE\", as well as your name and collaborators below:"
   ]
  },
  {
   "cell_type": "code",
   "execution_count": null,
   "metadata": {
    "collapsed": false,
    "deletable": true,
    "editable": true
   },
   "outputs": [],
   "source": [
    "DRIVER = \"\"\n",
    "NAVIGATOR = \"\""
   ]
  },
  {
   "cell_type": "markdown",
   "metadata": {
    "deletable": false,
    "editable": false,
    "nbgrader": {
     "checksum": "cf1660c1d7c404a24151a1d0d8e20896",
     "grade": false,
     "grade_id": "introduction_description",
     "locked": true,
     "schema_version": 1,
     "solution": false
    }
   },
   "source": [
    "# Optical Character Recognition Lab\n",
    "\n",
    "Welcome to the optical character recognition lab! By the end of this lab you will have\n",
    "\n",
    "- *Trained a neural network to perform optical character recognition*\n",
    "\n",
    "Let's get started!"
   ]
  },
  {
   "cell_type": "code",
   "execution_count": null,
   "metadata": {
    "collapsed": true,
    "deletable": false,
    "editable": false,
    "nbgrader": {
     "checksum": "511eb4878bf9745ff85c447fb2ef71a8",
     "grade": false,
     "grade_id": "passed_code",
     "locked": true,
     "schema_version": 1,
     "solution": false
    }
   },
   "outputs": [],
   "source": [
    "def passed(): print('✅')"
   ]
  },
  {
   "cell_type": "markdown",
   "metadata": {
    "deletable": false,
    "editable": false,
    "nbgrader": {
     "checksum": "a0affc220ae9a07bbe4bc9194acc5ce3",
     "grade": false,
     "grade_id": "load_mnist_description",
     "locked": true,
     "schema_version": 1,
     "solution": false
    }
   },
   "source": [
    "# Load Data\n",
    "\n",
    "The following code loads and normalizes the MNIST dataset and filters it down to a set containing only exemplar images."
   ]
  },
  {
   "cell_type": "code",
   "execution_count": null,
   "metadata": {
    "collapsed": false,
    "deletable": false,
    "editable": false,
    "nbgrader": {
     "checksum": "58da22b180caac482774c214d80b2bf9",
     "grade": false,
     "grade_id": "load_mnist_code",
     "locked": true,
     "schema_version": 1,
     "solution": false
    }
   },
   "outputs": [],
   "source": [
    "from IPython.display import display\n",
    "from keras.preprocessing.image import array_to_img\n",
    "from keras.datasets import mnist\n",
    "import numpy as np\n",
    "np.random.seed(1337)\n",
    "\n",
    "[X_mnist, y_mnist], _ = mnist.load_data()\n",
    "X_mnist = X_mnist/255.\n",
    "digit_idxs = [np.argwhere(y_mnist == d).flatten()[0] for d in range(10)]\n",
    "X_mnist = X_mnist[digit_idxs]\n",
    "\n",
    "for x in X_mnist:\n",
    "    img = array_to_img(np.expand_dims(x, axis=-1))\n",
    "    display(img)"
   ]
  },
  {
   "cell_type": "markdown",
   "metadata": {
    "deletable": false,
    "editable": false,
    "nbgrader": {
     "checksum": "2a4a94fa4387d825fcf9eb2b3a0eb1b4",
     "grade": false,
     "grade_id": "generate_sequences_description",
     "locked": true,
     "schema_version": 1,
     "solution": false
    }
   },
   "source": [
    "# Generate Training Data\n",
    "\n",
    "The following code generates sequences of the exemplar MNIST digits along with their labels and provides the option to change two hyperparameters."
   ]
  },
  {
   "cell_type": "code",
   "execution_count": null,
   "metadata": {
    "collapsed": true,
    "deletable": true,
    "editable": true
   },
   "outputs": [],
   "source": [
    "NB_TRAIN = 90\n",
    "T = 2"
   ]
  },
  {
   "cell_type": "code",
   "execution_count": null,
   "metadata": {
    "collapsed": false,
    "deletable": false,
    "editable": false,
    "nbgrader": {
     "checksum": "0ff3569acf0b6b0860eac0089480603e",
     "grade": false,
     "grade_id": "generate_sequences_code",
     "locked": true,
     "schema_version": 1,
     "solution": false
    }
   },
   "outputs": [],
   "source": [
    "import itertools\n",
    "from keras.preprocessing.image import array_to_img\n",
    "\n",
    "H = W = 28\n",
    "X, y = np.zeros([NB_TRAIN, H, W*T]), [None]*NB_TRAIN\n",
    "i = 0\n",
    "D = set()\n",
    "while i < NB_TRAIN:\n",
    "    digits = np.random.choice(10, size=T, replace=False)\n",
    "    if tuple(digits) in D:\n",
    "        continue\n",
    "    D.add(tuple(digits))\n",
    "    X[i], y[i] = np.hstack([x for x in X_mnist[digits]]), digits\n",
    "    i += 1 \n",
    "X = np.expand_dims(X, axis=-1)\n",
    "\n",
    "Y = np.zeros([NB_TRAIN, T, 10])\n",
    "for i, ys in enumerate(y):\n",
    "    for j, y_ in enumerate(ys):\n",
    "        Y[i, j, y_] = 1\n",
    "\n",
    "for idx in range(5):\n",
    "    x = X[idx]\n",
    "    img_ = array_to_img(X[idx])\n",
    "    print(y[idx])\n",
    "    display(img_)\n",
    "    \n",
    "X_train, Y_train = X[NB_TRAIN//10:], Y[NB_TRAIN//10:]\n",
    "X_val, Y_val = X[:NB_TRAIN//10], Y[:NB_TRAIN//10]\n",
    "\n",
    "print(X_train.shape, Y_train.shape)\n",
    "print(X_val.shape, Y_val.shape)"
   ]
  },
  {
   "cell_type": "markdown",
   "metadata": {
    "deletable": false,
    "editable": false,
    "nbgrader": {
     "checksum": "b6902c70c3b4c7421bd92508eaa945fe",
     "grade": false,
     "grade_id": "task_define",
     "locked": true,
     "schema_version": 1,
     "solution": false
    }
   },
   "source": [
    "# Task\n",
    "\n",
    "- Define and compile a deep learning model to perform optical character recognition on the MNIST sequence dataset\n",
    "\n",
    "# Requirements\n",
    "\n",
    "- Save your model into a python variable called `model`"
   ]
  },
  {
   "cell_type": "code",
   "execution_count": null,
   "metadata": {
    "collapsed": false,
    "deletable": false,
    "editable": true,
    "nbgrader": {
     "checksum": "fd94563ff019116878ab5d772dcf4081",
     "grade": false,
     "grade_id": "task_solution",
     "locked": false,
     "schema_version": 1,
     "solution": true
    }
   },
   "outputs": [],
   "source": [
    "# YOUR CODE HERE\n",
    "raise NotImplementedError()"
   ]
  },
  {
   "cell_type": "markdown",
   "metadata": {
    "deletable": false,
    "editable": false,
    "nbgrader": {
     "checksum": "097700614c8b0ca5d148c7e295558243",
     "grade": false,
     "grade_id": "model_tests_blurb",
     "locked": true,
     "schema_version": 1,
     "solution": false
    }
   },
   "source": [
    "# Model Tests"
   ]
  },
  {
   "cell_type": "code",
   "execution_count": null,
   "metadata": {
    "collapsed": false,
    "deletable": false,
    "editable": false,
    "nbgrader": {
     "checksum": "c4ae3ea2c97ca71cc7cb80551a6daf92",
     "grade": true,
     "grade_id": "task_tests",
     "locked": true,
     "points": 1,
     "schema_version": 1,
     "solution": false
    }
   },
   "outputs": [],
   "source": [
    "assert model.input_shape == (None,) + X[0].shape\n",
    "assert model.output_shape == (None,) + Y[0].shape\n",
    "assert model.count_params() > 100_000\n",
    "assert model.loss == 'categorical_crossentropy'\n",
    "assert model.metrics == ['accuracy']\n",
    "assert model.predict(X[:1])[0].shape == Y[0].shape\n",
    "\n",
    "passed()"
   ]
  },
  {
   "cell_type": "markdown",
   "metadata": {
    "deletable": false,
    "editable": false,
    "nbgrader": {
     "checksum": "d31aa1a63d99f08241aeaa30eebebfee",
     "grade": false,
     "grade_id": "fit_description",
     "locked": true,
     "schema_version": 1,
     "solution": false
    }
   },
   "source": [
    "# Task\n",
    "\n",
    "- Optimize `model` on `X_train` and `Y_train`"
   ]
  },
  {
   "cell_type": "code",
   "execution_count": null,
   "metadata": {
    "collapsed": false,
    "deletable": false,
    "editable": true,
    "nbgrader": {
     "checksum": "febba4af553eb490156a5071d40c5d00",
     "grade": false,
     "grade_id": "fit_solution",
     "locked": false,
     "schema_version": 1,
     "solution": true
    }
   },
   "outputs": [],
   "source": [
    "# YOUR CODE HERE\n",
    "raise NotImplementedError()"
   ]
  },
  {
   "cell_type": "markdown",
   "metadata": {
    "deletable": false,
    "editable": false,
    "nbgrader": {
     "checksum": "c39c8af2d2cc3da2e20cc15ceeff5d8e",
     "grade": false,
     "grade_id": "evaluation_blurb",
     "locked": true,
     "schema_version": 1,
     "solution": false
    }
   },
   "source": [
    "# Performance Tests"
   ]
  },
  {
   "cell_type": "code",
   "execution_count": null,
   "metadata": {
    "collapsed": false,
    "deletable": false,
    "editable": false,
    "nbgrader": {
     "checksum": "2e80895598a4a3ff3753ef3d8676d84b",
     "grade": true,
     "grade_id": "test_gt_10",
     "locked": true,
     "points": 1,
     "schema_version": 1,
     "solution": false
    }
   },
   "outputs": [],
   "source": [
    "loss, acc = model.evaluate(X_val, Y_val)\n",
    "assert acc > 0.10\n",
    "passed()"
   ]
  },
  {
   "cell_type": "code",
   "execution_count": null,
   "metadata": {
    "collapsed": true,
    "deletable": false,
    "editable": false,
    "nbgrader": {
     "checksum": "42886f0d95fe304881bc56cf8aa8a4e9",
     "grade": true,
     "grade_id": "test_gt_15",
     "locked": true,
     "points": 1,
     "schema_version": 1,
     "solution": false
    }
   },
   "outputs": [],
   "source": [
    "loss, acc = model.evaluate(X_val, Y_val)\n",
    "assert acc > 0.15\n",
    "passed()"
   ]
  },
  {
   "cell_type": "code",
   "execution_count": null,
   "metadata": {
    "collapsed": false,
    "deletable": false,
    "editable": false,
    "nbgrader": {
     "checksum": "692a8a44c9f60c79b5e9fd2ce4f924cb",
     "grade": true,
     "grade_id": "test_gt_20",
     "locked": true,
     "points": 1,
     "schema_version": 1,
     "solution": false
    }
   },
   "outputs": [],
   "source": [
    "loss, acc = model.evaluate(X_val, Y_val)\n",
    "assert acc > 0.20\n",
    "passed()"
   ]
  },
  {
   "cell_type": "code",
   "execution_count": null,
   "metadata": {
    "collapsed": false,
    "deletable": false,
    "editable": false,
    "nbgrader": {
     "checksum": "a6af22a3e8400cae99afef35c1e765a9",
     "grade": true,
     "grade_id": "test_gt_25",
     "locked": true,
     "points": 1,
     "schema_version": 1,
     "solution": false
    }
   },
   "outputs": [],
   "source": [
    "loss, acc = model.evaluate(X_val, Y_val)\n",
    "assert acc > 0.25\n",
    "passed()"
   ]
  },
  {
   "cell_type": "code",
   "execution_count": null,
   "metadata": {
    "collapsed": true,
    "deletable": false,
    "editable": false,
    "nbgrader": {
     "checksum": "4cb54e47ca377d740fe3ea4a69eb422c",
     "grade": true,
     "grade_id": "test_gt_30",
     "locked": true,
     "points": 1,
     "schema_version": 1,
     "solution": false
    }
   },
   "outputs": [],
   "source": [
    "loss, acc = model.evaluate(X_val, Y_val)\n",
    "assert acc > 0.30\n",
    "passed()"
   ]
  },
  {
   "cell_type": "code",
   "execution_count": null,
   "metadata": {
    "collapsed": false,
    "deletable": false,
    "editable": false,
    "nbgrader": {
     "checksum": "aedb12ec5334cd718a5facc3c51e79ac",
     "grade": true,
     "grade_id": "test_gt_50",
     "locked": true,
     "points": 1,
     "schema_version": 1,
     "solution": false
    }
   },
   "outputs": [],
   "source": [
    "loss, acc = model.evaluate(X_val, Y_val)\n",
    "assert acc > 0.50\n",
    "passed()"
   ]
  },
  {
   "cell_type": "code",
   "execution_count": null,
   "metadata": {
    "collapsed": false,
    "deletable": false,
    "editable": false,
    "nbgrader": {
     "checksum": "e861d7b5e8c5b195aeb976197c34389e",
     "grade": true,
     "grade_id": "test_gt_75",
     "locked": true,
     "points": 1,
     "schema_version": 1,
     "solution": false
    }
   },
   "outputs": [],
   "source": [
    "loss, acc = model.evaluate(X_val, Y_val)\n",
    "assert acc > 0.75\n",
    "passed()"
   ]
  },
  {
   "cell_type": "code",
   "execution_count": null,
   "metadata": {
    "collapsed": true,
    "deletable": false,
    "editable": false,
    "nbgrader": {
     "checksum": "36e6f16f5491c81f368220f41ffd8e15",
     "grade": true,
     "grade_id": "test_gt_90",
     "locked": true,
     "points": 1,
     "schema_version": 1,
     "solution": false
    }
   },
   "outputs": [],
   "source": [
    "loss, acc = model.evaluate(X_val, Y_val)\n",
    "assert acc > 0.90\n",
    "passed()"
   ]
  }
 ],
 "metadata": {
  "hide_input": false,
  "kernelspec": {
   "display_name": "Python 3",
   "language": "python",
   "name": "python3"
  },
  "language_info": {
   "codemirror_mode": {
    "name": "ipython",
    "version": 3
   },
   "file_extension": ".py",
   "mimetype": "text/x-python",
   "name": "python",
   "nbconvert_exporter": "python",
   "pygments_lexer": "ipython3",
   "version": "3.6.1"
  }
 },
 "nbformat": 4,
 "nbformat_minor": 2
}
